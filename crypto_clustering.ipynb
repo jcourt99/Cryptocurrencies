{
 "cells": [
  {
   "cell_type": "markdown",
   "metadata": {},
   "source": [
    "# Clustering Crypto"
   ]
  },
  {
   "cell_type": "code",
   "execution_count": 32,
   "metadata": {},
   "outputs": [],
   "source": [
    "# Initial imports\n",
    "import pandas as pd\n",
    "from path import Path\n",
    "\n",
    "from sklearn.preprocessing import StandardScaler, MinMaxScaler\n",
    "from sklearn.decomposition import PCA\n",
    "from sklearn.cluster import KMeans\n",
    "import plotly.express as px\n",
    "import hvplot.pandas\n"
   ]
  },
  {
   "cell_type": "markdown",
   "metadata": {},
   "source": [
    "### Deliverable 1: Preprocessing the Data for PCA"
   ]
  },
  {
   "cell_type": "code",
   "execution_count": 33,
   "metadata": {},
   "outputs": [
    {
     "data": {
      "text/html": [
       "<div>\n",
       "<style scoped>\n",
       "    .dataframe tbody tr th:only-of-type {\n",
       "        vertical-align: middle;\n",
       "    }\n",
       "\n",
       "    .dataframe tbody tr th {\n",
       "        vertical-align: top;\n",
       "    }\n",
       "\n",
       "    .dataframe thead th {\n",
       "        text-align: right;\n",
       "    }\n",
       "</style>\n",
       "<table border=\"1\" class=\"dataframe\">\n",
       "  <thead>\n",
       "    <tr style=\"text-align: right;\">\n",
       "      <th></th>\n",
       "      <th>CoinName</th>\n",
       "      <th>Algorithm</th>\n",
       "      <th>IsTrading</th>\n",
       "      <th>ProofType</th>\n",
       "      <th>TotalCoinsMined</th>\n",
       "      <th>TotalCoinSupply</th>\n",
       "    </tr>\n",
       "  </thead>\n",
       "  <tbody>\n",
       "    <tr>\n",
       "      <th>42</th>\n",
       "      <td>42 Coin</td>\n",
       "      <td>Scrypt</td>\n",
       "      <td>True</td>\n",
       "      <td>PoW/PoS</td>\n",
       "      <td>4.199995e+01</td>\n",
       "      <td>42</td>\n",
       "    </tr>\n",
       "    <tr>\n",
       "      <th>365</th>\n",
       "      <td>365Coin</td>\n",
       "      <td>X11</td>\n",
       "      <td>True</td>\n",
       "      <td>PoW/PoS</td>\n",
       "      <td>NaN</td>\n",
       "      <td>2300000000</td>\n",
       "    </tr>\n",
       "    <tr>\n",
       "      <th>404</th>\n",
       "      <td>404Coin</td>\n",
       "      <td>Scrypt</td>\n",
       "      <td>True</td>\n",
       "      <td>PoW/PoS</td>\n",
       "      <td>1.055185e+09</td>\n",
       "      <td>532000000</td>\n",
       "    </tr>\n",
       "    <tr>\n",
       "      <th>611</th>\n",
       "      <td>SixEleven</td>\n",
       "      <td>SHA-256</td>\n",
       "      <td>True</td>\n",
       "      <td>PoW</td>\n",
       "      <td>NaN</td>\n",
       "      <td>611000</td>\n",
       "    </tr>\n",
       "    <tr>\n",
       "      <th>808</th>\n",
       "      <td>808</td>\n",
       "      <td>SHA-256</td>\n",
       "      <td>True</td>\n",
       "      <td>PoW/PoS</td>\n",
       "      <td>0.000000e+00</td>\n",
       "      <td>0</td>\n",
       "    </tr>\n",
       "  </tbody>\n",
       "</table>\n",
       "</div>"
      ],
      "text/plain": [
       "      CoinName Algorithm  IsTrading ProofType  TotalCoinsMined TotalCoinSupply\n",
       "42     42 Coin    Scrypt       True   PoW/PoS     4.199995e+01              42\n",
       "365    365Coin       X11       True   PoW/PoS              NaN      2300000000\n",
       "404    404Coin    Scrypt       True   PoW/PoS     1.055185e+09       532000000\n",
       "611  SixEleven   SHA-256       True       PoW              NaN          611000\n",
       "808        808   SHA-256       True   PoW/PoS     0.000000e+00               0"
      ]
     },
     "execution_count": 33,
     "metadata": {},
     "output_type": "execute_result"
    }
   ],
   "source": [
    "# Load the crypto_data.csv dataset.\n",
    "file_path = \"C://Users/m143795/Desktop/Class/crypto_data.csv\"\n",
    "crypto_df = pd.read_csv(file_path, index_col=0)\n",
    "crypto_df.head()"
   ]
  },
  {
   "cell_type": "code",
   "execution_count": 34,
   "metadata": {},
   "outputs": [
    {
     "data": {
      "text/plain": [
       "1252"
      ]
     },
     "execution_count": 34,
     "metadata": {},
     "output_type": "execute_result"
    }
   ],
   "source": [
    "len(crypto_df)"
   ]
  },
  {
   "cell_type": "code",
   "execution_count": 35,
   "metadata": {},
   "outputs": [
    {
     "data": {
      "text/html": [
       "<div>\n",
       "<style scoped>\n",
       "    .dataframe tbody tr th:only-of-type {\n",
       "        vertical-align: middle;\n",
       "    }\n",
       "\n",
       "    .dataframe tbody tr th {\n",
       "        vertical-align: top;\n",
       "    }\n",
       "\n",
       "    .dataframe thead th {\n",
       "        text-align: right;\n",
       "    }\n",
       "</style>\n",
       "<table border=\"1\" class=\"dataframe\">\n",
       "  <thead>\n",
       "    <tr style=\"text-align: right;\">\n",
       "      <th></th>\n",
       "      <th>CoinName</th>\n",
       "      <th>Algorithm</th>\n",
       "      <th>IsTrading</th>\n",
       "      <th>ProofType</th>\n",
       "      <th>TotalCoinsMined</th>\n",
       "      <th>TotalCoinSupply</th>\n",
       "    </tr>\n",
       "  </thead>\n",
       "  <tbody>\n",
       "    <tr>\n",
       "      <th>42</th>\n",
       "      <td>42 Coin</td>\n",
       "      <td>Scrypt</td>\n",
       "      <td>True</td>\n",
       "      <td>PoW/PoS</td>\n",
       "      <td>4.199995e+01</td>\n",
       "      <td>42</td>\n",
       "    </tr>\n",
       "    <tr>\n",
       "      <th>365</th>\n",
       "      <td>365Coin</td>\n",
       "      <td>X11</td>\n",
       "      <td>True</td>\n",
       "      <td>PoW/PoS</td>\n",
       "      <td>NaN</td>\n",
       "      <td>2300000000</td>\n",
       "    </tr>\n",
       "    <tr>\n",
       "      <th>404</th>\n",
       "      <td>404Coin</td>\n",
       "      <td>Scrypt</td>\n",
       "      <td>True</td>\n",
       "      <td>PoW/PoS</td>\n",
       "      <td>1.055185e+09</td>\n",
       "      <td>532000000</td>\n",
       "    </tr>\n",
       "    <tr>\n",
       "      <th>611</th>\n",
       "      <td>SixEleven</td>\n",
       "      <td>SHA-256</td>\n",
       "      <td>True</td>\n",
       "      <td>PoW</td>\n",
       "      <td>NaN</td>\n",
       "      <td>611000</td>\n",
       "    </tr>\n",
       "    <tr>\n",
       "      <th>808</th>\n",
       "      <td>808</td>\n",
       "      <td>SHA-256</td>\n",
       "      <td>True</td>\n",
       "      <td>PoW/PoS</td>\n",
       "      <td>0.000000e+00</td>\n",
       "      <td>0</td>\n",
       "    </tr>\n",
       "  </tbody>\n",
       "</table>\n",
       "</div>"
      ],
      "text/plain": [
       "      CoinName Algorithm  IsTrading ProofType  TotalCoinsMined TotalCoinSupply\n",
       "42     42 Coin    Scrypt       True   PoW/PoS     4.199995e+01              42\n",
       "365    365Coin       X11       True   PoW/PoS              NaN      2300000000\n",
       "404    404Coin    Scrypt       True   PoW/PoS     1.055185e+09       532000000\n",
       "611  SixEleven   SHA-256       True       PoW              NaN          611000\n",
       "808        808   SHA-256       True   PoW/PoS     0.000000e+00               0"
      ]
     },
     "execution_count": 35,
     "metadata": {},
     "output_type": "execute_result"
    }
   ],
   "source": [
    "# Keep all the cryptocurrencies that are being traded.\n",
    "crypto_df = crypto_df[crypto_df[\"IsTrading\"] == True]\n",
    "crypto_df.head()"
   ]
  },
  {
   "cell_type": "code",
   "execution_count": 36,
   "metadata": {},
   "outputs": [
    {
     "data": {
      "text/html": [
       "<div>\n",
       "<style scoped>\n",
       "    .dataframe tbody tr th:only-of-type {\n",
       "        vertical-align: middle;\n",
       "    }\n",
       "\n",
       "    .dataframe tbody tr th {\n",
       "        vertical-align: top;\n",
       "    }\n",
       "\n",
       "    .dataframe thead th {\n",
       "        text-align: right;\n",
       "    }\n",
       "</style>\n",
       "<table border=\"1\" class=\"dataframe\">\n",
       "  <thead>\n",
       "    <tr style=\"text-align: right;\">\n",
       "      <th></th>\n",
       "      <th>CoinName</th>\n",
       "      <th>Algorithm</th>\n",
       "      <th>ProofType</th>\n",
       "      <th>TotalCoinsMined</th>\n",
       "      <th>TotalCoinSupply</th>\n",
       "    </tr>\n",
       "  </thead>\n",
       "  <tbody>\n",
       "    <tr>\n",
       "      <th>42</th>\n",
       "      <td>42 Coin</td>\n",
       "      <td>Scrypt</td>\n",
       "      <td>PoW/PoS</td>\n",
       "      <td>4.199995e+01</td>\n",
       "      <td>42</td>\n",
       "    </tr>\n",
       "    <tr>\n",
       "      <th>365</th>\n",
       "      <td>365Coin</td>\n",
       "      <td>X11</td>\n",
       "      <td>PoW/PoS</td>\n",
       "      <td>NaN</td>\n",
       "      <td>2300000000</td>\n",
       "    </tr>\n",
       "    <tr>\n",
       "      <th>404</th>\n",
       "      <td>404Coin</td>\n",
       "      <td>Scrypt</td>\n",
       "      <td>PoW/PoS</td>\n",
       "      <td>1.055185e+09</td>\n",
       "      <td>532000000</td>\n",
       "    </tr>\n",
       "    <tr>\n",
       "      <th>611</th>\n",
       "      <td>SixEleven</td>\n",
       "      <td>SHA-256</td>\n",
       "      <td>PoW</td>\n",
       "      <td>NaN</td>\n",
       "      <td>611000</td>\n",
       "    </tr>\n",
       "    <tr>\n",
       "      <th>808</th>\n",
       "      <td>808</td>\n",
       "      <td>SHA-256</td>\n",
       "      <td>PoW/PoS</td>\n",
       "      <td>0.000000e+00</td>\n",
       "      <td>0</td>\n",
       "    </tr>\n",
       "  </tbody>\n",
       "</table>\n",
       "</div>"
      ],
      "text/plain": [
       "      CoinName Algorithm ProofType  TotalCoinsMined TotalCoinSupply\n",
       "42     42 Coin    Scrypt   PoW/PoS     4.199995e+01              42\n",
       "365    365Coin       X11   PoW/PoS              NaN      2300000000\n",
       "404    404Coin    Scrypt   PoW/PoS     1.055185e+09       532000000\n",
       "611  SixEleven   SHA-256       PoW              NaN          611000\n",
       "808        808   SHA-256   PoW/PoS     0.000000e+00               0"
      ]
     },
     "execution_count": 36,
     "metadata": {},
     "output_type": "execute_result"
    }
   ],
   "source": [
    "# Remove the \"IsTrading\" column. \n",
    "crypto_df.drop(columns=[\"IsTrading\"], inplace=True)\n",
    "crypto_df.head()"
   ]
  },
  {
   "cell_type": "code",
   "execution_count": 37,
   "metadata": {},
   "outputs": [
    {
     "data": {
      "text/html": [
       "<div>\n",
       "<style scoped>\n",
       "    .dataframe tbody tr th:only-of-type {\n",
       "        vertical-align: middle;\n",
       "    }\n",
       "\n",
       "    .dataframe tbody tr th {\n",
       "        vertical-align: top;\n",
       "    }\n",
       "\n",
       "    .dataframe thead th {\n",
       "        text-align: right;\n",
       "    }\n",
       "</style>\n",
       "<table border=\"1\" class=\"dataframe\">\n",
       "  <thead>\n",
       "    <tr style=\"text-align: right;\">\n",
       "      <th></th>\n",
       "      <th>CoinName</th>\n",
       "      <th>Algorithm</th>\n",
       "      <th>ProofType</th>\n",
       "      <th>TotalCoinsMined</th>\n",
       "      <th>TotalCoinSupply</th>\n",
       "    </tr>\n",
       "  </thead>\n",
       "  <tbody>\n",
       "    <tr>\n",
       "      <th>42</th>\n",
       "      <td>42 Coin</td>\n",
       "      <td>Scrypt</td>\n",
       "      <td>PoW/PoS</td>\n",
       "      <td>4.199995e+01</td>\n",
       "      <td>42</td>\n",
       "    </tr>\n",
       "    <tr>\n",
       "      <th>404</th>\n",
       "      <td>404Coin</td>\n",
       "      <td>Scrypt</td>\n",
       "      <td>PoW/PoS</td>\n",
       "      <td>1.055185e+09</td>\n",
       "      <td>532000000</td>\n",
       "    </tr>\n",
       "    <tr>\n",
       "      <th>808</th>\n",
       "      <td>808</td>\n",
       "      <td>SHA-256</td>\n",
       "      <td>PoW/PoS</td>\n",
       "      <td>0.000000e+00</td>\n",
       "      <td>0</td>\n",
       "    </tr>\n",
       "    <tr>\n",
       "      <th>1337</th>\n",
       "      <td>EliteCoin</td>\n",
       "      <td>X13</td>\n",
       "      <td>PoW/PoS</td>\n",
       "      <td>2.927942e+10</td>\n",
       "      <td>314159265359</td>\n",
       "    </tr>\n",
       "    <tr>\n",
       "      <th>BTC</th>\n",
       "      <td>Bitcoin</td>\n",
       "      <td>SHA-256</td>\n",
       "      <td>PoW</td>\n",
       "      <td>1.792718e+07</td>\n",
       "      <td>21000000</td>\n",
       "    </tr>\n",
       "  </tbody>\n",
       "</table>\n",
       "</div>"
      ],
      "text/plain": [
       "       CoinName Algorithm ProofType  TotalCoinsMined TotalCoinSupply\n",
       "42      42 Coin    Scrypt   PoW/PoS     4.199995e+01              42\n",
       "404     404Coin    Scrypt   PoW/PoS     1.055185e+09       532000000\n",
       "808         808   SHA-256   PoW/PoS     0.000000e+00               0\n",
       "1337  EliteCoin       X13   PoW/PoS     2.927942e+10    314159265359\n",
       "BTC     Bitcoin   SHA-256       PoW     1.792718e+07        21000000"
      ]
     },
     "execution_count": 37,
     "metadata": {},
     "output_type": "execute_result"
    }
   ],
   "source": [
    "# Remove rows that have at least 1 null value.\n",
    "crypto_df = crypto_df.dropna()\n",
    "crypto_df.head()"
   ]
  },
  {
   "cell_type": "code",
   "execution_count": 38,
   "metadata": {},
   "outputs": [
    {
     "data": {
      "text/html": [
       "<div>\n",
       "<style scoped>\n",
       "    .dataframe tbody tr th:only-of-type {\n",
       "        vertical-align: middle;\n",
       "    }\n",
       "\n",
       "    .dataframe tbody tr th {\n",
       "        vertical-align: top;\n",
       "    }\n",
       "\n",
       "    .dataframe thead th {\n",
       "        text-align: right;\n",
       "    }\n",
       "</style>\n",
       "<table border=\"1\" class=\"dataframe\">\n",
       "  <thead>\n",
       "    <tr style=\"text-align: right;\">\n",
       "      <th></th>\n",
       "      <th>CoinName</th>\n",
       "      <th>Algorithm</th>\n",
       "      <th>ProofType</th>\n",
       "      <th>TotalCoinsMined</th>\n",
       "      <th>TotalCoinSupply</th>\n",
       "    </tr>\n",
       "  </thead>\n",
       "  <tbody>\n",
       "    <tr>\n",
       "      <th>42</th>\n",
       "      <td>42 Coin</td>\n",
       "      <td>Scrypt</td>\n",
       "      <td>PoW/PoS</td>\n",
       "      <td>4.199995e+01</td>\n",
       "      <td>42</td>\n",
       "    </tr>\n",
       "    <tr>\n",
       "      <th>404</th>\n",
       "      <td>404Coin</td>\n",
       "      <td>Scrypt</td>\n",
       "      <td>PoW/PoS</td>\n",
       "      <td>1.055185e+09</td>\n",
       "      <td>532000000</td>\n",
       "    </tr>\n",
       "    <tr>\n",
       "      <th>1337</th>\n",
       "      <td>EliteCoin</td>\n",
       "      <td>X13</td>\n",
       "      <td>PoW/PoS</td>\n",
       "      <td>2.927942e+10</td>\n",
       "      <td>314159265359</td>\n",
       "    </tr>\n",
       "    <tr>\n",
       "      <th>BTC</th>\n",
       "      <td>Bitcoin</td>\n",
       "      <td>SHA-256</td>\n",
       "      <td>PoW</td>\n",
       "      <td>1.792718e+07</td>\n",
       "      <td>21000000</td>\n",
       "    </tr>\n",
       "    <tr>\n",
       "      <th>ETH</th>\n",
       "      <td>Ethereum</td>\n",
       "      <td>Ethash</td>\n",
       "      <td>PoW</td>\n",
       "      <td>1.076842e+08</td>\n",
       "      <td>0</td>\n",
       "    </tr>\n",
       "  </tbody>\n",
       "</table>\n",
       "</div>"
      ],
      "text/plain": [
       "       CoinName Algorithm ProofType  TotalCoinsMined TotalCoinSupply\n",
       "42      42 Coin    Scrypt   PoW/PoS     4.199995e+01              42\n",
       "404     404Coin    Scrypt   PoW/PoS     1.055185e+09       532000000\n",
       "1337  EliteCoin       X13   PoW/PoS     2.927942e+10    314159265359\n",
       "BTC     Bitcoin   SHA-256       PoW     1.792718e+07        21000000\n",
       "ETH    Ethereum    Ethash       PoW     1.076842e+08               0"
      ]
     },
     "execution_count": 38,
     "metadata": {},
     "output_type": "execute_result"
    }
   ],
   "source": [
    "# Keep the rows where coins are mined.\n",
    "crypto_df = crypto_df[crypto_df[\"TotalCoinsMined\"] > 0]\n",
    "crypto_df.head()"
   ]
  },
  {
   "cell_type": "code",
   "execution_count": 39,
   "metadata": {},
   "outputs": [
    {
     "data": {
      "text/html": [
       "<div>\n",
       "<style scoped>\n",
       "    .dataframe tbody tr th:only-of-type {\n",
       "        vertical-align: middle;\n",
       "    }\n",
       "\n",
       "    .dataframe tbody tr th {\n",
       "        vertical-align: top;\n",
       "    }\n",
       "\n",
       "    .dataframe thead th {\n",
       "        text-align: right;\n",
       "    }\n",
       "</style>\n",
       "<table border=\"1\" class=\"dataframe\">\n",
       "  <thead>\n",
       "    <tr style=\"text-align: right;\">\n",
       "      <th></th>\n",
       "      <th>CoinName</th>\n",
       "    </tr>\n",
       "  </thead>\n",
       "  <tbody>\n",
       "    <tr>\n",
       "      <th>42</th>\n",
       "      <td>42 Coin</td>\n",
       "    </tr>\n",
       "    <tr>\n",
       "      <th>404</th>\n",
       "      <td>404Coin</td>\n",
       "    </tr>\n",
       "    <tr>\n",
       "      <th>1337</th>\n",
       "      <td>EliteCoin</td>\n",
       "    </tr>\n",
       "    <tr>\n",
       "      <th>BTC</th>\n",
       "      <td>Bitcoin</td>\n",
       "    </tr>\n",
       "    <tr>\n",
       "      <th>ETH</th>\n",
       "      <td>Ethereum</td>\n",
       "    </tr>\n",
       "  </tbody>\n",
       "</table>\n",
       "</div>"
      ],
      "text/plain": [
       "       CoinName\n",
       "42      42 Coin\n",
       "404     404Coin\n",
       "1337  EliteCoin\n",
       "BTC     Bitcoin\n",
       "ETH    Ethereum"
      ]
     },
     "execution_count": 39,
     "metadata": {},
     "output_type": "execute_result"
    }
   ],
   "source": [
    "# Create a new DataFrame that holds only the cryptocurrencies names.\n",
    "CoinName_df = crypto_df[[\"CoinName\"]].copy()\n",
    "CoinName_df.head()"
   ]
  },
  {
   "cell_type": "code",
   "execution_count": 40,
   "metadata": {},
   "outputs": [
    {
     "data": {
      "text/html": [
       "<div>\n",
       "<style scoped>\n",
       "    .dataframe tbody tr th:only-of-type {\n",
       "        vertical-align: middle;\n",
       "    }\n",
       "\n",
       "    .dataframe tbody tr th {\n",
       "        vertical-align: top;\n",
       "    }\n",
       "\n",
       "    .dataframe thead th {\n",
       "        text-align: right;\n",
       "    }\n",
       "</style>\n",
       "<table border=\"1\" class=\"dataframe\">\n",
       "  <thead>\n",
       "    <tr style=\"text-align: right;\">\n",
       "      <th></th>\n",
       "      <th>Algorithm</th>\n",
       "      <th>ProofType</th>\n",
       "      <th>TotalCoinsMined</th>\n",
       "      <th>TotalCoinSupply</th>\n",
       "    </tr>\n",
       "  </thead>\n",
       "  <tbody>\n",
       "    <tr>\n",
       "      <th>42</th>\n",
       "      <td>Scrypt</td>\n",
       "      <td>PoW/PoS</td>\n",
       "      <td>4.199995e+01</td>\n",
       "      <td>42</td>\n",
       "    </tr>\n",
       "    <tr>\n",
       "      <th>404</th>\n",
       "      <td>Scrypt</td>\n",
       "      <td>PoW/PoS</td>\n",
       "      <td>1.055185e+09</td>\n",
       "      <td>532000000</td>\n",
       "    </tr>\n",
       "    <tr>\n",
       "      <th>1337</th>\n",
       "      <td>X13</td>\n",
       "      <td>PoW/PoS</td>\n",
       "      <td>2.927942e+10</td>\n",
       "      <td>314159265359</td>\n",
       "    </tr>\n",
       "    <tr>\n",
       "      <th>BTC</th>\n",
       "      <td>SHA-256</td>\n",
       "      <td>PoW</td>\n",
       "      <td>1.792718e+07</td>\n",
       "      <td>21000000</td>\n",
       "    </tr>\n",
       "    <tr>\n",
       "      <th>ETH</th>\n",
       "      <td>Ethash</td>\n",
       "      <td>PoW</td>\n",
       "      <td>1.076842e+08</td>\n",
       "      <td>0</td>\n",
       "    </tr>\n",
       "  </tbody>\n",
       "</table>\n",
       "</div>"
      ],
      "text/plain": [
       "     Algorithm ProofType  TotalCoinsMined TotalCoinSupply\n",
       "42      Scrypt   PoW/PoS     4.199995e+01              42\n",
       "404     Scrypt   PoW/PoS     1.055185e+09       532000000\n",
       "1337       X13   PoW/PoS     2.927942e+10    314159265359\n",
       "BTC    SHA-256       PoW     1.792718e+07        21000000\n",
       "ETH     Ethash       PoW     1.076842e+08               0"
      ]
     },
     "execution_count": 40,
     "metadata": {},
     "output_type": "execute_result"
    }
   ],
   "source": [
    "# Drop the 'CoinName' column since it's not going to be used on the clustering algorithm.\n",
    "crypto_df.drop(columns=[\"CoinName\"], inplace=True)\n",
    "crypto_df.head()"
   ]
  },
  {
   "cell_type": "code",
   "execution_count": 41,
   "metadata": {},
   "outputs": [
    {
     "data": {
      "text/html": [
       "<div>\n",
       "<style scoped>\n",
       "    .dataframe tbody tr th:only-of-type {\n",
       "        vertical-align: middle;\n",
       "    }\n",
       "\n",
       "    .dataframe tbody tr th {\n",
       "        vertical-align: top;\n",
       "    }\n",
       "\n",
       "    .dataframe thead th {\n",
       "        text-align: right;\n",
       "    }\n",
       "</style>\n",
       "<table border=\"1\" class=\"dataframe\">\n",
       "  <thead>\n",
       "    <tr style=\"text-align: right;\">\n",
       "      <th></th>\n",
       "      <th>TotalCoinsMined</th>\n",
       "      <th>TotalCoinSupply</th>\n",
       "      <th>Algorithm_1GB AES Pattern Search</th>\n",
       "      <th>Algorithm_536</th>\n",
       "      <th>Algorithm_Argon2d</th>\n",
       "      <th>Algorithm_BLAKE256</th>\n",
       "      <th>Algorithm_Blake</th>\n",
       "      <th>Algorithm_Blake2S</th>\n",
       "      <th>Algorithm_Blake2b</th>\n",
       "      <th>Algorithm_C11</th>\n",
       "      <th>...</th>\n",
       "      <th>ProofType_PoW/PoS</th>\n",
       "      <th>ProofType_PoW/PoS</th>\n",
       "      <th>ProofType_PoW/PoW</th>\n",
       "      <th>ProofType_PoW/nPoS</th>\n",
       "      <th>ProofType_Pos</th>\n",
       "      <th>ProofType_Proof of Authority</th>\n",
       "      <th>ProofType_Proof of Trust</th>\n",
       "      <th>ProofType_TPoS</th>\n",
       "      <th>ProofType_Zero-Knowledge Proof</th>\n",
       "      <th>ProofType_dPoW/PoW</th>\n",
       "    </tr>\n",
       "  </thead>\n",
       "  <tbody>\n",
       "    <tr>\n",
       "      <th>42</th>\n",
       "      <td>4.199995e+01</td>\n",
       "      <td>42</td>\n",
       "      <td>0</td>\n",
       "      <td>0</td>\n",
       "      <td>0</td>\n",
       "      <td>0</td>\n",
       "      <td>0</td>\n",
       "      <td>0</td>\n",
       "      <td>0</td>\n",
       "      <td>0</td>\n",
       "      <td>...</td>\n",
       "      <td>1</td>\n",
       "      <td>0</td>\n",
       "      <td>0</td>\n",
       "      <td>0</td>\n",
       "      <td>0</td>\n",
       "      <td>0</td>\n",
       "      <td>0</td>\n",
       "      <td>0</td>\n",
       "      <td>0</td>\n",
       "      <td>0</td>\n",
       "    </tr>\n",
       "    <tr>\n",
       "      <th>404</th>\n",
       "      <td>1.055185e+09</td>\n",
       "      <td>532000000</td>\n",
       "      <td>0</td>\n",
       "      <td>0</td>\n",
       "      <td>0</td>\n",
       "      <td>0</td>\n",
       "      <td>0</td>\n",
       "      <td>0</td>\n",
       "      <td>0</td>\n",
       "      <td>0</td>\n",
       "      <td>...</td>\n",
       "      <td>1</td>\n",
       "      <td>0</td>\n",
       "      <td>0</td>\n",
       "      <td>0</td>\n",
       "      <td>0</td>\n",
       "      <td>0</td>\n",
       "      <td>0</td>\n",
       "      <td>0</td>\n",
       "      <td>0</td>\n",
       "      <td>0</td>\n",
       "    </tr>\n",
       "    <tr>\n",
       "      <th>1337</th>\n",
       "      <td>2.927942e+10</td>\n",
       "      <td>314159265359</td>\n",
       "      <td>0</td>\n",
       "      <td>0</td>\n",
       "      <td>0</td>\n",
       "      <td>0</td>\n",
       "      <td>0</td>\n",
       "      <td>0</td>\n",
       "      <td>0</td>\n",
       "      <td>0</td>\n",
       "      <td>...</td>\n",
       "      <td>1</td>\n",
       "      <td>0</td>\n",
       "      <td>0</td>\n",
       "      <td>0</td>\n",
       "      <td>0</td>\n",
       "      <td>0</td>\n",
       "      <td>0</td>\n",
       "      <td>0</td>\n",
       "      <td>0</td>\n",
       "      <td>0</td>\n",
       "    </tr>\n",
       "    <tr>\n",
       "      <th>BTC</th>\n",
       "      <td>1.792718e+07</td>\n",
       "      <td>21000000</td>\n",
       "      <td>0</td>\n",
       "      <td>0</td>\n",
       "      <td>0</td>\n",
       "      <td>0</td>\n",
       "      <td>0</td>\n",
       "      <td>0</td>\n",
       "      <td>0</td>\n",
       "      <td>0</td>\n",
       "      <td>...</td>\n",
       "      <td>0</td>\n",
       "      <td>0</td>\n",
       "      <td>0</td>\n",
       "      <td>0</td>\n",
       "      <td>0</td>\n",
       "      <td>0</td>\n",
       "      <td>0</td>\n",
       "      <td>0</td>\n",
       "      <td>0</td>\n",
       "      <td>0</td>\n",
       "    </tr>\n",
       "    <tr>\n",
       "      <th>ETH</th>\n",
       "      <td>1.076842e+08</td>\n",
       "      <td>0</td>\n",
       "      <td>0</td>\n",
       "      <td>0</td>\n",
       "      <td>0</td>\n",
       "      <td>0</td>\n",
       "      <td>0</td>\n",
       "      <td>0</td>\n",
       "      <td>0</td>\n",
       "      <td>0</td>\n",
       "      <td>...</td>\n",
       "      <td>0</td>\n",
       "      <td>0</td>\n",
       "      <td>0</td>\n",
       "      <td>0</td>\n",
       "      <td>0</td>\n",
       "      <td>0</td>\n",
       "      <td>0</td>\n",
       "      <td>0</td>\n",
       "      <td>0</td>\n",
       "      <td>0</td>\n",
       "    </tr>\n",
       "  </tbody>\n",
       "</table>\n",
       "<p>5 rows × 98 columns</p>\n",
       "</div>"
      ],
      "text/plain": [
       "      TotalCoinsMined TotalCoinSupply  Algorithm_1GB AES Pattern Search  \\\n",
       "42       4.199995e+01              42                                 0   \n",
       "404      1.055185e+09       532000000                                 0   \n",
       "1337     2.927942e+10    314159265359                                 0   \n",
       "BTC      1.792718e+07        21000000                                 0   \n",
       "ETH      1.076842e+08               0                                 0   \n",
       "\n",
       "      Algorithm_536  Algorithm_Argon2d  Algorithm_BLAKE256  Algorithm_Blake  \\\n",
       "42                0                  0                   0                0   \n",
       "404               0                  0                   0                0   \n",
       "1337              0                  0                   0                0   \n",
       "BTC               0                  0                   0                0   \n",
       "ETH               0                  0                   0                0   \n",
       "\n",
       "      Algorithm_Blake2S  Algorithm_Blake2b  Algorithm_C11  ...  \\\n",
       "42                    0                  0              0  ...   \n",
       "404                   0                  0              0  ...   \n",
       "1337                  0                  0              0  ...   \n",
       "BTC                   0                  0              0  ...   \n",
       "ETH                   0                  0              0  ...   \n",
       "\n",
       "      ProofType_PoW/PoS  ProofType_PoW/PoS   ProofType_PoW/PoW  \\\n",
       "42                    1                   0                  0   \n",
       "404                   1                   0                  0   \n",
       "1337                  1                   0                  0   \n",
       "BTC                   0                   0                  0   \n",
       "ETH                   0                   0                  0   \n",
       "\n",
       "      ProofType_PoW/nPoS  ProofType_Pos  ProofType_Proof of Authority  \\\n",
       "42                     0              0                             0   \n",
       "404                    0              0                             0   \n",
       "1337                   0              0                             0   \n",
       "BTC                    0              0                             0   \n",
       "ETH                    0              0                             0   \n",
       "\n",
       "      ProofType_Proof of Trust  ProofType_TPoS  \\\n",
       "42                           0               0   \n",
       "404                          0               0   \n",
       "1337                         0               0   \n",
       "BTC                          0               0   \n",
       "ETH                          0               0   \n",
       "\n",
       "      ProofType_Zero-Knowledge Proof  ProofType_dPoW/PoW  \n",
       "42                                 0                   0  \n",
       "404                                0                   0  \n",
       "1337                               0                   0  \n",
       "BTC                                0                   0  \n",
       "ETH                                0                   0  \n",
       "\n",
       "[5 rows x 98 columns]"
      ]
     },
     "execution_count": 41,
     "metadata": {},
     "output_type": "execute_result"
    }
   ],
   "source": [
    "# Use get_dummies() to create variables for text features.\n",
    "X = pd.get_dummies(crypto_df, columns=[\"Algorithm\",\"ProofType\"])\n",
    "X.head()"
   ]
  },
  {
   "cell_type": "code",
   "execution_count": 42,
   "metadata": {},
   "outputs": [
    {
     "name": "stdout",
     "output_type": "stream",
     "text": [
      "[[-0.11710817 -0.1528703  -0.0433963  -0.0433963  -0.0433963  -0.06142951\n",
      "  -0.07530656 -0.0433963  -0.06142951 -0.06142951 -0.0433963  -0.0433963\n",
      "  -0.19245009 -0.06142951 -0.09740465 -0.0433963  -0.11547005 -0.07530656\n",
      "  -0.0433963  -0.0433963  -0.15191091 -0.0433963  -0.13118084 -0.0433963\n",
      "  -0.0433963  -0.08703883 -0.0433963  -0.0433963  -0.0433963  -0.0433963\n",
      "  -0.06142951 -0.0433963  -0.08703883 -0.08703883 -0.08703883 -0.0433963\n",
      "  -0.13118084 -0.13840913 -0.13840913 -0.0433963  -0.06142951 -0.0433963\n",
      "  -0.07530656 -0.18168574 -0.0433963  -0.0433963  -0.0433963  -0.07530656\n",
      "  -0.15826614 -0.31491833 -0.0433963  -0.08703883 -0.07530656 -0.06142951\n",
      "   1.38675049 -0.0433963  -0.0433963  -0.06142951 -0.0433963  -0.0433963\n",
      "  -0.0433963  -0.0433963  -0.0433963  -0.0433963  -0.0433963  -0.0433963\n",
      "  -0.39879994 -0.0433963  -0.18168574 -0.0433963  -0.08703883 -0.08703883\n",
      "  -0.10680283 -0.0433963  -0.13118084 -0.0433963  -0.0433963  -0.0433963\n",
      "  -0.0433963  -0.07530656 -0.43911856 -0.0433963  -0.06142951 -0.0433963\n",
      "  -0.0433963  -0.89632016 -0.0433963  -0.0433963   1.42222617 -0.0433963\n",
      "  -0.0433963  -0.0433963  -0.0433963  -0.0433963  -0.0433963  -0.0433963\n",
      "  -0.0433963  -0.0433963 ]\n",
      " [-0.09396955 -0.145009   -0.0433963  -0.0433963  -0.0433963  -0.06142951\n",
      "  -0.07530656 -0.0433963  -0.06142951 -0.06142951 -0.0433963  -0.0433963\n",
      "  -0.19245009 -0.06142951 -0.09740465 -0.0433963  -0.11547005 -0.07530656\n",
      "  -0.0433963  -0.0433963  -0.15191091 -0.0433963  -0.13118084 -0.0433963\n",
      "  -0.0433963  -0.08703883 -0.0433963  -0.0433963  -0.0433963  -0.0433963\n",
      "  -0.06142951 -0.0433963  -0.08703883 -0.08703883 -0.08703883 -0.0433963\n",
      "  -0.13118084 -0.13840913 -0.13840913 -0.0433963  -0.06142951 -0.0433963\n",
      "  -0.07530656 -0.18168574 -0.0433963  -0.0433963  -0.0433963  -0.07530656\n",
      "  -0.15826614 -0.31491833 -0.0433963  -0.08703883 -0.07530656 -0.06142951\n",
      "   1.38675049 -0.0433963  -0.0433963  -0.06142951 -0.0433963  -0.0433963\n",
      "  -0.0433963  -0.0433963  -0.0433963  -0.0433963  -0.0433963  -0.0433963\n",
      "  -0.39879994 -0.0433963  -0.18168574 -0.0433963  -0.08703883 -0.08703883\n",
      "  -0.10680283 -0.0433963  -0.13118084 -0.0433963  -0.0433963  -0.0433963\n",
      "  -0.0433963  -0.07530656 -0.43911856 -0.0433963  -0.06142951 -0.0433963\n",
      "  -0.0433963  -0.89632016 -0.0433963  -0.0433963   1.42222617 -0.0433963\n",
      "  -0.0433963  -0.0433963  -0.0433963  -0.0433963  -0.0433963  -0.0433963\n",
      "  -0.0433963  -0.0433963 ]\n",
      " [ 0.52494561  4.48942416 -0.0433963  -0.0433963  -0.0433963  -0.06142951\n",
      "  -0.07530656 -0.0433963  -0.06142951 -0.06142951 -0.0433963  -0.0433963\n",
      "  -0.19245009 -0.06142951 -0.09740465 -0.0433963  -0.11547005 -0.07530656\n",
      "  -0.0433963  -0.0433963  -0.15191091 -0.0433963  -0.13118084 -0.0433963\n",
      "  -0.0433963  -0.08703883 -0.0433963  -0.0433963  -0.0433963  -0.0433963\n",
      "  -0.06142951 -0.0433963  -0.08703883 -0.08703883 -0.08703883 -0.0433963\n",
      "  -0.13118084 -0.13840913 -0.13840913 -0.0433963  -0.06142951 -0.0433963\n",
      "  -0.07530656 -0.18168574 -0.0433963  -0.0433963  -0.0433963  -0.07530656\n",
      "  -0.15826614 -0.31491833 -0.0433963  -0.08703883 -0.07530656 -0.06142951\n",
      "  -0.72111026 -0.0433963  -0.0433963  -0.06142951 -0.0433963  -0.0433963\n",
      "  -0.0433963  -0.0433963  -0.0433963  -0.0433963  -0.0433963  -0.0433963\n",
      "  -0.39879994 -0.0433963   5.50400923 -0.0433963  -0.08703883 -0.08703883\n",
      "  -0.10680283 -0.0433963  -0.13118084 -0.0433963  -0.0433963  -0.0433963\n",
      "  -0.0433963  -0.07530656 -0.43911856 -0.0433963  -0.06142951 -0.0433963\n",
      "  -0.0433963  -0.89632016 -0.0433963  -0.0433963   1.42222617 -0.0433963\n",
      "  -0.0433963  -0.0433963  -0.0433963  -0.0433963  -0.0433963  -0.0433963\n",
      "  -0.0433963  -0.0433963 ]\n",
      " [-0.11671506 -0.15255998 -0.0433963  -0.0433963  -0.0433963  -0.06142951\n",
      "  -0.07530656 -0.0433963  -0.06142951 -0.06142951 -0.0433963  -0.0433963\n",
      "  -0.19245009 -0.06142951 -0.09740465 -0.0433963  -0.11547005 -0.07530656\n",
      "  -0.0433963  -0.0433963  -0.15191091 -0.0433963  -0.13118084 -0.0433963\n",
      "  -0.0433963  -0.08703883 -0.0433963  -0.0433963  -0.0433963  -0.0433963\n",
      "  -0.06142951 -0.0433963  -0.08703883 -0.08703883 -0.08703883 -0.0433963\n",
      "  -0.13118084 -0.13840913 -0.13840913 -0.0433963  -0.06142951 -0.0433963\n",
      "  -0.07530656 -0.18168574 -0.0433963  -0.0433963  -0.0433963  -0.07530656\n",
      "  -0.15826614  3.17542648 -0.0433963  -0.08703883 -0.07530656 -0.06142951\n",
      "  -0.72111026 -0.0433963  -0.0433963  -0.06142951 -0.0433963  -0.0433963\n",
      "  -0.0433963  -0.0433963  -0.0433963  -0.0433963  -0.0433963  -0.0433963\n",
      "  -0.39879994 -0.0433963  -0.18168574 -0.0433963  -0.08703883 -0.08703883\n",
      "  -0.10680283 -0.0433963  -0.13118084 -0.0433963  -0.0433963  -0.0433963\n",
      "  -0.0433963  -0.07530656 -0.43911856 -0.0433963  -0.06142951 -0.0433963\n",
      "  -0.0433963   1.11567277 -0.0433963  -0.0433963  -0.70312305 -0.0433963\n",
      "  -0.0433963  -0.0433963  -0.0433963  -0.0433963  -0.0433963  -0.0433963\n",
      "  -0.0433963  -0.0433963 ]\n",
      " [-0.11474682 -0.1528703  -0.0433963  -0.0433963  -0.0433963  -0.06142951\n",
      "  -0.07530656 -0.0433963  -0.06142951 -0.06142951 -0.0433963  -0.0433963\n",
      "  -0.19245009 -0.06142951 -0.09740465 -0.0433963  -0.11547005 -0.07530656\n",
      "  -0.0433963  -0.0433963  -0.15191091 -0.0433963   7.62306442 -0.0433963\n",
      "  -0.0433963  -0.08703883 -0.0433963  -0.0433963  -0.0433963  -0.0433963\n",
      "  -0.06142951 -0.0433963  -0.08703883 -0.08703883 -0.08703883 -0.0433963\n",
      "  -0.13118084 -0.13840913 -0.13840913 -0.0433963  -0.06142951 -0.0433963\n",
      "  -0.07530656 -0.18168574 -0.0433963  -0.0433963  -0.0433963  -0.07530656\n",
      "  -0.15826614 -0.31491833 -0.0433963  -0.08703883 -0.07530656 -0.06142951\n",
      "  -0.72111026 -0.0433963  -0.0433963  -0.06142951 -0.0433963  -0.0433963\n",
      "  -0.0433963  -0.0433963  -0.0433963  -0.0433963  -0.0433963  -0.0433963\n",
      "  -0.39879994 -0.0433963  -0.18168574 -0.0433963  -0.08703883 -0.08703883\n",
      "  -0.10680283 -0.0433963  -0.13118084 -0.0433963  -0.0433963  -0.0433963\n",
      "  -0.0433963  -0.07530656 -0.43911856 -0.0433963  -0.06142951 -0.0433963\n",
      "  -0.0433963   1.11567277 -0.0433963  -0.0433963  -0.70312305 -0.0433963\n",
      "  -0.0433963  -0.0433963  -0.0433963  -0.0433963  -0.0433963  -0.0433963\n",
      "  -0.0433963  -0.0433963 ]]\n"
     ]
    }
   ],
   "source": [
    "# Standardize the data with StandardScaler().\n",
    "X_scaled = StandardScaler().fit_transform(X)\n",
    "print(X_scaled[0:5])"
   ]
  },
  {
   "cell_type": "markdown",
   "metadata": {},
   "source": [
    "### Deliverable 2: Reducing Data Dimensions Using PCA"
   ]
  },
  {
   "cell_type": "code",
   "execution_count": 48,
   "metadata": {},
   "outputs": [
    {
     "name": "stdout",
     "output_type": "stream",
     "text": [
      "[[-0.33591171  1.03808001 -0.53273285]\n",
      " [-0.31927071  1.03817015 -0.53325969]\n",
      " [ 2.30574075  1.63431519 -0.59532875]\n",
      " [-0.13849893 -1.31769303  0.14544339]\n",
      " [-0.15779512 -2.10562791  0.29578289]]\n"
     ]
    }
   ],
   "source": [
    "# Using PCA to reduce dimension to three principal components.\n",
    "pca = PCA(n_components=3)\n",
    "X_pca = pca.fit_transform(X_scaled)\n",
    "print(X_pca[0:5])"
   ]
  },
  {
   "cell_type": "code",
   "execution_count": 57,
   "metadata": {},
   "outputs": [
    {
     "data": {
      "text/html": [
       "<div>\n",
       "<style scoped>\n",
       "    .dataframe tbody tr th:only-of-type {\n",
       "        vertical-align: middle;\n",
       "    }\n",
       "\n",
       "    .dataframe tbody tr th {\n",
       "        vertical-align: top;\n",
       "    }\n",
       "\n",
       "    .dataframe thead th {\n",
       "        text-align: right;\n",
       "    }\n",
       "</style>\n",
       "<table border=\"1\" class=\"dataframe\">\n",
       "  <thead>\n",
       "    <tr style=\"text-align: right;\">\n",
       "      <th></th>\n",
       "      <th>PC 1</th>\n",
       "      <th>PC 2</th>\n",
       "      <th>PC 3</th>\n",
       "    </tr>\n",
       "  </thead>\n",
       "  <tbody>\n",
       "    <tr>\n",
       "      <th>42</th>\n",
       "      <td>-0.335912</td>\n",
       "      <td>1.038080</td>\n",
       "      <td>-0.532733</td>\n",
       "    </tr>\n",
       "    <tr>\n",
       "      <th>404</th>\n",
       "      <td>-0.319271</td>\n",
       "      <td>1.038170</td>\n",
       "      <td>-0.533260</td>\n",
       "    </tr>\n",
       "    <tr>\n",
       "      <th>1337</th>\n",
       "      <td>2.305741</td>\n",
       "      <td>1.634315</td>\n",
       "      <td>-0.595329</td>\n",
       "    </tr>\n",
       "    <tr>\n",
       "      <th>BTC</th>\n",
       "      <td>-0.138499</td>\n",
       "      <td>-1.317693</td>\n",
       "      <td>0.145443</td>\n",
       "    </tr>\n",
       "    <tr>\n",
       "      <th>ETH</th>\n",
       "      <td>-0.157795</td>\n",
       "      <td>-2.105628</td>\n",
       "      <td>0.295783</td>\n",
       "    </tr>\n",
       "  </tbody>\n",
       "</table>\n",
       "</div>"
      ],
      "text/plain": [
       "          PC 1      PC 2      PC 3\n",
       "42   -0.335912  1.038080 -0.532733\n",
       "404  -0.319271  1.038170 -0.533260\n",
       "1337  2.305741  1.634315 -0.595329\n",
       "BTC  -0.138499 -1.317693  0.145443\n",
       "ETH  -0.157795 -2.105628  0.295783"
      ]
     },
     "execution_count": 57,
     "metadata": {},
     "output_type": "execute_result"
    }
   ],
   "source": [
    "# Create a DataFrame with the three principal components.\n",
    "pcs_df = pd.DataFrame(data=X_pca,index=(crypto_df.index),columns=[\"PC 1\", \"PC 2\", \"PC 3\"])\n",
    "pcs_df.head()"
   ]
  },
  {
   "cell_type": "markdown",
   "metadata": {},
   "source": [
    "### Deliverable 3: Clustering Crytocurrencies Using K-Means\n",
    "\n",
    "#### Finding the Best Value for `k` Using the Elbow Curve"
   ]
  },
  {
   "cell_type": "code",
   "execution_count": 59,
   "metadata": {},
   "outputs": [
    {
     "name": "stderr",
     "output_type": "stream",
     "text": [
      "C:\\Users\\m143795\\Anaconda3\\envs\\mlenv\\lib\\site-packages\\sklearn\\cluster\\_kmeans.py:882: UserWarning: KMeans is known to have a memory leak on Windows with MKL, when there are less chunks than available threads. You can avoid it by setting the environment variable OMP_NUM_THREADS=3.\n",
      "  f\"KMeans is known to have a memory leak on Windows \"\n"
     ]
    },
    {
     "data": {},
     "metadata": {},
     "output_type": "display_data"
    },
    {
     "data": {
      "application/vnd.holoviews_exec.v0+json": "",
      "text/html": [
       "<div id='1002'>\n",
       "\n",
       "\n",
       "\n",
       "\n",
       "\n",
       "  <div class=\"bk-root\" id=\"f46cd7bd-6055-410d-a4ef-9d5b6bce8bfe\" data-root-id=\"1002\"></div>\n",
       "</div>\n",
       "<script type=\"application/javascript\">(function(root) {\n",
       "  function embed_document(root) {\n",
       "    var docs_json = {\"531ebbca-c095-420a-b7fe-f587ac9770ae\":{\"defs\":[{\"extends\":null,\"module\":null,\"name\":\"ReactiveHTML1\",\"overrides\":[],\"properties\":[]},{\"extends\":null,\"module\":null,\"name\":\"FlexBox1\",\"overrides\":[],\"properties\":[{\"default\":\"flex-start\",\"kind\":null,\"name\":\"align_content\"},{\"default\":\"flex-start\",\"kind\":null,\"name\":\"align_items\"},{\"default\":\"row\",\"kind\":null,\"name\":\"flex_direction\"},{\"default\":\"wrap\",\"kind\":null,\"name\":\"flex_wrap\"},{\"default\":\"flex-start\",\"kind\":null,\"name\":\"justify_content\"}]},{\"extends\":null,\"module\":null,\"name\":\"GridStack1\",\"overrides\":[],\"properties\":[{\"default\":\"warn\",\"kind\":null,\"name\":\"mode\"},{\"default\":null,\"kind\":null,\"name\":\"ncols\"},{\"default\":null,\"kind\":null,\"name\":\"nrows\"},{\"default\":true,\"kind\":null,\"name\":\"allow_resize\"},{\"default\":true,\"kind\":null,\"name\":\"allow_drag\"},{\"default\":[],\"kind\":null,\"name\":\"state\"}]},{\"extends\":null,\"module\":null,\"name\":\"click1\",\"overrides\":[],\"properties\":[{\"default\":\"\",\"kind\":null,\"name\":\"terminal_output\"},{\"default\":\"\",\"kind\":null,\"name\":\"debug_name\"},{\"default\":0,\"kind\":null,\"name\":\"clears\"}]},{\"extends\":null,\"module\":null,\"name\":\"TemplateActions1\",\"overrides\":[],\"properties\":[{\"default\":0,\"kind\":null,\"name\":\"open_modal\"},{\"default\":0,\"kind\":null,\"name\":\"close_modal\"}]},{\"extends\":null,\"module\":null,\"name\":\"MaterialTemplateActions1\",\"overrides\":[],\"properties\":[{\"default\":0,\"kind\":null,\"name\":\"open_modal\"},{\"default\":0,\"kind\":null,\"name\":\"close_modal\"}]}],\"roots\":{\"references\":[{\"attributes\":{},\"id\":\"1021\",\"type\":\"BasicTicker\"},{\"attributes\":{\"coordinates\":null,\"group\":null,\"text\":\"Elbow Curve\",\"text_color\":\"black\",\"text_font_size\":\"12pt\"},\"id\":\"1008\",\"type\":\"Title\"},{\"attributes\":{\"axis\":{\"id\":\"1016\"},\"coordinates\":null,\"grid_line_color\":null,\"group\":null,\"ticker\":null},\"id\":\"1019\",\"type\":\"Grid\"},{\"attributes\":{\"tools\":[{\"id\":\"1006\"},{\"id\":\"1024\"},{\"id\":\"1025\"},{\"id\":\"1026\"},{\"id\":\"1027\"},{\"id\":\"1028\"}]},\"id\":\"1030\",\"type\":\"Toolbar\"},{\"attributes\":{\"line_alpha\":0.1,\"line_color\":\"#30a2da\",\"line_width\":2,\"x\":{\"field\":\"k\"},\"y\":{\"field\":\"inertia\"}},\"id\":\"1041\",\"type\":\"Line\"},{\"attributes\":{},\"id\":\"1061\",\"type\":\"UnionRenderers\"},{\"attributes\":{\"coordinates\":null,\"data_source\":{\"id\":\"1037\"},\"glyph\":{\"id\":\"1040\"},\"group\":null,\"hover_glyph\":null,\"muted_glyph\":{\"id\":\"1042\"},\"nonselection_glyph\":{\"id\":\"1041\"},\"selection_glyph\":{\"id\":\"1045\"},\"view\":{\"id\":\"1044\"}},\"id\":\"1043\",\"type\":\"GlyphRenderer\"},{\"attributes\":{},\"id\":\"1014\",\"type\":\"LinearScale\"},{\"attributes\":{\"bottom_units\":\"screen\",\"coordinates\":null,\"fill_alpha\":0.5,\"fill_color\":\"lightgrey\",\"group\":null,\"left_units\":\"screen\",\"level\":\"overlay\",\"line_alpha\":1.0,\"line_color\":\"black\",\"line_dash\":[4,4],\"line_width\":2,\"right_units\":\"screen\",\"syncable\":false,\"top_units\":\"screen\"},\"id\":\"1029\",\"type\":\"BoxAnnotation\"},{\"attributes\":{\"axis_label\":\"inertia\",\"coordinates\":null,\"formatter\":{\"id\":\"1053\"},\"group\":null,\"major_label_policy\":{\"id\":\"1054\"},\"ticker\":{\"id\":\"1021\"}},\"id\":\"1020\",\"type\":\"LinearAxis\"},{\"attributes\":{\"source\":{\"id\":\"1037\"}},\"id\":\"1044\",\"type\":\"CDSView\"},{\"attributes\":{\"children\":[{\"id\":\"1003\"},{\"id\":\"1007\"},{\"id\":\"1073\"}],\"margin\":[0,0,0,0],\"name\":\"Row01627\",\"tags\":[\"embedded\"]},\"id\":\"1002\",\"type\":\"Row\"},{\"attributes\":{\"axis_label\":\"k\",\"coordinates\":null,\"formatter\":{\"id\":\"1048\"},\"group\":null,\"major_label_policy\":{\"id\":\"1049\"},\"ticker\":{\"id\":\"1046\"}},\"id\":\"1016\",\"type\":\"LinearAxis\"},{\"attributes\":{},\"id\":\"1054\",\"type\":\"AllLabels\"},{\"attributes\":{\"margin\":[5,5,5,5],\"name\":\"HSpacer01631\",\"sizing_mode\":\"stretch_width\"},\"id\":\"1003\",\"type\":\"Spacer\"},{\"attributes\":{\"end\":3991.357443640491,\"reset_end\":3991.357443640491,\"reset_start\":-235.261312338297,\"start\":-235.261312338297,\"tags\":[[[\"inertia\",\"inertia\",null]]]},\"id\":\"1005\",\"type\":\"Range1d\"},{\"attributes\":{\"overlay\":{\"id\":\"1029\"}},\"id\":\"1027\",\"type\":\"BoxZoomTool\"},{\"attributes\":{\"axis\":{\"id\":\"1020\"},\"coordinates\":null,\"dimension\":1,\"grid_line_color\":null,\"group\":null,\"ticker\":null},\"id\":\"1023\",\"type\":\"Grid\"},{\"attributes\":{\"below\":[{\"id\":\"1016\"}],\"center\":[{\"id\":\"1019\"},{\"id\":\"1023\"}],\"height\":300,\"left\":[{\"id\":\"1020\"}],\"margin\":[5,5,5,5],\"min_border_bottom\":10,\"min_border_left\":10,\"min_border_right\":10,\"min_border_top\":10,\"renderers\":[{\"id\":\"1043\"}],\"sizing_mode\":\"fixed\",\"title\":{\"id\":\"1008\"},\"toolbar\":{\"id\":\"1030\"},\"width\":700,\"x_range\":{\"id\":\"1004\"},\"x_scale\":{\"id\":\"1012\"},\"y_range\":{\"id\":\"1005\"},\"y_scale\":{\"id\":\"1014\"}},\"id\":\"1007\",\"subtype\":\"Figure\",\"type\":\"Plot\"},{\"attributes\":{\"end\":10.0,\"reset_end\":10.0,\"reset_start\":1.0,\"start\":1.0,\"tags\":[[[\"k\",\"k\",null]]]},\"id\":\"1004\",\"type\":\"Range1d\"},{\"attributes\":{},\"id\":\"1049\",\"type\":\"AllLabels\"},{\"attributes\":{\"ticks\":[1,2,3,4,5,6,7,8,9,10]},\"id\":\"1046\",\"type\":\"FixedTicker\"},{\"attributes\":{},\"id\":\"1048\",\"type\":\"BasicTickFormatter\"},{\"attributes\":{\"line_color\":\"#30a2da\",\"line_width\":2,\"x\":{\"field\":\"k\"},\"y\":{\"field\":\"inertia\"}},\"id\":\"1045\",\"type\":\"Line\"},{\"attributes\":{},\"id\":\"1012\",\"type\":\"LinearScale\"},{\"attributes\":{},\"id\":\"1053\",\"type\":\"BasicTickFormatter\"},{\"attributes\":{\"line_color\":\"#30a2da\",\"line_width\":2,\"x\":{\"field\":\"k\"},\"y\":{\"field\":\"inertia\"}},\"id\":\"1040\",\"type\":\"Line\"},{\"attributes\":{\"line_alpha\":0.2,\"line_color\":\"#30a2da\",\"line_width\":2,\"x\":{\"field\":\"k\"},\"y\":{\"field\":\"inertia\"}},\"id\":\"1042\",\"type\":\"Line\"},{\"attributes\":{\"callback\":null,\"renderers\":[{\"id\":\"1043\"}],\"tags\":[\"hv_created\"],\"tooltips\":[[\"k\",\"@{k}\"],[\"inertia\",\"@{inertia}\"]]},\"id\":\"1006\",\"type\":\"HoverTool\"},{\"attributes\":{},\"id\":\"1024\",\"type\":\"SaveTool\"},{\"attributes\":{},\"id\":\"1025\",\"type\":\"PanTool\"},{\"attributes\":{\"margin\":[5,5,5,5],\"name\":\"HSpacer01632\",\"sizing_mode\":\"stretch_width\"},\"id\":\"1073\",\"type\":\"Spacer\"},{\"attributes\":{},\"id\":\"1028\",\"type\":\"ResetTool\"},{\"attributes\":{},\"id\":\"1026\",\"type\":\"WheelZoomTool\"},{\"attributes\":{\"data\":{\"inertia\":{\"__ndarray__\":\"oeANR0durEBwqevK7VSjQFv9A4DvUpdAOBn9d73ahEBVmpes7ex8QBK+ZUB2H3JA6SP6UNFfbEAKKXLBZ5pmQJ44zUwLAWJA0K4rIj49XUA=\",\"dtype\":\"float64\",\"order\":\"little\",\"shape\":[10]},\"k\":[1,2,3,4,5,6,7,8,9,10]},\"selected\":{\"id\":\"1038\"},\"selection_policy\":{\"id\":\"1061\"}},\"id\":\"1037\",\"type\":\"ColumnDataSource\"},{\"attributes\":{},\"id\":\"1038\",\"type\":\"Selection\"}],\"root_ids\":[\"1002\"]},\"title\":\"Bokeh Application\",\"version\":\"2.4.1\"}};\n",
       "    var render_items = [{\"docid\":\"531ebbca-c095-420a-b7fe-f587ac9770ae\",\"root_ids\":[\"1002\"],\"roots\":{\"1002\":\"f46cd7bd-6055-410d-a4ef-9d5b6bce8bfe\"}}];\n",
       "    root.Bokeh.embed.embed_items_notebook(docs_json, render_items);\n",
       "  }\n",
       "  if (root.Bokeh !== undefined && root.Bokeh.Panel !== undefined) {\n",
       "    embed_document(root);\n",
       "  } else {\n",
       "    var attempts = 0;\n",
       "    var timer = setInterval(function(root) {\n",
       "      if (root.Bokeh !== undefined && root.Bokeh.Panel !== undefined) {\n",
       "        clearInterval(timer);\n",
       "        embed_document(root);\n",
       "      } else if (document.readyState == \"complete\") {\n",
       "        attempts++;\n",
       "        if (attempts > 200) {\n",
       "          clearInterval(timer);\n",
       "          console.log(\"Bokeh: ERROR: Unable to run BokehJS code because BokehJS library is missing\");\n",
       "        }\n",
       "      }\n",
       "    }, 25, root)\n",
       "  }\n",
       "})(window);</script>"
      ],
      "text/plain": [
       ":Curve   [k]   (inertia)"
      ]
     },
     "execution_count": 59,
     "metadata": {
      "application/vnd.holoviews_exec.v0+json": {
       "id": "1002"
      }
     },
     "output_type": "execute_result"
    }
   ],
   "source": [
    "# Create an elbow curve to find the best value for K.\n",
    "inertia = []\n",
    "k = list(range(1, 11))\n",
    "\n",
    "for i in k:\n",
    "    km = KMeans(n_clusters=i, random_state=0)\n",
    "    km.fit(pcs_df)\n",
    "    inertia.append(km.inertia_)\n",
    "    \n",
    "elbow_data = {\"k\": k, \"inertia\": inertia}\n",
    "df_elbow = pd.DataFrame(elbow_data)\n",
    "df_elbow.hvplot.line(x=\"k\", y=\"inertia\", title = \"Elbow Curve\", xticks=k)\n"
   ]
  },
  {
   "cell_type": "markdown",
   "metadata": {},
   "source": [
    "Running K-Means with `k=4`"
   ]
  },
  {
   "cell_type": "code",
   "execution_count": 62,
   "metadata": {},
   "outputs": [
    {
     "data": {
      "text/plain": [
       "array([0, 0, 0, 1, 1, 1, 0, 1, 1, 1, 0, 1, 0, 0, 1, 0, 1, 1, 0, 0, 1, 1,\n",
       "       1, 1, 1, 0, 1, 1, 1, 0, 1, 0, 1, 1, 0, 0, 1, 1, 1, 1, 1, 1, 0, 0,\n",
       "       1, 1, 1, 1, 1, 0, 0, 1, 0, 1, 1, 1, 1, 0, 1, 1, 0, 1, 0, 0, 0, 1,\n",
       "       1, 1, 0, 0, 0, 0, 0, 1, 1, 1, 0, 0, 1, 0, 1, 0, 0, 1, 1, 1, 1, 0,\n",
       "       0, 1, 0, 1, 1, 0, 0, 1, 0, 0, 1, 1, 0, 0, 1, 0, 0, 1, 0, 1, 0, 1,\n",
       "       0, 1, 0, 0, 1, 1, 0, 1, 1, 1, 0, 1, 1, 1, 1, 1, 0, 0, 1, 1, 1, 0,\n",
       "       1, 0, 1, 1, 0, 1, 0, 1, 0, 0, 1, 1, 0, 1, 1, 0, 0, 1, 0, 1, 0, 0,\n",
       "       0, 1, 1, 1, 1, 0, 0, 0, 0, 0, 1, 1, 0, 0, 0, 0, 0, 1, 0, 0, 0, 0,\n",
       "       0, 1, 0, 1, 0, 0, 1, 0, 1, 0, 0, 1, 0, 1, 0, 1, 0, 1, 0, 0, 0, 0,\n",
       "       1, 0, 0, 0, 0, 0, 1, 1, 0, 0, 1, 1, 0, 0, 0, 0, 0, 1, 0, 0, 0, 0,\n",
       "       0, 0, 0, 0, 1, 0, 0, 0, 0, 0, 0, 1, 1, 1, 0, 0, 0, 0, 1, 0, 1, 0,\n",
       "       0, 1, 0, 1, 1, 0, 1, 1, 0, 1, 0, 0, 0, 1, 0, 0, 1, 0, 0, 0, 0, 0,\n",
       "       0, 0, 1, 0, 1, 0, 0, 0, 0, 1, 0, 1, 0, 1, 1, 1, 1, 0, 1, 0, 0, 1,\n",
       "       0, 1, 1, 1, 0, 1, 0, 1, 1, 1, 0, 1, 0, 1, 0, 0, 3, 1, 0, 1, 1, 1,\n",
       "       1, 1, 0, 0, 1, 0, 0, 0, 1, 0, 1, 0, 1, 0, 1, 0, 0, 0, 0, 1, 0, 0,\n",
       "       1, 0, 0, 0, 1, 1, 1, 1, 0, 0, 0, 0, 1, 0, 1, 1, 1, 0, 0, 1, 1, 0,\n",
       "       0, 1, 0, 1, 1, 1, 0, 1, 1, 0, 0, 0, 1, 1, 1, 0, 1, 0, 1, 1, 0, 1,\n",
       "       1, 1, 1, 0, 3, 0, 1, 1, 1, 0, 3, 0, 0, 0, 0, 1, 1, 1, 1, 0, 0, 0,\n",
       "       1, 0, 1, 0, 0, 0, 0, 1, 0, 0, 1, 0, 0, 1, 1, 0, 1, 0, 1, 1, 1, 1,\n",
       "       0, 0, 1, 0, 1, 0, 0, 0, 0, 0, 0, 1, 1, 1, 0, 0, 0, 0, 0, 0, 1, 0,\n",
       "       1, 1, 1, 1, 0, 0, 0, 0, 1, 0, 0, 1, 0, 0, 1, 3, 1, 0, 1, 1, 0, 0,\n",
       "       1, 0, 1, 1, 1, 1, 1, 0, 1, 0, 1, 0, 0, 1, 0, 0, 0, 0, 0, 1, 1, 1,\n",
       "       0, 0, 0, 1, 0, 1, 0, 1, 0, 0, 0, 0, 1, 0, 0, 0, 1, 0, 1, 0, 1, 0,\n",
       "       0, 0, 1, 1, 0, 0, 0, 0, 0, 0, 1, 0, 1, 0, 1, 0, 0, 3, 0, 2, 0, 0,\n",
       "       0, 1, 1, 0])"
      ]
     },
     "execution_count": 62,
     "metadata": {},
     "output_type": "execute_result"
    }
   ],
   "source": [
    "# Initializing model with K=4 \n",
    "model = KMeans(n_clusters=4, random_state=5)\n",
    "\n",
    "# Fitting model \n",
    "model.fit(pcs_df)\n",
    "\n",
    "# Get the predictions\n",
    "predictions = model.predict(pcs_df)\n",
    "predictions"
   ]
  },
  {
   "cell_type": "code",
   "execution_count": 65,
   "metadata": {},
   "outputs": [
    {
     "name": "stdout",
     "output_type": "stream",
     "text": [
      "(532, 9)\n"
     ]
    },
    {
     "data": {
      "text/html": [
       "<div>\n",
       "<style scoped>\n",
       "    .dataframe tbody tr th:only-of-type {\n",
       "        vertical-align: middle;\n",
       "    }\n",
       "\n",
       "    .dataframe tbody tr th {\n",
       "        vertical-align: top;\n",
       "    }\n",
       "\n",
       "    .dataframe thead th {\n",
       "        text-align: right;\n",
       "    }\n",
       "</style>\n",
       "<table border=\"1\" class=\"dataframe\">\n",
       "  <thead>\n",
       "    <tr style=\"text-align: right;\">\n",
       "      <th></th>\n",
       "      <th>Algorithm</th>\n",
       "      <th>ProofType</th>\n",
       "      <th>TotalCoinsMined</th>\n",
       "      <th>TotalCoinSupply</th>\n",
       "      <th>PC 1</th>\n",
       "      <th>PC 2</th>\n",
       "      <th>PC 3</th>\n",
       "      <th>CoinName</th>\n",
       "      <th>class</th>\n",
       "    </tr>\n",
       "  </thead>\n",
       "  <tbody>\n",
       "    <tr>\n",
       "      <th>42</th>\n",
       "      <td>Scrypt</td>\n",
       "      <td>PoW/PoS</td>\n",
       "      <td>4.199995e+01</td>\n",
       "      <td>42</td>\n",
       "      <td>-0.335912</td>\n",
       "      <td>1.038080</td>\n",
       "      <td>-0.532733</td>\n",
       "      <td>42 Coin</td>\n",
       "      <td>0</td>\n",
       "    </tr>\n",
       "    <tr>\n",
       "      <th>404</th>\n",
       "      <td>Scrypt</td>\n",
       "      <td>PoW/PoS</td>\n",
       "      <td>1.055185e+09</td>\n",
       "      <td>532000000</td>\n",
       "      <td>-0.319271</td>\n",
       "      <td>1.038170</td>\n",
       "      <td>-0.533260</td>\n",
       "      <td>404Coin</td>\n",
       "      <td>0</td>\n",
       "    </tr>\n",
       "    <tr>\n",
       "      <th>1337</th>\n",
       "      <td>X13</td>\n",
       "      <td>PoW/PoS</td>\n",
       "      <td>2.927942e+10</td>\n",
       "      <td>314159265359</td>\n",
       "      <td>2.305741</td>\n",
       "      <td>1.634315</td>\n",
       "      <td>-0.595329</td>\n",
       "      <td>EliteCoin</td>\n",
       "      <td>0</td>\n",
       "    </tr>\n",
       "    <tr>\n",
       "      <th>BTC</th>\n",
       "      <td>SHA-256</td>\n",
       "      <td>PoW</td>\n",
       "      <td>1.792718e+07</td>\n",
       "      <td>21000000</td>\n",
       "      <td>-0.138499</td>\n",
       "      <td>-1.317693</td>\n",
       "      <td>0.145443</td>\n",
       "      <td>Bitcoin</td>\n",
       "      <td>1</td>\n",
       "    </tr>\n",
       "    <tr>\n",
       "      <th>ETH</th>\n",
       "      <td>Ethash</td>\n",
       "      <td>PoW</td>\n",
       "      <td>1.076842e+08</td>\n",
       "      <td>0</td>\n",
       "      <td>-0.157795</td>\n",
       "      <td>-2.105628</td>\n",
       "      <td>0.295783</td>\n",
       "      <td>Ethereum</td>\n",
       "      <td>1</td>\n",
       "    </tr>\n",
       "    <tr>\n",
       "      <th>LTC</th>\n",
       "      <td>Scrypt</td>\n",
       "      <td>PoW</td>\n",
       "      <td>6.303924e+07</td>\n",
       "      <td>84000000</td>\n",
       "      <td>-0.167211</td>\n",
       "      <td>-1.120281</td>\n",
       "      <td>-0.031952</td>\n",
       "      <td>Litecoin</td>\n",
       "      <td>1</td>\n",
       "    </tr>\n",
       "    <tr>\n",
       "      <th>DASH</th>\n",
       "      <td>X11</td>\n",
       "      <td>PoW/PoS</td>\n",
       "      <td>9.031294e+06</td>\n",
       "      <td>22000000</td>\n",
       "      <td>-0.394028</td>\n",
       "      <td>1.250716</td>\n",
       "      <td>-0.425500</td>\n",
       "      <td>Dash</td>\n",
       "      <td>0</td>\n",
       "    </tr>\n",
       "    <tr>\n",
       "      <th>XMR</th>\n",
       "      <td>CryptoNight-V7</td>\n",
       "      <td>PoW</td>\n",
       "      <td>1.720114e+07</td>\n",
       "      <td>0</td>\n",
       "      <td>-0.147056</td>\n",
       "      <td>-2.237054</td>\n",
       "      <td>0.354842</td>\n",
       "      <td>Monero</td>\n",
       "      <td>1</td>\n",
       "    </tr>\n",
       "    <tr>\n",
       "      <th>ETC</th>\n",
       "      <td>Ethash</td>\n",
       "      <td>PoW</td>\n",
       "      <td>1.133597e+08</td>\n",
       "      <td>210000000</td>\n",
       "      <td>-0.156239</td>\n",
       "      <td>-2.105724</td>\n",
       "      <td>0.295759</td>\n",
       "      <td>Ethereum Classic</td>\n",
       "      <td>1</td>\n",
       "    </tr>\n",
       "    <tr>\n",
       "      <th>ZEC</th>\n",
       "      <td>Equihash</td>\n",
       "      <td>PoW</td>\n",
       "      <td>7.383056e+06</td>\n",
       "      <td>21000000</td>\n",
       "      <td>-0.160115</td>\n",
       "      <td>-2.038690</td>\n",
       "      <td>0.432066</td>\n",
       "      <td>ZCash</td>\n",
       "      <td>1</td>\n",
       "    </tr>\n",
       "  </tbody>\n",
       "</table>\n",
       "</div>"
      ],
      "text/plain": [
       "           Algorithm ProofType  TotalCoinsMined TotalCoinSupply      PC 1  \\\n",
       "42            Scrypt   PoW/PoS     4.199995e+01              42 -0.335912   \n",
       "404           Scrypt   PoW/PoS     1.055185e+09       532000000 -0.319271   \n",
       "1337             X13   PoW/PoS     2.927942e+10    314159265359  2.305741   \n",
       "BTC          SHA-256       PoW     1.792718e+07        21000000 -0.138499   \n",
       "ETH           Ethash       PoW     1.076842e+08               0 -0.157795   \n",
       "LTC           Scrypt       PoW     6.303924e+07        84000000 -0.167211   \n",
       "DASH             X11   PoW/PoS     9.031294e+06        22000000 -0.394028   \n",
       "XMR   CryptoNight-V7       PoW     1.720114e+07               0 -0.147056   \n",
       "ETC           Ethash       PoW     1.133597e+08       210000000 -0.156239   \n",
       "ZEC         Equihash       PoW     7.383056e+06        21000000 -0.160115   \n",
       "\n",
       "          PC 2      PC 3          CoinName  class  \n",
       "42    1.038080 -0.532733           42 Coin      0  \n",
       "404   1.038170 -0.533260           404Coin      0  \n",
       "1337  1.634315 -0.595329         EliteCoin      0  \n",
       "BTC  -1.317693  0.145443           Bitcoin      1  \n",
       "ETH  -2.105628  0.295783          Ethereum      1  \n",
       "LTC  -1.120281 -0.031952          Litecoin      1  \n",
       "DASH  1.250716 -0.425500              Dash      0  \n",
       "XMR  -2.237054  0.354842            Monero      1  \n",
       "ETC  -2.105724  0.295759  Ethereum Classic      1  \n",
       "ZEC  -2.038690  0.432066             ZCash      1  "
      ]
     },
     "execution_count": 65,
     "metadata": {},
     "output_type": "execute_result"
    }
   ],
   "source": [
    "# Create a new DataFrame including predicted clusters and cryptocurrencies features.\n",
    "# Concatentate the crypto_df and pcs_df DataFrames on the same columns.\n",
    "clustered_df = pd.concat([crypto_df, pcs_df], axis=1)\n",
    "\n",
    "#  Add a new column, \"CoinName\" to the clustered_df DataFrame that holds the names of the cryptocurrencies. \n",
    "clustered_df = pd.concat([clustered_df, CoinName_df], axis=1)\n",
    "\n",
    "#  Add a new column, \"Class\" to the clustered_df DataFrame that holds the predictions.\n",
    "clustered_df[\"class\"] = model.labels_\n",
    "\n",
    "# Print the shape of the clustered_df\n",
    "print(clustered_df.shape)\n",
    "clustered_df.head(10)"
   ]
  },
  {
   "cell_type": "markdown",
   "metadata": {},
   "source": [
    "### Deliverable 4: Visualizing Cryptocurrencies Results\n",
    "\n",
    "#### 3D-Scatter with Clusters"
   ]
  },
  {
   "cell_type": "code",
   "execution_count": 73,
   "metadata": {},
   "outputs": [
    {
     "data": {
      "application/vnd.plotly.v1+json": {
       "config": {
        "plotlyServerURL": "https://plot.ly"
       },
       "data": [
        {
         "customdata": [
          [
           "42 Coin",
           "Scrypt"
          ],
          [
           "404Coin",
           "Scrypt"
          ],
          [
           "EliteCoin",
           "X13"
          ],
          [
           "Dash",
           "X11"
          ],
          [
           "Bitshares",
           "SHA-512"
          ],
          [
           "BitcoinDark",
           "SHA-256"
          ],
          [
           "PayCoin",
           "SHA-256"
          ],
          [
           "KoboCoin",
           "X15"
          ],
          [
           "Aurora Coin",
           "Scrypt"
          ],
          [
           "BlueCoin",
           "Scrypt"
          ],
          [
           "EnergyCoin",
           "Scrypt"
          ],
          [
           "BitBar",
           "Scrypt"
          ],
          [
           "CryptoBullion",
           "Scrypt"
          ],
          [
           "CasinoCoin",
           "Scrypt"
          ],
          [
           "Diamond",
           "Groestl"
          ],
          [
           "Exclusive Coin",
           "PoS"
          ],
          [
           "FlutterCoin",
           "Scrypt"
          ],
          [
           "HoboNickels",
           "Scrypt"
          ],
          [
           "HyperStake",
           "X11"
          ],
          [
           "IOCoin",
           "X11"
          ],
          [
           "MaxCoin",
           "SHA3"
          ],
          [
           "MintCoin",
           "Scrypt"
          ],
          [
           "MazaCoin",
           "SHA-256"
          ],
          [
           "Nautilus Coin",
           "Scrypt"
          ],
          [
           "NavCoin",
           "X13"
          ],
          [
           "OpalCoin",
           "X13"
          ],
          [
           "Orbitcoin",
           "NeoScrypt"
          ],
          [
           "PotCoin",
           "Scrypt"
          ],
          [
           "PhoenixCoin",
           "Scrypt"
          ],
          [
           "Reddcoin",
           "Scrypt"
          ],
          [
           "SuperCoin",
           "X11"
          ],
          [
           "SyncCoin",
           "X11"
          ],
          [
           "TeslaCoin",
           "Multiple"
          ],
          [
           "TittieCoin",
           "PHI1612"
          ],
          [
           "TorCoin",
           "X11"
          ],
          [
           "UnitaryStatus Dollar",
           "Scrypt"
          ],
          [
           "UltraCoin",
           "Scrypt"
          ],
          [
           "VeriCoin",
           "Scrypt"
          ],
          [
           "X11 Coin",
           "X11"
          ],
          [
           "Crypti",
           "Multiple"
          ],
          [
           "StealthCoin",
           "X13"
          ],
          [
           "ZCC Coin",
           "Scrypt"
          ],
          [
           "BurstCoin",
           "Shabal256"
          ],
          [
           "StorjCoin",
           "Counterparty"
          ],
          [
           "Neutron",
           "SHA-256"
          ],
          [
           "FairCoin",
           "Groestl"
          ],
          [
           "RubyCoin",
           "Scrypt"
          ],
          [
           "Kore",
           "X13"
          ],
          [
           "Dnotes",
           "Scrypt"
          ],
          [
           "8BIT Coin",
           "Scrypt"
          ],
          [
           "Sativa Coin",
           "X13"
          ],
          [
           "Ucoin",
           "X11"
          ],
          [
           "Vtorrent",
           "Scrypt"
          ],
          [
           "IslaCoin",
           "X11"
          ],
          [
           "Nexus",
           "SHA3"
          ],
          [
           "Droidz",
           "QUAIT"
          ],
          [
           "Squall Coin",
           "X11"
          ],
          [
           "Diggits",
           "Scrypt"
          ],
          [
           "Paycon",
           "X13"
          ],
          [
           "Emercoin",
           "SHA-256"
          ],
          [
           "EverGreenCoin",
           "X15"
          ],
          [
           "Decred",
           "BLAKE256"
          ],
          [
           "EDRCoin",
           "SHA-256"
          ],
          [
           "Hitcoin",
           "X11"
          ],
          [
           "DubaiCoin",
           "SHA-256"
          ],
          [
           "PWR Coin",
           "NIST5"
          ],
          [
           "BillaryCoin",
           "Scrypt"
          ],
          [
           "GPU Coin",
           "Scrypt"
          ],
          [
           "EuropeCoin",
           "X11"
          ],
          [
           "ZeitCoin",
           "Scrypt"
          ],
          [
           "SwingCoin",
           "SHA-256"
          ],
          [
           "SafeExchangeCoin",
           "Scrypt"
          ],
          [
           "Nebuchadnezzar",
           "PoS"
          ],
          [
           "Ratecoin",
           "X11"
          ],
          [
           "Revenu",
           "SHA-256"
          ],
          [
           "Clockcoin",
           "SHA-256"
          ],
          [
           "VIP Tokens",
           "NIST5"
          ],
          [
           "BitSend",
           "X11"
          ],
          [
           "Let it Ride",
           "POS 3.0"
          ],
          [
           "PutinCoin",
           "Scrypt"
          ],
          [
           "iBankCoin",
           "Scrypt"
          ],
          [
           "Frankywillcoin",
           "Scrypt"
          ],
          [
           "MudraCoin",
           "X13"
          ],
          [
           "Lutetium Coin",
           "X11"
          ],
          [
           "GoldBlocks",
           "X11"
          ],
          [
           "CarterCoin",
           "Scrypt"
          ],
          [
           "BitTokens",
           "SHA-256"
          ],
          [
           "MustangCoin",
           "X11"
          ],
          [
           "ZoneCoin",
           "Scrypt"
          ],
          [
           "RootCoin",
           "Scrypt"
          ],
          [
           "BitCurrency",
           "Scrypt"
          ],
          [
           "Swiscoin",
           "Scrypt"
          ],
          [
           "BuzzCoin",
           "SHA-256D"
          ],
          [
           "Opair",
           "PoS"
          ],
          [
           "PesoBit",
           "Scrypt"
          ],
          [
           "Halloween Coin",
           "X11"
          ],
          [
           "CoffeeCoin",
           "PoS"
          ],
          [
           "RoyalCoin",
           "X13"
          ],
          [
           "GanjaCoin V2",
           "X14"
          ],
          [
           "TeamUP",
           "PoS"
          ],
          [
           "LanaCoin",
           "SHA-256D"
          ],
          [
           "ARK",
           "DPoS"
          ],
          [
           "InsaneCoin",
           "X11"
          ],
          [
           "EmberCoin",
           "X13"
          ],
          [
           "XenixCoin",
           "X11"
          ],
          [
           "FreeCoin",
           "PoS"
          ],
          [
           "PLNCoin",
           "Scrypt"
          ],
          [
           "AquariusCoin",
           "Scrypt"
          ],
          [
           "Creatio",
           "PoS"
          ],
          [
           "Eternity",
           "X11"
          ],
          [
           "Eurocoin",
           "SHA-256"
          ],
          [
           "BitcoinFast",
           "Scrypt"
          ],
          [
           "Stakenet",
           "X11"
          ],
          [
           "BitConnect Coin",
           "Scrypt"
          ],
          [
           "MoneyCoin",
           "Scrypt"
          ],
          [
           "Enigma",
           "X11"
          ],
          [
           "Russiacoin",
           "Scrypt"
          ],
          [
           "PandaCoin",
           "Scrypt"
          ],
          [
           "GameUnits",
           "Scrypt"
          ],
          [
           "GAKHcoin",
           "Scrypt"
          ],
          [
           "Allsafe",
           "Quark"
          ],
          [
           "LiteCreed",
           "QuBit"
          ],
          [
           "Klingon Empire Darsek",
           "Scrypt"
          ],
          [
           "Internet of People",
           "SHA-256"
          ],
          [
           "KushCoin",
           "X11"
          ],
          [
           "Printerium",
           "Scrypt"
          ],
          [
           "Impeach",
           "Scrypt"
          ],
          [
           "Zilbercoin",
           "Scrypt"
          ],
          [
           "FirstCoin",
           "Scrypt"
          ],
          [
           "FindCoin",
           "X13"
          ],
          [
           "OpenChat",
           "Scrypt"
          ],
          [
           "RenosCoin",
           "Scrypt"
          ],
          [
           "VirtacoinPlus",
           "X11"
          ],
          [
           "TajCoin",
           "Blake2S"
          ],
          [
           "Impact",
           "X11"
          ],
          [
           "Atmos",
           "PoS"
          ],
          [
           "HappyCoin",
           "X11"
          ],
          [
           "MacronCoin",
           "PoS"
          ],
          [
           "Condensate",
           "X11"
          ],
          [
           "Independent Money System",
           "Scrypt"
          ],
          [
           "ArgusCoin",
           "Scrypt"
          ],
          [
           "LomoCoin",
           "Scrypt"
          ],
          [
           "ProCurrency",
           "SHA-256"
          ],
          [
           "GoldReserve",
           "X11"
          ],
          [
           "GrowthCoin",
           "Scrypt"
          ],
          [
           "Phreak",
           "PoS"
          ],
          [
           "Degas Coin",
           "Scrypt"
          ],
          [
           "HTML5 Coin",
           "X15"
          ],
          [
           "Ultimate Secure Cash",
           "SHA-256"
          ],
          [
           "QTUM",
           "POS 3.0"
          ],
          [
           "Espers",
           "536"
          ],
          [
           "Denarius",
           "NIST5"
          ],
          [
           "Virta Unique Coin",
           "NIST5"
          ],
          [
           "Bitcoin Planet",
           "Skein"
          ],
          [
           "BritCoin",
           "X13"
          ],
          [
           "Linda",
           "Scrypt"
          ],
          [
           "DeepOnion",
           "X13"
          ],
          [
           "Signatum",
           "SkunkHash v2 Raptor"
          ],
          [
           "Cream",
           "Skein"
          ],
          [
           "Monoeci",
           "X11"
          ],
          [
           "Draftcoin",
           "Scrypt"
          ],
          [
           "Stakecoin",
           "PoS"
          ],
          [
           "CoinonatX",
           "Scrypt"
          ],
          [
           "Ethereum Dark",
           "Scrypt"
          ],
          [
           "Obsidian",
           "SHA-512"
          ],
          [
           "Cardano",
           "Ouroboros"
          ],
          [
           "Regalcoin",
           "X11"
          ],
          [
           "TrezarCoin",
           "NeoScrypt"
          ],
          [
           "TerraNovaCoin",
           "Scrypt"
          ],
          [
           "Rupee",
           "Lyra2REv2"
          ],
          [
           "WomenCoin",
           "Scrypt"
          ],
          [
           "Theresa May Coin",
           "SHA-256"
          ],
          [
           "NamoCoin",
           "NIST5"
          ],
          [
           "LUXCoin",
           "PHI1612"
          ],
          [
           "Xios",
           "Scrypt"
          ],
          [
           "Bitcloud 2.0",
           "Quark"
          ],
          [
           "KekCoin",
           "POS 2.0"
          ],
          [
           "BlackholeCoin",
           "Scrypt"
          ],
          [
           "Infinity Economics",
           "SHA-256"
          ],
          [
           "Magnet",
           "X11"
          ],
          [
           "Lamden Tau",
           "DPoS"
          ],
          [
           "Electra",
           "NIST5"
          ],
          [
           "Bitcoin Diamond",
           "X13"
          ],
          [
           "Cash & Back Coin",
           "Scrypt"
          ],
          [
           "Bulwark",
           "NIST5"
          ],
          [
           "Kalkulus",
           "Quark"
          ],
          [
           "GermanCoin",
           "Scrypt"
          ],
          [
           "LiteCoin Ultra",
           "Scrypt"
          ],
          [
           "PhantomX",
           "X11"
          ],
          [
           "Digiwage",
           "Quark"
          ],
          [
           "Trollcoin",
           "Scrypt"
          ],
          [
           "Litecoin Plus",
           "Scrypt"
          ],
          [
           "Monkey Project",
           "X11"
          ],
          [
           "TokenPay",
           "POS 3.0"
          ],
          [
           "My Big Coin",
           "Scrypt"
          ],
          [
           "Unified Society USDEX",
           "Scrypt"
          ],
          [
           "Tokyo Coin",
           "X13"
          ],
          [
           "LitecoinCash",
           "SHA-256 + Hive"
          ],
          [
           "Stipend",
           "C11"
          ],
          [
           "Pushi",
           "X11"
          ],
          [
           "Ellerium",
           "XEVAN"
          ],
          [
           "Velox",
           "Scrypt"
          ],
          [
           "Ontology",
           "VBFT"
          ],
          [
           "Bitspace",
           "NIST5"
          ],
          [
           "Briacoin",
           "Scrypt"
          ],
          [
           "Ignition",
           "Scrypt"
          ],
          [
           "MedicCoin",
           "Scrypt"
          ],
          [
           "Bitcoin Green",
           "Green Protocol"
          ],
          [
           "Deviant Coin",
           "PoS"
          ],
          [
           "Abjcoin",
           "Scrypt"
          ],
          [
           "Semux",
           "Semux BFT consensus"
          ],
          [
           "Carebit",
           "Quark"
          ],
          [
           "Zealium",
           "PoS"
          ],
          [
           "Proton",
           "X16R"
          ],
          [
           "iDealCash",
           "Scrypt"
          ],
          [
           "Bitcoin Incognito",
           "XEVAN"
          ],
          [
           "HollyWoodCoin",
           "Scrypt"
          ],
          [
           "Swisscoin",
           "Scrypt"
          ],
          [
           "Xt3ch",
           "Scrypt"
          ],
          [
           "TheVig",
           "SHA-256D"
          ],
          [
           "EmaratCoin",
           "Scrypt"
          ],
          [
           "Dekado",
           "X15"
          ],
          [
           "Lynx",
           "Scrypt"
          ],
          [
           "Poseidon Quark",
           "Quark"
          ],
          [
           "BitcoinWSpectrum",
           "SHA-256"
          ],
          [
           "Muse",
           "DPoS"
          ],
          [
           "Trivechain",
           "X16R"
          ],
          [
           "Dystem",
           "Quark"
          ],
          [
           "Giant",
           "Quark"
          ],
          [
           "Peony Coin",
           "Scrypt"
          ],
          [
           "Absolute Coin",
           "Lyra2REv2"
          ],
          [
           "Vitae",
           "Quark"
          ],
          [
           "TPCash",
           "Scrypt"
          ],
          [
           "ARENON",
           "X11"
          ],
          [
           "EUNO",
           "X11"
          ],
          [
           "MMOCoin",
           "Scrypt"
          ],
          [
           "Ketan",
           "PoS"
          ],
          [
           "XDNA",
           "Keccak"
          ],
          [
           "PAXEX",
           "X11"
          ],
          [
           "ThunderStake",
           "Scrypt"
          ],
          [
           "Kcash",
           "SHA-512"
          ],
          [
           "Bettex coin",
           "XEVAN"
          ],
          [
           "BitMoney",
           "XEVAN"
          ],
          [
           "Junson Ming Chan Coin",
           "X11"
          ],
          [
           "HerbCoin",
           "Quark"
          ],
          [
           "Oduwa",
           "Scrypt"
          ],
          [
           "Galilel",
           "Quark"
          ],
          [
           "Crypto Sports",
           "Quark"
          ],
          [
           "Credit",
           "Scrypt"
          ],
          [
           "Dash Platinum",
           "X11"
          ],
          [
           "Nasdacoin",
           "Scrypt"
          ],
          [
           "Beetle Coin",
           "XEVAN"
          ],
          [
           "Titan Coin",
           "SHA-256D"
          ],
          [
           "Award",
           "X11"
          ],
          [
           "Insane Coin",
           "X11"
          ],
          [
           "ALAX",
           "DPoS"
          ],
          [
           "LiteDoge",
           "Scrypt"
          ],
          [
           "TruckCoin",
           "X11"
          ],
          [
           "OrangeCoin",
           "Scrypt"
          ],
          [
           "BitstarCoin",
           "Scrypt"
          ],
          [
           "NeosCoin",
           "SHA-256"
          ],
          [
           "HyperCoin",
           "Scrypt"
          ],
          [
           "PinkCoin",
           "X11"
          ],
          [
           "AudioCoin",
           "Scrypt"
          ],
          [
           "IncaKoin",
           "SHA-256"
          ],
          [
           "Piggy Coin",
           "X11"
          ],
          [
           "Genstake",
           "Scrypt"
          ],
          [
           "XiaoMiCoin",
           "Scrypt"
          ],
          [
           "CapriCoin",
           "X11"
          ],
          [
           " ClubCoin",
           "Scrypt"
          ],
          [
           "Radium",
           "PoS"
          ],
          [
           "Creditbit ",
           "X11"
          ],
          [
           "OKCash",
           "SHA-256"
          ],
          [
           "Lisk",
           "DPoS"
          ],
          [
           "HiCoin",
           "Scrypt"
          ],
          [
           "WhiteCoin",
           "Scrypt"
          ],
          [
           "FriendshipCoin",
           "NeoScrypt"
          ],
          [
           "Triangles Coin",
           "X13"
          ],
          [
           "EOS",
           "DPoS"
          ],
          [
           "Oxycoin",
           "DPoS"
          ],
          [
           "TigerCash",
           "SHA-256"
          ],
          [
           "Particl",
           "PoS"
          ],
          [
           "Nxt",
           "PoS"
          ],
          [
           "ZEPHYR",
           "SHA-256"
          ],
          [
           "Gapcoin",
           "Scrypt"
          ],
          [
           "BitcoinPlus",
           "Scrypt"
          ]
         ],
         "hovertemplate": "class=%{marker.color}<br>PC 1=%{x}<br>PC 2=%{y}<br>PC 3=%{z}<br>CoinName=%{customdata[0]}<br>Algorithm=%{customdata[1]}<extra></extra>",
         "legendgroup": "0",
         "marker": {
          "color": [
           0,
           0,
           0,
           0,
           0,
           0,
           0,
           0,
           0,
           0,
           0,
           0,
           0,
           0,
           0,
           0,
           0,
           0,
           0,
           0,
           0,
           0,
           0,
           0,
           0,
           0,
           0,
           0,
           0,
           0,
           0,
           0,
           0,
           0,
           0,
           0,
           0,
           0,
           0,
           0,
           0,
           0,
           0,
           0,
           0,
           0,
           0,
           0,
           0,
           0,
           0,
           0,
           0,
           0,
           0,
           0,
           0,
           0,
           0,
           0,
           0,
           0,
           0,
           0,
           0,
           0,
           0,
           0,
           0,
           0,
           0,
           0,
           0,
           0,
           0,
           0,
           0,
           0,
           0,
           0,
           0,
           0,
           0,
           0,
           0,
           0,
           0,
           0,
           0,
           0,
           0,
           0,
           0,
           0,
           0,
           0,
           0,
           0,
           0,
           0,
           0,
           0,
           0,
           0,
           0,
           0,
           0,
           0,
           0,
           0,
           0,
           0,
           0,
           0,
           0,
           0,
           0,
           0,
           0,
           0,
           0,
           0,
           0,
           0,
           0,
           0,
           0,
           0,
           0,
           0,
           0,
           0,
           0,
           0,
           0,
           0,
           0,
           0,
           0,
           0,
           0,
           0,
           0,
           0,
           0,
           0,
           0,
           0,
           0,
           0,
           0,
           0,
           0,
           0,
           0,
           0,
           0,
           0,
           0,
           0,
           0,
           0,
           0,
           0,
           0,
           0,
           0,
           0,
           0,
           0,
           0,
           0,
           0,
           0,
           0,
           0,
           0,
           0,
           0,
           0,
           0,
           0,
           0,
           0,
           0,
           0,
           0,
           0,
           0,
           0,
           0,
           0,
           0,
           0,
           0,
           0,
           0,
           0,
           0,
           0,
           0,
           0,
           0,
           0,
           0,
           0,
           0,
           0,
           0,
           0,
           0,
           0,
           0,
           0,
           0,
           0,
           0,
           0,
           0,
           0,
           0,
           0,
           0,
           0,
           0,
           0,
           0,
           0,
           0,
           0,
           0,
           0,
           0,
           0,
           0,
           0,
           0,
           0,
           0,
           0,
           0,
           0,
           0,
           0,
           0,
           0,
           0,
           0,
           0,
           0,
           0,
           0,
           0,
           0,
           0,
           0,
           0,
           0,
           0,
           0,
           0,
           0,
           0,
           0,
           0,
           0,
           0,
           0,
           0,
           0,
           0,
           0,
           0,
           0,
           0,
           0,
           0,
           0,
           0,
           0,
           0,
           0,
           0,
           0,
           0,
           0
          ],
          "coloraxis": "coloraxis",
          "symbol": "circle"
         },
         "mode": "markers",
         "name": "0",
         "scene": "scene",
         "showlegend": true,
         "type": "scatter3d",
         "x": [
          -0.33591170847832175,
          -0.3192707086724258,
          2.3057407549935354,
          -0.39402766367239095,
          -0.2734565810061467,
          -0.30603201267434366,
          -0.2628206275914162,
          -0.2389081124633849,
          -0.3355717286493329,
          -0.3281584243047275,
          -0.33441012748105275,
          -0.33590765036803466,
          -0.33589195149251194,
          0.7065318035634681,
          -0.36981112707124525,
          -0.3564454536648714,
          -0.30646162896376805,
          -0.3339730460802422,
          -0.3306647120846849,
          -0.3939224892098045,
          -0.4116434914729804,
          -0.03294051168601301,
          -0.2693869273061905,
          -0.2924517552404209,
          -0.2745685781744472,
          -0.2751900223452668,
          -0.3487539507276207,
          -0.33022158124577045,
          -0.33431555888011527,
          0.021789577539752098,
          -0.3505268760065715,
          -0.3942935723853236,
          -0.24102141393598656,
          -0.3127751492297158,
          -0.3942053352176279,
          -0.31117655936381317,
          -0.334590876521063,
          -0.3290795960845929,
          -0.39416984837252417,
          -0.24148843217338542,
          -0.27497115510984177,
          -0.32702721739416996,
          0.13039420912077937,
          -0.33897230183654453,
          -0.3052447632552141,
          -0.36923339459874044,
          -0.2924320153775017,
          -0.2752653339118326,
          -0.2870933493453981,
          -0.3358937990559186,
          -0.27521757522059337,
          -0.3509712028778404,
          -0.3356285363120798,
          -0.39427512398439296,
          -0.4100824895982933,
          -0.4105836329282098,
          -0.45071618688686227,
          -0.290835663403493,
          -0.27473985881891644,
          -0.29859931496020914,
          -0.24134608573288047,
          -0.07607302069582607,
          -0.3060029623784943,
          -0.07217838795796426,
          -0.306066561735455,
          -0.2296046842330297,
          -0.3355046012822527,
          -0.2907050462664866,
          -0.39144836625357204,
          0.8591465639835345,
          -0.3058669134536422,
          -0.023283752672407284,
          -0.35612914593996503,
          -0.39212088139752227,
          -0.3046122691185379,
          -0.30228381135366394,
          -0.3508142775355917,
          -0.39301207437055996,
          -0.34523535612210626,
          -0.31183305468180084,
          -0.3355426555487728,
          -0.3339836588980654,
          -0.23075020195594184,
          -0.33847830726843053,
          -0.3937497497196392,
          -0.3347479269014833,
          -0.3060475525236708,
          -0.3942643332547612,
          -0.3357315509446604,
          -0.3358880392431859,
          -0.29069431350399955,
          -0.25235830024285055,
          0.03809713864858295,
          -0.35508758622721015,
          -0.33550267047305726,
          -0.3804459253407566,
          -0.354417000932856,
          -0.23217875740230146,
          -0.40504646290808793,
          -0.35416663261792003,
          -0.27602381366399975,
          3.757530022005513,
          -0.3938574168158999,
          0.8555559618397724,
          -0.394219299743583,
          -0.3555507308229543,
          -0.3354303711336317,
          -0.3355845125809168,
          -0.35612914593996503,
          -0.3937948104083834,
          -0.30591039283712124,
          -0.33543109792226744,
          -0.37202891801058163,
          -0.3355783000122129,
          -0.33117267487876334,
          -0.394248259653459,
          -0.33479014431584664,
          0.34998091152995836,
          -0.3357773090382396,
          -0.3358477792053537,
          -0.34957488378856955,
          -0.34438179882598036,
          -0.33207991391759806,
          -0.3060239952171475,
          -0.3941583282834631,
          -0.3356258884586373,
          -0.3357526883465048,
          -0.29233872143975687,
          -0.28823779608235595,
          -0.23194691459717043,
          -0.31663120538774364,
          -0.29208014007269584,
          -0.39342511005474684,
          -0.3938695628355995,
          -0.39216504656014356,
          -0.35437798833830003,
          -0.39332312081900234,
          -0.3487852108750201,
          -0.3892696862912065,
          -0.33569604354859744,
          -0.3356952454251659,
          -0.32882685673306106,
          0.2690777340956193,
          -0.393800922809917,
          -0.27500504060336695,
          -0.35616341275252017,
          -0.33490782601572944,
          0.8915015994683522,
          -0.2615129256227781,
          -0.34401530719692713,
          0.6084398776781886,
          -0.35234792064050574,
          -0.3508521525219556,
          -0.41220626371120045,
          -0.2749030860082327,
          0.1283898808877308,
          -0.27497375494638165,
          -0.3504683247638858,
          -0.41171175792432607,
          -0.3940729271879149,
          -0.29241277688210704,
          -0.3560298981534206,
          -0.3353317281508045,
          -0.3358307311717194,
          -0.3314441198695141,
          0.6506678572490365,
          -0.3940138534999497,
          -0.3437599256088001,
          -0.33578641796590697,
          -0.30929087220112933,
          0.4323475583499558,
          -0.3043724153647747,
          -0.337135250797279,
          -0.3914734293315481,
          -0.3357368255425141,
          -0.3911669107495291,
          -0.3409946655211948,
          -0.335607375034897,
          -0.08953094111028159,
          -0.3928081637943983,
          3.7623795085881935,
          0.20641233817812962,
          -0.2716489819989253,
          -0.33307105785630886,
          -0.3089637764999095,
          -0.3494609352449999,
          0.07795478398117693,
          -0.33474716507528834,
          -0.3933884516742492,
          -0.3486268461880823,
          -0.3223293196487412,
          -0.3358528351609925,
          -0.35094316834882616,
          -0.345516913458593,
          -0.3020919780870671,
          -0.331403902953388,
          -0.22375390928998015,
          -0.3247731761048092,
          -0.36036125588019124,
          -0.3940901737444311,
          -0.3888492960941416,
          -0.29157394962077193,
          -0.32295539751312796,
          -0.3519474327571,
          -0.3358801547699952,
          -0.33586189118561155,
          -0.2859628379383354,
          -0.34308300344480874,
          -0.3556248931779952,
          -0.3355787872959692,
          3.9501704941231015,
          -0.3898365775473276,
          -0.35581331837742575,
          -0.32432629321096385,
          -0.28252150623580574,
          -0.44542403352463866,
          -0.2921073753514838,
          -0.13925056950445666,
          -0.29235914935001833,
          -0.34124776485818453,
          -0.33505354435623697,
          -0.1975427358353669,
          2.2428250612337903,
          -0.3451750685374096,
          -0.26164034932961716,
          1.0378862504635518,
          -0.36681171320996153,
          -0.3495743289400423,
          -0.39284870501788444,
          -0.17326167107544935,
          -0.3523672840255829,
          -0.34829555210469293,
          -0.3287670217500633,
          -0.3505211452029078,
          -0.39356419458685643,
          -0.28960833034225275,
          -0.35491441081671293,
          -0.3479002276074662,
          -0.3503827586741472,
          -0.19556088201182334,
          -0.3210072016034433,
          -0.34569438577442346,
          0.3115129713115998,
          -0.14115437324824856,
          -0.3921442726837063,
          -0.335582743506697,
          -0.39259977956375214,
          -0.3496911506602272,
          0.5697065917657617,
          -0.3509974146236992,
          -0.3350663905008909,
          -0.3833123673047995,
          -0.2960302688406583,
          -0.39113236423934705,
          -0.39379112289850926,
          3.774605426927195,
          0.09876186394499661,
          -0.3913337646982618,
          -0.3344527995244452,
          -0.3352765739495972,
          -0.26285322905940584,
          -0.33579419177219,
          -0.3854299391791202,
          -0.24961816134523898,
          -0.08596242884334243,
          -0.3811842400019741,
          -0.3350734228796313,
          -0.32814683916288256,
          -0.39036421584681563,
          -0.3335147405617626,
          -0.35640442135914696,
          -0.3902158296482102,
          -0.30454902381838705,
          3.757921304065172,
          -0.09989314402719335,
          -0.33071317433172315,
          -0.3483803487656291,
          -0.27537238936194114,
          3.767777354428301,
          3.76901995354624,
          -0.24377497219112235,
          -0.356340366540657,
          -0.37937213604500436,
          2.4932942109305785,
          -0.3339598364427827,
          -0.29275506922763717
         ],
         "y": [
          1.0380800143159368,
          1.0381701471756444,
          1.6343151885344276,
          1.2507155184796965,
          1.7679516124677317,
          0.8406428771835478,
          0.5710630882132762,
          1.757317275458329,
          1.0380779939443427,
          1.0382842577322773,
          1.03811957022512,
          1.0380797939540831,
          1.0380798802153532,
          0.3420313423674015,
          1.1034721528953615,
          1.5377703072330295,
          0.6152496447823183,
          1.038052534241819,
          0.981674760934682,
          1.2507182890718989,
          1.6573549241183418,
          0.7753368134511635,
          0.8400390461739179,
          0.7684899636725542,
          1.7719858225746066,
          1.7719694519811156,
          0.5316920234556166,
          1.0379549835614432,
          1.0380579123104532,
          1.0475028758324858,
          0.9811515354758295,
          1.2507229138616156,
          0.1264369543259283,
          1.6011551100082613,
          1.250718693103824,
          1.0376842754387703,
          1.0380493505010195,
          0.5181092042476824,
          1.2507225735502752,
          0.12649011003161217,
          1.7719752175618508,
          1.037659474072938,
          0.5615227793214731,
          1.0133186514567027,
          0.8406335047445248,
          1.103490239072192,
          0.7685010748266464,
          1.7719596130677775,
          0.7683144189372659,
          1.0380804861281607,
          1.7719621803321883,
          0.981126738995079,
          1.038074382240696,
          1.2507234004991492,
          1.3178602058010185,
          1.8164511968389143,
          0.8077777912697653,
          0.7684776689591403,
          1.7719485814168796,
          0.8401984934005221,
          1.757464942136394,
          1.0517821271999725,
          0.8406436424503347,
          1.2418291631866851,
          0.8406494947664481,
          1.5910893849309313,
          1.0380632462166608,
          0.7684018708072861,
          1.2505465054649234,
          0.7340332035703601,
          0.8406354438718548,
          0.3475835484436511,
          1.5377655480144414,
          1.250731055616093,
          0.8405488860950459,
          0.8404123602160393,
          1.5878374696722926,
          1.2506656857758804,
          1.3490615008692253,
          1.0374051483622477,
          1.038060716400125,
          1.038065346327087,
          1.5022848883586428,
          0.9810388678562647,
          1.2507045111980468,
          1.0380517591791452,
          0.840643122402897,
          1.2507217210088981,
          1.0380710139616716,
          1.038080637857885,
          0.7685468507986747,
          0.4861364038773191,
          1.9353597362306674,
          1.5377576381636084,
          1.0380907895589975,
          1.2501058263611617,
          1.537797559156398,
          1.5023765362062411,
          1.9669981593173338,
          1.5376333083758966,
          1.9352632617678398,
          1.9752494143438137,
          1.2507147665996843,
          1.8012000973301685,
          1.250722348745623,
          1.5377611476159396,
          1.0380674665049248,
          1.038061141127504,
          1.5377655480144414,
          1.250696778343899,
          0.8406473901590173,
          1.0380710737482064,
          0.8819185464245869,
          1.0380704689438893,
          1.0377789431016118,
          1.2507208352672399,
          1.038015299579813,
          0.7641403378209274,
          1.038075045227072,
          1.038079527962328,
          1.3486598656637085,
          0.5201293382477717,
          1.037853663206329,
          0.8406437429688415,
          1.250720354259663,
          1.038074451992629,
          1.0380698461990787,
          0.7684675303959684,
          0.10536190534489794,
          1.502374772419815,
          1.0379333343720325,
          0.7684878092695323,
          1.250680333981008,
          1.7693662185211285,
          1.250706981781576,
          1.5377525761438684,
          1.2506830206653434,
          1.5377102665123419,
          1.2505279664347817,
          1.038071810475937,
          1.038066995521927,
          1.0376120664932524,
          0.5359892614685002,
          1.250709708982834,
          0.7676509848455911,
          1.5377580995014588,
          1.038037728242526,
          1.7284121060592428,
          0.5709747473753428,
          1.3490501106425077,
          1.9583142176320834,
          1.587849435811563,
          1.5878168344529826,
          2.3406319721417663,
          1.7719573732088474,
          1.0175818865927817,
          1.7719627786454528,
          1.293026467802898,
          2.340644998819941,
          1.250722503636998,
          0.7684901880251852,
          1.5377409318579414,
          1.0380637077309496,
          1.0380793982663032,
          1.768721107060429,
          1.6818746767226356,
          1.250712609364409,
          0.5315642148133632,
          1.0380730160793232,
          0.751014444562387,
          1.0419535607957653,
          0.8406355381992189,
          1.5874712268909164,
          1.8712725581051703,
          1.038070875013877,
          1.618167433808759,
          1.1997524629009937,
          1.0380783511935794,
          0.5697449643726854,
          1.2506677844417855,
          1.9751316949422972,
          1.5829378186973442,
          1.7719252705815953,
          1.0380173827017096,
          1.318256382596647,
          1.3486595944757553,
          1.0162532837867135,
          1.0380125042772652,
          1.2507140288083294,
          1.3486161084515185,
          1.0378486882436355,
          1.0380789469014056,
          0.9811268229208587,
          1.349059647808443,
          0.04857236891297436,
          1.038046899444885,
          1.502076440749245,
          3.2773338530101297,
          0.8822171839392433,
          1.250711908039439,
          1.4124405680510428,
          0.7684425104281444,
          1.4142880264271942,
          1.5878338024791048,
          1.0380788818086364,
          1.0380780537573138,
          0.7683441997986075,
          1.2952151861913082,
          1.5377343198221798,
          1.038069146941775,
          1.955387085348845,
          1.6182024785401834,
          1.5377345928333326,
          0.5582118326463662,
          1.03613372157763,
          0.969516966188139,
          0.7684926076073338,
          1.0365838788314699,
          0.7684741926784185,
          1.9383929193275249,
          1.0380476358498318,
          1.4878528304169512,
          0.28980551939596916,
          1.3483601091111441,
          0.5710367324404516,
          1.694592393243214,
          0.8277923867864142,
          1.3486559527829312,
          1.6182506754130708,
          0.7605909996785836,
          1.020585352035248,
          1.3486379273296003,
          1.0376136427155895,
          0.9811156843850517,
          1.2507093992439755,
          0.7684052671213801,
          1.5376731768261707,
          1.0491823490392067,
          0.9810898736489176,
          1.0299947600944193,
          2.4748978899782927,
          1.1428596186675288,
          0.9187702854073685,
          0.9866669981544008,
          1.6182372564317613,
          1.0380749339695978,
          1.618248143930018,
          1.348657869836177,
          1.0129737598913022,
          0.9811262448785631,
          1.0380472974461235,
          1.4122984099328184,
          1.9363766198726398,
          1.2505312648675773,
          1.250716512968583,
          1.9751264687180172,
          1.0266201436342288,
          1.2508008842047613,
          1.0379875295546137,
          1.0380612304550032,
          0.5710566654444325,
          1.0380831100651566,
          1.2506291162114374,
          1.0334801100961244,
          0.8463301612526977,
          1.2504136684901879,
          1.0380922784095306,
          1.0380227297807303,
          1.2506902716268904,
          1.0380384239890594,
          1.5377654968941972,
          0.6118833810690281,
          0.8406276129198604,
          1.975236864832144,
          0.7670214800637165,
          1.0380205835530982,
          0.5316649479277413,
          1.7719645693692216,
          1.9756011808583012,
          1.9756339144263158,
          0.5709184039763888,
          1.53776742376459,
          2.060534576622067,
          0.8514498635744973,
          1.0379677864514671,
          0.7684919100935688
         ],
         "z": [
          -0.5327328484302059,
          -0.5332596865305412,
          -0.5953287475264681,
          -0.42550006920684486,
          -0.19310141845507986,
          -0.3553669752519452,
          -0.06905005618442349,
          -0.5274471158306134,
          -0.5327426944153822,
          -0.5330168555338686,
          -0.532787852181033,
          -0.5327329193329102,
          -0.5327334166367674,
          -0.5662270853171074,
          -0.4050452369292892,
          -0.011235519141664449,
          -0.22249813764191126,
          -0.5327852015976694,
          -0.1399232570573361,
          -0.42550392180570795,
          -0.5515457828561868,
          -0.25592959792549697,
          -0.3563365181211788,
          -0.24642104107940513,
          -0.549665277326317,
          -0.5496425134818568,
          -0.28326632289536735,
          -0.5328759670406902,
          -0.5327760763687954,
          -0.545835644826987,
          -0.13919569498274784,
          -0.4254937498726277,
          0.15692143493769795,
          -0.2425657055569332,
          -0.42549542711138855,
          -0.5333900957620061,
          -0.532765680312369,
          -0.44962569983765055,
          -0.425497426806097,
          0.1569229911434799,
          -0.5496505307100141,
          -0.5329027829587162,
          -0.8190671141307881,
          -0.09253989107572011,
          -0.35538865920623924,
          -0.40506708072079345,
          -0.2464242803021835,
          -0.54963788866569,
          -0.24654208394263277,
          -0.5327335044688066,
          -0.5496399491116465,
          -0.1391763088569242,
          -0.5327401110039292,
          -0.4254944258032892,
          -0.3865800041181695,
          -0.7054243465861825,
          -0.17820205002152134,
          -0.2464672046287575,
          -0.5496512277557972,
          -0.3554871509828627,
          -0.527408150193419,
          -0.40278380615579995,
          -0.3553680393803853,
          -0.43316423557459893,
          -0.35536749805776563,
          -0.5113153839571374,
          -0.5327412296079225,
          -0.24645316439545223,
          -0.42553825593036093,
          -0.27321182019196033,
          -0.35537022376031435,
          -0.5453799556865702,
          -0.01124399548273868,
          -0.42556167370505005,
          -0.3553877666388767,
          -0.3554260527604437,
          -0.5068614135267175,
          -0.4255190762165094,
          -0.08318041723453164,
          -0.5333038442500575,
          -0.5327394728040377,
          -0.5327879230304966,
          -0.2633380134798368,
          -0.13953487111691754,
          -0.425505895088269,
          -0.5327614825629903,
          -0.35536656152796114,
          -0.4254943545457635,
          -0.5327361820115225,
          -0.53273371545394,
          -0.2464879332850642,
          -0.3678547369383975,
          -0.6610223255757559,
          -0.011273750889568205,
          -0.53274783172561,
          -0.42576773304848464,
          -0.011303602133072542,
          -0.2633163977716572,
          -0.45047939778140794,
          -0.011272185317111515,
          -0.6514588343028194,
          -0.24487042879113197,
          -0.42550506136907745,
          -0.5909301827707129,
          -0.42549587144798157,
          -0.01126051786976607,
          -0.5327444867616316,
          -0.5327383024127554,
          -0.01124399548273868,
          -0.4255026893971485,
          -0.3553717412726222,
          -0.532745321660546,
          0.002587695658409813,
          -0.5327407071129497,
          -0.5328052582019125,
          -0.42549463231206663,
          -0.5327515386128876,
          -0.2648998495862796,
          -0.5327357499416805,
          -0.5327346745653789,
          -0.15036887414858746,
          -0.32831501847140293,
          -0.53279545453989,
          -0.3553674244451578,
          -0.42549724946045925,
          -0.532740207996268,
          -0.5327352625948037,
          -0.2464191446987144,
          -0.32300929021499636,
          -0.26332302034503624,
          -0.5332835946412997,
          -0.2464318160603196,
          -0.42551001135358335,
          -0.6607408506559643,
          -0.42555461308476433,
          -0.011294100416015446,
          -0.4255137472758243,
          -0.011453914356797667,
          -0.4256000231049671,
          -0.5327374496803322,
          -0.5327363300320603,
          -0.5328368611721443,
          -0.0768725335341055,
          -0.42550557568271896,
          -0.24675162142571078,
          -0.01124118517728714,
          -0.5327532927301288,
          -0.5549132404330537,
          -0.06906878694266765,
          -0.08321476693376109,
          -0.6128570738849964,
          -0.5068176760745523,
          -0.5068553608656314,
          -0.5751983317017081,
          -0.5496483588395982,
          -0.5419650074628137,
          -0.5496474966324177,
          -0.06218075642510567,
          -0.5752164457227997,
          -0.4255003539148615,
          -0.24642227824078045,
          -0.011241161802266758,
          -0.5327465898023411,
          -0.5327351615412579,
          -0.19152301316962037,
          -0.036605823803765467,
          -0.42549979753455763,
          -0.28338763934935796,
          -0.5327349912178782,
          -0.011323230776404833,
          -0.5569868784637487,
          -0.35541563749506905,
          -0.5071898685232008,
          -0.5279325381844441,
          -0.5327359888000793,
          -0.4367178193176293,
          -0.12943042046807535,
          -0.5327416966248539,
          -0.07400011352363796,
          -0.4255257680273906,
          -0.2449897521811029,
          -0.5226216498436494,
          -0.5497395667972544,
          -0.5328042460882871,
          -0.2205028529068443,
          -0.15037227060034683,
          -0.540117541905601,
          -0.5327521799104257,
          -0.4255191296359489,
          -0.15038727281372508,
          -0.5330904204884364,
          -0.53273438296174,
          -0.13917718026795073,
          -0.0831714254623673,
          -0.4233262269760279,
          -0.5328618936916804,
          -0.26350098597161636,
          5.1292800643579035,
          -0.2703144770158714,
          -0.4254973129003186,
          -0.43207077728401033,
          -0.24643642857189463,
          -0.06870182114271668,
          -0.5068261257952691,
          -0.5327335377386296,
          -0.5327338957252269,
          -0.246583495202146,
          -0.0480585223744477,
          -0.01125189190775969,
          -0.5327403782448528,
          -0.30649030999797106,
          -0.43676655016026533,
          -0.011246233862745855,
          -0.04975310360315469,
          -0.5338920500335385,
          -0.1847795697933242,
          -0.24643212880419804,
          -0.538350459996177,
          -0.2464201070154628,
          -0.6502213467750082,
          -0.532751220682079,
          -0.2411015315325889,
          -0.5650211298643221,
          -0.15043129340746927,
          -0.06907964259135181,
          -0.13465883786257513,
          -0.33609225367226864,
          -0.15036796141712902,
          -0.436686515095122,
          -0.24816455889779143,
          -0.297642139312288,
          -0.15040251848587197,
          -0.5328390529607396,
          -0.1391873518931386,
          -0.42551269207564135,
          -0.2464872810293195,
          -0.011258945134508988,
          -0.37891197649786595,
          -0.13918542314938837,
          -0.5350748094062316,
          -0.3611858773493253,
          -0.14575186726926267,
          -0.15671351793477908,
          -0.14686512581957464,
          -0.4367047223676589,
          -0.532741632910463,
          -0.4366934741258605,
          -0.15036486870880683,
          -0.554274052294617,
          -0.1391753953589369,
          -0.5327507501206794,
          -0.4322051739578406,
          -0.6511156930938125,
          -0.4255442329241017,
          -0.42550748975201974,
          -0.24535983969134184,
          -0.5432123564487621,
          -0.42560216942441464,
          -0.5327551872181607,
          -0.532747676434894,
          -0.06904754014543289,
          -0.5327371531388245,
          -0.42574067517015746,
          -0.5342609811339322,
          -0.36340212053383664,
          -0.42581844282884895,
          -0.5327612226632303,
          -0.5329550761794987,
          -0.4256053385995307,
          -0.5327957692104085,
          -0.011235622593966562,
          -0.16520054271127238,
          -0.35540839068295776,
          -0.2448793315335376,
          -0.25192061875224425,
          -0.5328766208308102,
          -0.2832712377056428,
          -0.5496358146158274,
          -0.24526523292206756,
          -0.245310750016564,
          -0.06959414365430124,
          -0.011238025852111599,
          0.2765621953114957,
          -0.18030515453177232,
          -0.5327654692635375,
          -0.24641229115126403
         ]
        },
        {
         "customdata": [
          [
           "Bitcoin",
           "SHA-256"
          ],
          [
           "Ethereum",
           "Ethash"
          ],
          [
           "Litecoin",
           "Scrypt"
          ],
          [
           "Monero",
           "CryptoNight-V7"
          ],
          [
           "Ethereum Classic",
           "Ethash"
          ],
          [
           "ZCash",
           "Equihash"
          ],
          [
           "DigiByte",
           "Multiple"
          ],
          [
           "ProsperCoin",
           "Scrypt"
          ],
          [
           "Spreadcoin",
           "X11"
          ],
          [
           "Argentum",
           "Scrypt"
          ],
          [
           "MyriadCoin",
           "Multiple"
          ],
          [
           "MoonCoin",
           "Scrypt"
          ],
          [
           "ZetaCoin",
           "SHA-256"
          ],
          [
           "SexCoin",
           "Scrypt"
          ],
          [
           "Quatloo",
           "Scrypt"
          ],
          [
           "QuarkCoin",
           "Quark"
          ],
          [
           "Riecoin",
           "Groestl"
          ],
          [
           "Digitalcoin ",
           "Scrypt"
          ],
          [
           "Catcoin",
           "Scrypt"
          ],
          [
           "CannaCoin",
           "Scrypt"
          ],
          [
           "CryptCoin",
           "X11"
          ],
          [
           "Verge",
           "Multiple"
          ],
          [
           "DevCoin",
           "SHA-256"
          ],
          [
           "EarthCoin",
           "Scrypt"
          ],
          [
           "E-Gulden",
           "Scrypt"
          ],
          [
           "Einsteinium",
           "Scrypt"
          ],
          [
           "Emerald",
           "Scrypt"
          ],
          [
           "Franko",
           "Scrypt"
          ],
          [
           "FeatherCoin",
           "NeoScrypt"
          ],
          [
           "GrandCoin",
           "Scrypt"
          ],
          [
           "GlobalCoin",
           "Scrypt"
          ],
          [
           "GoldCoin",
           "Scrypt"
          ],
          [
           "Infinite Coin",
           "Scrypt"
          ],
          [
           "IXcoin",
           "SHA-256"
          ],
          [
           "KrugerCoin",
           "Scrypt"
          ],
          [
           "LuckyCoin",
           "Scrypt"
          ],
          [
           "Litebar ",
           "Scrypt"
          ],
          [
           "MegaCoin",
           "Scrypt"
          ],
          [
           "MediterraneanCoin",
           "HybridScryptHash256"
          ],
          [
           "MinCoin",
           "Scrypt"
          ],
          [
           "NobleCoin",
           "Scrypt"
          ],
          [
           "Namecoin",
           "SHA-256"
          ],
          [
           "NyanCoin",
           "Scrypt"
          ],
          [
           "RonPaulCoin",
           "Scrypt"
          ],
          [
           "StableCoin",
           "Scrypt"
          ],
          [
           "SmartCoin",
           "Scrypt"
          ],
          [
           "SysCoin",
           "SHA-256"
          ],
          [
           "TigerCoin",
           "SHA-256"
          ],
          [
           "TerraCoin",
           "SHA-256"
          ],
          [
           "UnbreakableCoin",
           "SHA-256"
          ],
          [
           "Unobtanium",
           "SHA-256"
          ],
          [
           "UroCoin",
           "X11"
          ],
          [
           "ViaCoin",
           "Scrypt"
          ],
          [
           "Vertcoin",
           "Lyra2REv2"
          ],
          [
           "WorldCoin",
           "Scrypt"
          ],
          [
           "JouleCoin",
           "SHA-256"
          ],
          [
           "ByteCoin",
           "CryptoNight"
          ],
          [
           "DigitalNote ",
           "CryptoNight"
          ],
          [
           "MonaCoin",
           "Scrypt"
          ],
          [
           "Gulden",
           "Scrypt"
          ],
          [
           "PesetaCoin",
           "Scrypt"
          ],
          [
           "Wild Beast Coin",
           "Scrypt"
          ],
          [
           "Flo",
           "Scrypt"
          ],
          [
           "ArtByte",
           "Scrypt"
          ],
          [
           "Folding Coin",
           "Stanford Folding"
          ],
          [
           "Unitus",
           "Multiple"
          ],
          [
           "CypherPunkCoin",
           "QuBit"
          ],
          [
           "OmniCron",
           "Scrypt"
          ],
          [
           "GreenCoin",
           "Scrypt"
          ],
          [
           "Cryptonite",
           "M7 POW"
          ],
          [
           "MasterCoin",
           "Scrypt"
          ],
          [
           "SoonCoin",
           "SHA-256"
          ],
          [
           "1Credit",
           "Scrypt"
          ],
          [
           "MarsCoin ",
           "X11"
          ],
          [
           "Crypto",
           "Lyra2RE"
          ],
          [
           "Anarchists Prime",
           "SHA-256"
          ],
          [
           "BowsCoin",
           "X11"
          ],
          [
           "Song Coin",
           "Scrypt"
          ],
          [
           "BitZeny",
           "Scrypt"
          ],
          [
           "Expanse",
           "Ethash"
          ],
          [
           "Siacoin",
           "Blake2b"
          ],
          [
           "MindCoin",
           "X11"
          ],
          [
           "I0coin",
           "SHA-256"
          ],
          [
           "Revolution VR",
           "Scrypt"
          ],
          [
           "HOdlcoin",
           "1GB AES Pattern Search"
          ],
          [
           "Gamecredits",
           "Scrypt"
          ],
          [
           "CarpeDiemCoin",
           "SHA-256"
          ],
          [
           "Adzcoin",
           "X11"
          ],
          [
           "SoilCoin",
           "Dagger"
          ],
          [
           "YoCoin",
           "Scrypt"
          ],
          [
           "SibCoin",
           "X11GOST"
          ],
          [
           "Francs",
           "Scrypt"
          ],
          [
           "BolivarCoin",
           "X11"
          ],
          [
           "Omni",
           "Scrypt"
          ],
          [
           "PizzaCoin",
           "X11"
          ],
          [
           "Komodo",
           "Equihash"
          ],
          [
           "Karbo",
           "CryptoNight"
          ],
          [
           "ZayedCoin",
           "SHA-256"
          ],
          [
           "Circuits of Value",
           "Multiple"
          ],
          [
           "DopeCoin",
           "Scrypt"
          ],
          [
           "DollarCoin",
           "SHA-256"
          ],
          [
           "Shilling",
           "Scrypt"
          ],
          [
           "ZCoin",
           "Lyra2Z"
          ],
          [
           "Elementrem",
           "Ethash"
          ],
          [
           "ZClassic",
           "Equihash"
          ],
          [
           "KiloCoin",
           "Scrypt"
          ],
          [
           "ArtexCoin",
           "X11"
          ],
          [
           "Kurrent",
           "X11"
          ],
          [
           "Cannabis Industry Coin",
           "CryptoNight"
          ],
          [
           "OsmiumCoin",
           "Scrypt"
          ],
          [
           "Bikercoins",
           "CryptoNight"
          ],
          [
           "HexxCoin",
           "Lyra2RE"
          ],
          [
           "PacCoin",
           "X11"
          ],
          [
           "Citadel",
           "CryptoNight-V7"
          ],
          [
           "BeaverCoin",
           "Scrypt"
          ],
          [
           "VaultCoin",
           "X11"
          ],
          [
           "Zero",
           "Equihash"
          ],
          [
           "Canada eCoin",
           "Scrypt"
          ],
          [
           "Zoin",
           "Lyra2RE"
          ],
          [
           "DubaiCoin",
           "Dagger-Hashimoto"
          ],
          [
           "EB3coin",
           "Scrypt"
          ],
          [
           "Coinonat",
           "NIST5"
          ],
          [
           "BenjiRolls",
           "Scrypt"
          ],
          [
           "ILCoin",
           "SHA-256"
          ],
          [
           "EquiTrader",
           "Scrypt"
          ],
          [
           "Quantum Resistant Ledger",
           "CryptoNight-V7"
          ],
          [
           "Dynamic",
           "Argon2d"
          ],
          [
           "Nano",
           "Blake2b"
          ],
          [
           "ChanCoin",
           "Cloverhash"
          ],
          [
           "Dinastycoin",
           "CryptoNight"
          ],
          [
           "DigitalPrice",
           "X11"
          ],
          [
           "Unify",
           "Scrypt"
          ],
          [
           "SocialCoin",
           "Scrypt"
          ],
          [
           "ArcticCoin",
           "X11"
          ],
          [
           "DAS",
           "X11"
          ],
          [
           "LeviarCoin",
           "CryptoNight"
          ],
          [
           "Bitcore",
           "Time Travel"
          ],
          [
           "gCn Coin",
           "Scrypt"
          ],
          [
           "SmartCash",
           "Keccak"
          ],
          [
           "Onix",
           "X11"
          ],
          [
           "Bitcoin Cash",
           "SHA-256"
          ],
          [
           "Sojourn Coin",
           "Scrypt"
          ],
          [
           "NewYorkCoin",
           "Scrypt"
          ],
          [
           "FrazCoin",
           "Scrypt"
          ],
          [
           "Kronecoin",
           "Scrypt"
          ],
          [
           "AdCoin",
           "Scrypt"
          ],
          [
           "Linx",
           "Scrypt"
          ],
          [
           "Sumokoin",
           "CryptoNight"
          ],
          [
           "BitcoinZ",
           "Equihash"
          ],
          [
           "Elements",
           "X11"
          ],
          [
           "VIVO Coin",
           "NeoScrypt"
          ],
          [
           "Bitcoin Gold",
           "Equihash"
          ],
          [
           "Pirl",
           "Dagger"
          ],
          [
           "eBoost",
           "Scrypt"
          ],
          [
           "Pura",
           "X11"
          ],
          [
           "Innova",
           "NeoScrypt"
          ],
          [
           "Ellaism",
           "Ethash"
          ],
          [
           "GoByte",
           "NeoScrypt"
          ],
          [
           "SHIELD",
           "Multiple"
          ],
          [
           "UltraNote",
           "CryptoNight"
          ],
          [
           "BitCoal",
           "CryptoNight"
          ],
          [
           "DaxxCoin",
           "Ethash"
          ],
          [
           "AC3",
           "X11"
          ],
          [
           "Lethean",
           "CryptoNight-V7"
          ],
          [
           "PopularCoin",
           "Scrypt"
          ],
          [
           "Photon",
           "BLAKE256"
          ],
          [
           "Sucre",
           "X11"
          ],
          [
           "SparksPay",
           "NeoScrypt"
          ],
          [
           "GunCoin",
           "NeoScrypt"
          ],
          [
           "IrishCoin",
           "Scrypt"
          ],
          [
           "Pioneer Coin",
           "X11"
          ],
          [
           "UnitedBitcoin",
           "SHA-256"
          ],
          [
           "Interzone",
           "C11"
          ],
          [
           "1717 Masonic Commemorative Token",
           "Ethash"
          ],
          [
           "TurtleCoin",
           "CryptoNight"
          ],
          [
           "MUNcoin",
           "SkunkHash"
          ],
          [
           "Niobio Cash",
           "CryptoNight"
          ],
          [
           "ShareChain",
           "Scrypt"
          ],
          [
           "Travelflex",
           "Dagger"
          ],
          [
           "KREDS",
           "Lyra2REv2"
          ],
          [
           "BitFlip",
           "Scrypt"
          ],
          [
           "LottoCoin",
           "Scrypt"
          ],
          [
           "Crypto Improvement Fund",
           "X11"
          ],
          [
           "Callisto Network",
           "Ethash"
          ],
          [
           "BitTube",
           "CryptoNight"
          ],
          [
           "Poseidon",
           "Scrypt"
          ],
          [
           "Aidos Kuneen",
           "IMesh"
          ],
          [
           "Bitrolium",
           "Equihash"
          ],
          [
           "Alpenschillling",
           "Lyra2Z"
          ],
          [
           "FuturoCoin",
           "X11"
          ],
          [
           "Monero Classic",
           "CryptoNight"
          ],
          [
           "Jumpcoin",
           "NIST5"
          ],
          [
           "Infinex",
           "Lyra2RE"
          ],
          [
           "KEYCO",
           "Tribus"
          ],
          [
           "GINcoin",
           "Lyra2Z"
          ],
          [
           "PlatinCoin",
           "CryptoNight"
          ],
          [
           "Loki",
           "CryptoNight Heavy"
          ],
          [
           "Newton Coin",
           "CryptoNight"
          ],
          [
           "MassGrid",
           "Jump Consistent Hash"
          ],
          [
           "PluraCoin",
           "CryptoNight"
          ],
          [
           "Motion",
           "X16R"
          ],
          [
           "PlusOneCoin",
           "HMQ1725"
          ],
          [
           "Axe",
           "X11"
          ],
          [
           "HexCoin",
           "Scrypt"
          ],
          [
           "Webchain",
           "CryptoNight-V7"
          ],
          [
           "Ryo",
           "Cryptonight-GPU"
          ],
          [
           "Urals Coin",
           "XEVAN"
          ],
          [
           "Qwertycoin",
           "CryptoNight Heavy"
          ],
          [
           "Project Pai",
           "SHA-256"
          ],
          [
           "Azart",
           "X11"
          ],
          [
           "Xchange",
           "X16R"
          ],
          [
           "CrypticCoin",
           "Equihash"
          ],
          [
           "Actinium",
           "Lyra2Z"
          ],
          [
           "Bitcoin SV",
           "SHA-256"
          ],
          [
           "FREDEnergy",
           "CryptoNight"
          ],
          [
           "Universal Molecule",
           "Blake"
          ],
          [
           "Lithium",
           "Blake"
          ],
          [
           "PirateCash",
           "Equihash"
          ],
          [
           "Exosis",
           "Exosis"
          ],
          [
           "Block-Logic",
           "Scrypt"
          ],
          [
           "Beam",
           "Equihash"
          ],
          [
           "Bithereum",
           "Equihash"
          ],
          [
           "SLICE",
           "QuBit"
          ],
          [
           "BLAST",
           "SHA-256"
          ],
          [
           "Bitcoin Rhodium",
           "X13"
          ],
          [
           "GlobalToken",
           "SHA-256"
          ],
          [
           "SolarCoin",
           "Scrypt"
          ],
          [
           "UFO Coin",
           "NeoScrypt"
          ],
          [
           "BlakeCoin",
           "Blake"
          ],
          [
           "Crypto Escudo",
           "Scrypt"
          ],
          [
           "Crown Coin",
           "SHA-256"
          ],
          [
           "SmileyCoin",
           "Scrypt"
          ],
          [
           "Groestlcoin",
           "Groestl"
          ],
          [
           "Bata",
           "Scrypt"
          ],
          [
           "Pakcoin",
           "Scrypt"
          ],
          [
           "JoinCoin",
           "Multiple"
          ],
          [
           "Vollar",
           "Equihash+Scrypt"
          ],
          [
           "Reality Clash",
           "Ethash"
          ],
          [
           "Beldex",
           "CryptoNight"
          ],
          [
           "Horizen",
           "Equihash"
          ]
         ],
         "hovertemplate": "class=%{marker.color}<br>PC 1=%{x}<br>PC 2=%{y}<br>PC 3=%{z}<br>CoinName=%{customdata[0]}<br>Algorithm=%{customdata[1]}<extra></extra>",
         "legendgroup": "1",
         "marker": {
          "color": [
           1,
           1,
           1,
           1,
           1,
           1,
           1,
           1,
           1,
           1,
           1,
           1,
           1,
           1,
           1,
           1,
           1,
           1,
           1,
           1,
           1,
           1,
           1,
           1,
           1,
           1,
           1,
           1,
           1,
           1,
           1,
           1,
           1,
           1,
           1,
           1,
           1,
           1,
           1,
           1,
           1,
           1,
           1,
           1,
           1,
           1,
           1,
           1,
           1,
           1,
           1,
           1,
           1,
           1,
           1,
           1,
           1,
           1,
           1,
           1,
           1,
           1,
           1,
           1,
           1,
           1,
           1,
           1,
           1,
           1,
           1,
           1,
           1,
           1,
           1,
           1,
           1,
           1,
           1,
           1,
           1,
           1,
           1,
           1,
           1,
           1,
           1,
           1,
           1,
           1,
           1,
           1,
           1,
           1,
           1,
           1,
           1,
           1,
           1,
           1,
           1,
           1,
           1,
           1,
           1,
           1,
           1,
           1,
           1,
           1,
           1,
           1,
           1,
           1,
           1,
           1,
           1,
           1,
           1,
           1,
           1,
           1,
           1,
           1,
           1,
           1,
           1,
           1,
           1,
           1,
           1,
           1,
           1,
           1,
           1,
           1,
           1,
           1,
           1,
           1,
           1,
           1,
           1,
           1,
           1,
           1,
           1,
           1,
           1,
           1,
           1,
           1,
           1,
           1,
           1,
           1,
           1,
           1,
           1,
           1,
           1,
           1,
           1,
           1,
           1,
           1,
           1,
           1,
           1,
           1,
           1,
           1,
           1,
           1,
           1,
           1,
           1,
           1,
           1,
           1,
           1,
           1,
           1,
           1,
           1,
           1,
           1,
           1,
           1,
           1,
           1,
           1,
           1,
           1,
           1,
           1,
           1,
           1,
           1,
           1,
           1,
           1,
           1,
           1,
           1,
           1,
           1,
           1,
           1,
           1,
           1,
           1,
           1,
           1,
           1,
           1,
           1,
           1,
           1,
           1,
           1,
           1,
           1,
           1,
           1,
           1,
           1,
           1,
           1,
           1,
           1,
           1,
           1,
           1,
           1,
           1,
           1,
           1,
           1,
           1
          ],
          "coloraxis": "coloraxis",
          "symbol": "diamond"
         },
         "mode": "markers",
         "name": "1",
         "scene": "scene",
         "showlegend": true,
         "type": "scatter3d",
         "x": [
          -0.13849893351049455,
          -0.15779511896943263,
          -0.1672107635771792,
          -0.14705590843915595,
          -0.1562393303123358,
          -0.16011479262216463,
          0.16931018345212318,
          -0.16835553067056863,
          -0.2266788311574667,
          -0.16797259574604625,
          -0.08376229814405067,
          2.5496660778373847,
          -0.13558759764871556,
          -0.16523157448791947,
          -0.16777691478833545,
          -0.22070475059401015,
          -0.20134611650154607,
          -0.1678255497344972,
          -0.1683378180378778,
          -0.16842415757576032,
          -0.2267680629648618,
          0.1930374587257395,
          0.23886141246977868,
          0.07998653613068736,
          -0.1681707696786997,
          -0.16378179093045767,
          -0.168110152935785,
          -0.16848108908050552,
          -0.1765582043071008,
          -0.14773054128640167,
          -0.1672777330647648,
          -0.16755485007423673,
          1.5781872648128379,
          -0.13846034944687882,
          -0.1648477933141826,
          -0.16819717795405964,
          -0.16855153669576187,
          -0.16781173912399971,
          -0.13505297226362237,
          -0.16843295895850804,
          -0.03352313795883245,
          -0.13853786655643996,
          -0.16210498961821562,
          -0.168412441504652,
          -0.1665094123780449,
          -0.1678998474202735,
          -0.12570670585802576,
          -0.13800231894960976,
          -0.13828917065352603,
          -0.1382722326869958,
          -0.1388621090793152,
          -0.2269417211851446,
          -0.16812927520662863,
          -0.18434543420710336,
          -0.16523630575351494,
          -0.1380695297177497,
          3.862562803456081,
          0.46588574777975184,
          -0.1669983550430946,
          -0.15161814237188187,
          -0.16571880642310105,
          -0.1685537452522356,
          -0.16558399875333213,
          -0.15182547311550132,
          -0.1253585132827494,
          -0.11772496516985899,
          -0.17789387617274297,
          -0.16842697677792542,
          -0.04153281699937077,
          -0.13525002700611555,
          -0.16856262409718734,
          -0.13856561065660608,
          0.4826716628694724,
          -0.2263296940050644,
          -0.15340957353207899,
          -0.13830583487251186,
          -0.22661423208290557,
          -0.16668897747058797,
          -0.16588225063210307,
          -0.1588613182050121,
          0.3826249103419701,
          -0.22664957877304098,
          -0.13846147044789367,
          -0.1645256621261075,
          -0.15905793530807685,
          -0.1671278300158416,
          0.2794864863943192,
          -0.2258114123455127,
          -0.1408885683555595,
          -0.16737508493920428,
          -0.14587005365661587,
          -0.16835281754468126,
          -0.22661287995918455,
          -0.1685626825171141,
          -0.2267626706888301,
          -0.30756210190087174,
          0.31099199517564396,
          -0.13872122572819712,
          -0.09782320731103905,
          -0.16573310108908443,
          -0.1386799065055255,
          -0.16822653167151416,
          -0.15021751392653956,
          -0.15860379917591091,
          -0.16013638369898134,
          -0.0953918719521793,
          -0.21336283281269777,
          -0.22459373885648293,
          0.3109863491411669,
          -0.1685444455048714,
          0.311116901934246,
          -0.15394928393433277,
          0.4874708376245977,
          -0.14582237855847843,
          -0.16851277173331944,
          -0.21950694397349563,
          -0.16014873754603165,
          -0.16664842824807677,
          -0.15366801919504802,
          -0.14468465621610377,
          -0.13947747708458988,
          -0.1846673802798614,
          -0.16807572391624323,
          -0.10509062256040405,
          -0.167898058306987,
          -0.14568016322768482,
          -0.15128785139536627,
          -0.017197665787809898,
          -0.1590275466059555,
          0.34706193336254243,
          -0.22581982024846117,
          -0.1682168555124453,
          -0.16798060565917664,
          -0.22621396490453696,
          -0.2267906602708102,
          0.31138081167485954,
          -0.16097095026895814,
          3.236733665976454,
          -0.12047292547580211,
          -0.2176754082430041,
          -0.13849809873192578,
          -0.09424175485542335,
          1.5763573822544779,
          -0.1683145865955736,
          -0.1677669864785867,
          -0.16746834545401887,
          -0.16745529208127027,
          0.31156414748126793,
          0.05189033417016847,
          -0.18123512429892125,
          -0.18124083504092756,
          -0.15999497989753247,
          -0.13964934862746448,
          -0.16664663955444617,
          -0.22234094889821115,
          -0.181086460283666,
          -0.15697135467333173,
          -0.18118652477361322,
          -0.10796952842836009,
          1.1477916602472251,
          0.31096915255396596,
          -0.08196574594978082,
          -0.22208314060202908,
          -0.1348066850509781,
          -0.08481060816301247,
          1.0952233626706787,
          -0.22676469149501288,
          -0.1812383874132316,
          -0.1742853572619095,
          -0.16756655493941158,
          -0.22669019346554325,
          -0.13847751960147875,
          -0.1929900933451851,
          -0.2832670045295902,
          8.037976541568124,
          -0.1440425087530285,
          0.3148384316232871,
          0.024230471058390258,
          -0.13915307441171515,
          -0.16992239340578902,
          -0.16813955364966823,
          0.13853963890341653,
          -0.2208388752131987,
          -0.11007586346132556,
          0.31888125102708015,
          -0.16837625043979054,
          -0.15459737318896696,
          -0.15898735816290052,
          -0.14800411797457827,
          -0.2258605437650457,
          0.3111514431097673,
          -0.184726728256266,
          -0.15379473337720448,
          -0.14562514294759046,
          -0.15030177229427735,
          0.3150740435548459,
          0.5899582055250049,
          2.1171815705461916,
          -0.1466801451002922,
          0.3247385419658559,
          -0.20025400707459307,
          -0.15167437864444933,
          -0.22674687497395832,
          -0.1684008045058955,
          -0.13468787135608337,
          -0.15142179034479974,
          -0.2202755289873829,
          3.1092023946583174,
          -0.09837727205238296,
          -0.2267182811489585,
          -0.19968253721186835,
          -0.05487923866863196,
          -0.1497003613027114,
          -0.13849813625231364,
          0.3908034147863514,
          -0.13926484074501544,
          -0.13965627075266918,
          -0.28363497971568424,
          -0.1725415054449289,
          -0.16729458236755135,
          -0.15805778641276172,
          -0.15982801462881727,
          -0.17710595134323484,
          -0.13777521369844178,
          -0.10800867020685136,
          -0.13664467188018642,
          0.526528963052003,
          -0.10649992788322077,
          -0.0901919614106245,
          -0.15197587862434644,
          -0.13828854185958647,
          0.5463395234409368,
          -0.20090767575299556,
          -0.16847752415136938,
          -0.1664359626806693,
          -0.11845897354796273,
          -0.11764116353390393,
          -0.15863691527183854,
          0.33269802165043016,
          -0.1601158483025146
         ],
         "y": [
          -1.3176930325240095,
          -2.1056279101836237,
          -1.1202807700258848,
          -2.2370536616074763,
          -2.105724388716028,
          -2.0386901967452675,
          -1.7684600757404592,
          -1.120269687703181,
          -0.9076245902217845,
          -1.1202877471786465,
          -1.7626896452033267,
          -1.300015392060018,
          -1.317713738759035,
          -1.1203372933507985,
          -1.1203061573722284,
          -0.5401227356145408,
          -1.054891979577316,
          -1.12027350890694,
          -1.1202692211024419,
          -1.120266350508424,
          -0.9076256316737641,
          -1.7649254116056836,
          -1.3214847893542854,
          -1.1225507788458358,
          -1.1202648205771653,
          -1.120331695248545,
          -1.12027042417233,
          -1.1202666037968105,
          -1.6267391850764825,
          -1.1206425277076801,
          -1.1202733700314176,
          -1.1202821400723018,
          -1.1335522801003282,
          -1.3176920161108672,
          -1.1203372776625493,
          -1.120264861662834,
          -1.120261988502264,
          -1.1202691089386738,
          -2.3594908776798387,
          -1.1202645269715632,
          -1.1265228183068166,
          -1.317694058130326,
          -1.1203118789877862,
          -1.120271186895182,
          -1.1203709552075343,
          -1.1202774521220322,
          -1.3179235724656464,
          -1.3176969772827183,
          -1.3177012530179826,
          -1.3177256809721407,
          -1.3176890169995803,
          -0.907618423830279,
          -1.120265036661337,
          -1.1377589560160752,
          -1.1203475121767814,
          -1.3176974308043221,
          -2.2417357339883686,
          -2.2170104015601275,
          -1.1202889993751983,
          -1.120914730589172,
          -1.12029539612542,
          -1.1202628832387476,
          -1.1202876647448718,
          -1.120475075933452,
          -2.040749101273393,
          -1.762275152028332,
          -1.6381831542457967,
          -1.1202600303749752,
          -1.1234609016491133,
          -2.0484336909283387,
          -1.120261802388545,
          -1.3176947889882322,
          -1.1633276691380032,
          -0.9076239025406958,
          -2.3643207249215226,
          -1.3177093898947703,
          -0.9076235430826713,
          -1.12034965924509,
          -1.120354433996976,
          -2.105667063518246,
          -2.2432713556166832,
          -0.9076212013000449,
          -1.3176920456411982,
          -1.1202925143130555,
          -2.4280079684589917,
          -1.1202785853217971,
          -1.3208245623848645,
          -0.9076436332638808,
          -2.1991528549873363,
          -1.1203403136280559,
          -2.1970063503539454,
          -1.1202689616489452,
          -0.9076261257952847,
          -1.1202618019441044,
          -0.9076300717058896,
          -1.4290524952771437,
          -2.214551457599203,
          -1.3176915151073085,
          -1.7625363829640737,
          -1.1203177758349268,
          -1.3176910172711487,
          -1.120272180751025,
          -2.2485967974816794,
          -2.1056663667989692,
          -2.0386907655151707,
          -1.1248797011742748,
          -0.9075880090051076,
          -0.9077058162365622,
          -2.214558806742952,
          -1.1202626947384886,
          -2.214557985945264,
          -2.3642984238285596,
          -0.9542570648154207,
          -2.237142264774578,
          -1.120262283035252,
          -0.9080771536559991,
          -2.0386884726190018,
          -1.1202764298515937,
          -2.3642982149333727,
          -2.2031210380707384,
          -1.122113543392276,
          -0.5705082830375793,
          -1.1202718216082166,
          -1.318435674184128,
          -1.1202910203148564,
          -2.2370861517939846,
          -2.248598255958681,
          -2.254026553773979,
          -2.3028095713292873,
          -2.2149038934756002,
          -0.907654328077251,
          -1.1202649066309505,
          -1.1202951585936305,
          -0.9076385276462811,
          -0.9076268160751424,
          -2.214570016720233,
          -2.3426326610811152,
          -1.1614728495676843,
          -1.1106097692569739,
          -0.9080943641195512,
          -1.3176930105335831,
          -1.1251766952648319,
          -1.0742952788679505,
          -1.1202679545378385,
          -1.1202954225070514,
          -1.1202980287850224,
          -1.120297684922341,
          -2.2145880248050935,
          -2.0468378767656628,
          -0.9075926321769534,
          -1.62666027268854,
          -2.0386870405399264,
          -2.1992028886620756,
          -1.1202763827323547,
          -0.9077263304972888,
          -1.6266679885128694,
          -2.1057894931027987,
          -1.62666198400045,
          -1.7624501909656016,
          -2.24814078830511,
          -2.2145536957954377,
          -2.110176178891202,
          -0.9078504556675422,
          -2.2373852259413556,
          -1.1213280466086661,
          -1.1390111880848919,
          -0.9076267211088485,
          -1.626656280714065,
          -1.6267866634563002,
          -1.1202770509177455,
          -0.9076268532855761,
          -1.3176919224991117,
          -1.2761260410765485,
          -0.21690871182712837,
          -2.665577171535648,
          -2.2800001535640715,
          -2.2146635256131275,
          -1.121728511024154,
          -2.199152957977361,
          -1.1380440685798772,
          -1.120276435332855,
          -1.1242203496624148,
          -0.9077849490631388,
          -2.1086256387798143,
          -2.2149916693463587,
          -1.120270233520384,
          -2.1262019555113043,
          -2.038692571498682,
          -2.248720857164811,
          -0.9076554008496205,
          -2.2145527557864497,
          -0.5704920077391723,
          -2.3643050091399904,
          -2.121307854583987,
          -2.248591882131925,
          -2.214830129139249,
          -2.117808686861544,
          -2.287408023333774,
          -2.223548461755452,
          -2.2148373717707712,
          -1.3305302883925245,
          -2.076180819629542,
          -0.9076270372708074,
          -1.1202716038299851,
          -2.2378733725756645,
          -2.0989410026671114,
          -0.7459667690079167,
          -2.1720973938039765,
          -1.3179969924463675,
          -0.9076289023601192,
          -1.330566242173132,
          -2.040879078586836,
          -2.2486241511078218,
          -1.3176930115219763,
          -2.217731483074752,
          -2.1583822550090765,
          -2.1583402709705872,
          -0.14997351096457828,
          -2.2996021009514993,
          -1.120306543031721,
          -2.038794287527036,
          -2.0386891134094656,
          -1.6382278563660821,
          -1.3177021147636663,
          -0.3863777524158528,
          -1.3177404097167977,
          -1.1661652994009948,
          -1.6272920438691543,
          -2.1616028070048556,
          -1.1204790380390761,
          -1.317701236453776,
          -1.134157998614763,
          -1.054894176050182,
          -1.1202624280303177,
          -1.120324508701923,
          -1.7622963207127151,
          -2.339156140282214,
          -2.1056661148621902,
          -2.21488967546374,
          -2.0386902245548666
         ],
         "z": [
          0.14544339220540214,
          0.295782889273489,
          -0.03195204225726835,
          0.3548422928688883,
          0.29575855682793795,
          0.43206592142504874,
          0.36418700480436844,
          -0.03191990589067824,
          0.07531689179806846,
          -0.03192724610884675,
          0.37050251317455357,
          -0.07177023422187173,
          0.14535988745836656,
          -0.03199872650504348,
          -0.031928815675590444,
          0.0639927187262617,
          0.09574353052473969,
          -0.03193509482019712,
          -0.03192055471423229,
          -0.031918614352286524,
          0.07531984939001399,
          0.3626266226695062,
          0.13488290339387604,
          -0.038920703452661375,
          -0.03192667378822826,
          -0.03204408968955345,
          -0.031927183610698094,
          -0.031916825038517976,
          0.21742506884353754,
          -0.03245775835758062,
          -0.031951766258175085,
          -0.03194126608124417,
          -0.08181085873245669,
          0.14544197884975554,
          -0.03201038654418931,
          -0.03192586194777441,
          -0.031915781839291966,
          -0.031936559580928975,
          0.4652343269141892,
          -0.03191878025199528,
          -0.034529517202291596,
          0.1454448183444487,
          -0.03209972573188355,
          -0.03191782121527856,
          -0.03195191859478857,
          -0.0319319014395314,
          0.14510963238834496,
          0.14542924604197244,
          0.14543897417120438,
          0.1454442630779322,
          0.14545346870958747,
          0.07532341141928238,
          -0.03192788273511915,
          0.20315537825765212,
          -0.03199615511817369,
          0.145431395129908,
          0.27460084564892484,
          0.3718916975067649,
          -0.0319565385429611,
          -0.03227501575452181,
          -0.03199388168473072,
          -0.031915502197744076,
          -0.03199981284686414,
          -0.03237316744616815,
          0.36945466206728356,
          0.3714355658714367,
          0.17252152954992794,
          -0.03192003020140427,
          -0.03501366477577836,
          0.37042317523351,
          -0.03191548930460485,
          0.14544583462621702,
          -0.04146380192373329,
          0.07530612433168732,
          0.28702724573382266,
          0.1454414133802846,
          0.07531468100746953,
          -0.03195152407612992,
          -0.031974891877194815,
          0.2958245738446569,
          0.38995681815166244,
          0.07531519822976612,
          0.14544201991264424,
          -0.032030804838616554,
          0.35000271021304796,
          -0.03195508015959368,
          0.13349217678796169,
          0.07529507036207908,
          0.43087436318766126,
          -0.03193290566211682,
          0.3965496871648983,
          -0.031920160783294724,
          0.0753152535156736,
          -0.03191548763584375,
          0.07532074043313342,
          0.7404611406006223,
          0.37601200350608166,
          0.145449783235668,
          0.3708931646226037,
          -0.03198813077320025,
          0.14544841000537784,
          -0.031923231611719054,
          0.33555531364451174,
          0.2958165868830398,
          0.4320667123181611,
          -0.03304077773733952,
          0.07490376386673009,
          0.07527285964802038,
          0.3760139209258794,
          -0.03191582943436867,
          0.3760097607419451,
          0.2870383399003561,
          0.06470501450648412,
          0.3548258772081794,
          -0.03191688924763879,
          0.07520658072006767,
          0.4320665428091813,
          -0.03197015276311059,
          0.2870297476196237,
          0.35388910077214686,
          -0.032358953451572706,
          -0.006006606151104998,
          -0.031927897309789136,
          0.14460513483899268,
          -0.031928732382066845,
          0.3548082270368709,
          0.41847284596600665,
          0.4046554578242196,
          0.3352092664968443,
          0.3750002052053376,
          0.07529786649720632,
          -0.03192525361223698,
          -0.031925242098863944,
          0.07530608386198946,
          0.07532081710023754,
          0.37600460335188335,
          0.2972903969834598,
          -0.12555161412273078,
          0.12042521802927007,
          0.07515504148212479,
          0.14544336162699226,
          -0.03300515250846228,
          -0.09583297272778335,
          -0.03192156120415301,
          -0.03193166750406166,
          -0.031940118741354724,
          -0.03194059689363435,
          0.37600331320661295,
          0.42756248595321455,
          0.07392907019936812,
          0.21754854382582012,
          0.4320615326185303,
          0.4308486117551102,
          -0.03197021828394979,
          0.07520931083905108,
          0.21754568816049177,
          0.2957962569378559,
          0.21754730085531718,
          0.3711808549613829,
          0.35857630428518183,
          0.3760132290172543,
          0.29456031041895964,
          0.07523096904052061,
          0.3545490257083611,
          -0.03420592185229172,
          0.07525088289045632,
          0.07532000580796505,
          0.2175475211119925,
          0.2173673167234326,
          -0.03194211960867308,
          0.07531777453364574,
          0.14544247810727085,
          0.23050254611835563,
          0.08133314648347183,
          0.24847603254829637,
          0.49084385163593003,
          0.3759218024423198,
          -0.0374226104716872,
          0.4308216767342615,
          0.20278505173834774,
          -0.03192486257176017,
          -0.04030245500908174,
          0.07517761544403108,
          0.29504571701589394,
          0.37587696990924857,
          -0.03191914691404606,
          0.46829644029086,
          0.4320322428320944,
          0.33551756061798726,
          0.07529935822219293,
          0.37600746911808375,
          -0.006008670141583829,
          0.2870352103195213,
          0.40090068465811035,
          0.33555670502373514,
          0.3759542263854099,
          0.4438252877405626,
          0.3384624363352099,
          0.4181247600034454,
          0.375662414095308,
          0.16474459396667326,
          0.43241777336303683,
          0.07531953979009624,
          -0.031918075606305746,
          0.3546613861094536,
          0.3932040323301841,
          0.06872495110311225,
          0.38020745287502317,
          0.14429701736395606,
          0.07531911441968155,
          0.16473577866305072,
          0.4293896898195217,
          0.33554610494011955,
          0.14544336300138483,
          0.37434342710668156,
          0.3956433159478829,
          0.395645230420325,
          0.21755749800128504,
          0.2719501785583624,
          -0.03194337359330663,
          0.43202817429882795,
          0.43205695395323557,
          0.17250821835778962,
          0.1454235688478891,
          -0.04881877998973907,
          0.14539832944277659,
          -0.04212171234149614,
          0.21542858145971644,
          0.3949179672158299,
          -0.032367658009005394,
          0.14543895113813385,
          -0.05032738202572742,
          0.09573073589261902,
          -0.031917925350833785,
          -0.031965183731089815,
          0.371462888431279,
          0.35374794579391533,
          0.29581753284197515,
          0.37543309228477434,
          0.43206596009520537
         ]
        },
        {
         "customdata": [
          [
           "Vechain",
           "VeChainThor Authority"
          ],
          [
           "BiblePay",
           "Proof-of-BibleHash"
          ],
          [
           "Poa Network",
           "Proof-of-Authority"
          ],
          [
           "Acute Angle Cloud",
           "ECC 256K1"
          ],
          [
           "Waves",
           "Leased POS"
          ]
         ],
         "hovertemplate": "class=%{marker.color}<br>PC 1=%{x}<br>PC 2=%{y}<br>PC 3=%{z}<br>CoinName=%{customdata[0]}<br>Algorithm=%{customdata[1]}<extra></extra>",
         "legendgroup": "3",
         "marker": {
          "color": [
           3,
           3,
           3,
           3,
           3
          ],
          "coloraxis": "coloraxis",
          "symbol": "square"
         },
         "mode": "markers",
         "name": "3",
         "scene": "scene",
         "showlegend": true,
         "type": "scatter3d",
         "x": [
          4.394056865391188,
          -0.19954978365382345,
          -0.44022085468158473,
          -0.3490270672273088,
          -0.38867119524038796
         ],
         "y": [
          2.2488162637125653,
          2.552230414057964,
          5.13861634372633,
          3.110802504944341,
          3.445885085391212
         ],
         "z": [
          10.139418917325044,
          24.592266582099082,
          5.8032377354124725,
          11.436977008641707,
          10.282055411691708
         ]
        },
        {
         "customdata": [
          [
           "BitTorrent",
           "TRC10"
          ]
         ],
         "hovertemplate": "class=%{marker.color}<br>PC 1=%{x}<br>PC 2=%{y}<br>PC 3=%{z}<br>CoinName=%{customdata[0]}<br>Algorithm=%{customdata[1]}<extra></extra>",
         "legendgroup": "2",
         "marker": {
          "color": [
           2
          ],
          "coloraxis": "coloraxis",
          "symbol": "x"
         },
         "mode": "markers",
         "name": "2",
         "scene": "scene",
         "showlegend": true,
         "type": "scatter3d",
         "x": [
          34.03002265184269
         ],
         "y": [
          1.587414105093126
         ],
         "z": [
          -1.386799071394409
         ]
        }
       ],
       "layout": {
        "coloraxis": {
         "colorbar": {
          "title": {
           "text": "class"
          }
         },
         "colorscale": [
          [
           0,
           "#0d0887"
          ],
          [
           0.1111111111111111,
           "#46039f"
          ],
          [
           0.2222222222222222,
           "#7201a8"
          ],
          [
           0.3333333333333333,
           "#9c179e"
          ],
          [
           0.4444444444444444,
           "#bd3786"
          ],
          [
           0.5555555555555556,
           "#d8576b"
          ],
          [
           0.6666666666666666,
           "#ed7953"
          ],
          [
           0.7777777777777778,
           "#fb9f3a"
          ],
          [
           0.8888888888888888,
           "#fdca26"
          ],
          [
           1,
           "#f0f921"
          ]
         ]
        },
        "legend": {
         "title": {
          "text": "class"
         },
         "tracegroupgap": 0,
         "x": 0,
         "y": 1
        },
        "margin": {
         "t": 60
        },
        "scene": {
         "domain": {
          "x": [
           0,
           1
          ],
          "y": [
           0,
           1
          ]
         },
         "xaxis": {
          "title": {
           "text": "PC 1"
          }
         },
         "yaxis": {
          "title": {
           "text": "PC 2"
          }
         },
         "zaxis": {
          "title": {
           "text": "PC 3"
          }
         }
        },
        "template": {
         "data": {
          "bar": [
           {
            "error_x": {
             "color": "#2a3f5f"
            },
            "error_y": {
             "color": "#2a3f5f"
            },
            "marker": {
             "line": {
              "color": "#E5ECF6",
              "width": 0.5
             },
             "pattern": {
              "fillmode": "overlay",
              "size": 10,
              "solidity": 0.2
             }
            },
            "type": "bar"
           }
          ],
          "barpolar": [
           {
            "marker": {
             "line": {
              "color": "#E5ECF6",
              "width": 0.5
             },
             "pattern": {
              "fillmode": "overlay",
              "size": 10,
              "solidity": 0.2
             }
            },
            "type": "barpolar"
           }
          ],
          "carpet": [
           {
            "aaxis": {
             "endlinecolor": "#2a3f5f",
             "gridcolor": "white",
             "linecolor": "white",
             "minorgridcolor": "white",
             "startlinecolor": "#2a3f5f"
            },
            "baxis": {
             "endlinecolor": "#2a3f5f",
             "gridcolor": "white",
             "linecolor": "white",
             "minorgridcolor": "white",
             "startlinecolor": "#2a3f5f"
            },
            "type": "carpet"
           }
          ],
          "choropleth": [
           {
            "colorbar": {
             "outlinewidth": 0,
             "ticks": ""
            },
            "type": "choropleth"
           }
          ],
          "contour": [
           {
            "colorbar": {
             "outlinewidth": 0,
             "ticks": ""
            },
            "colorscale": [
             [
              0,
              "#0d0887"
             ],
             [
              0.1111111111111111,
              "#46039f"
             ],
             [
              0.2222222222222222,
              "#7201a8"
             ],
             [
              0.3333333333333333,
              "#9c179e"
             ],
             [
              0.4444444444444444,
              "#bd3786"
             ],
             [
              0.5555555555555556,
              "#d8576b"
             ],
             [
              0.6666666666666666,
              "#ed7953"
             ],
             [
              0.7777777777777778,
              "#fb9f3a"
             ],
             [
              0.8888888888888888,
              "#fdca26"
             ],
             [
              1,
              "#f0f921"
             ]
            ],
            "type": "contour"
           }
          ],
          "contourcarpet": [
           {
            "colorbar": {
             "outlinewidth": 0,
             "ticks": ""
            },
            "type": "contourcarpet"
           }
          ],
          "heatmap": [
           {
            "colorbar": {
             "outlinewidth": 0,
             "ticks": ""
            },
            "colorscale": [
             [
              0,
              "#0d0887"
             ],
             [
              0.1111111111111111,
              "#46039f"
             ],
             [
              0.2222222222222222,
              "#7201a8"
             ],
             [
              0.3333333333333333,
              "#9c179e"
             ],
             [
              0.4444444444444444,
              "#bd3786"
             ],
             [
              0.5555555555555556,
              "#d8576b"
             ],
             [
              0.6666666666666666,
              "#ed7953"
             ],
             [
              0.7777777777777778,
              "#fb9f3a"
             ],
             [
              0.8888888888888888,
              "#fdca26"
             ],
             [
              1,
              "#f0f921"
             ]
            ],
            "type": "heatmap"
           }
          ],
          "heatmapgl": [
           {
            "colorbar": {
             "outlinewidth": 0,
             "ticks": ""
            },
            "colorscale": [
             [
              0,
              "#0d0887"
             ],
             [
              0.1111111111111111,
              "#46039f"
             ],
             [
              0.2222222222222222,
              "#7201a8"
             ],
             [
              0.3333333333333333,
              "#9c179e"
             ],
             [
              0.4444444444444444,
              "#bd3786"
             ],
             [
              0.5555555555555556,
              "#d8576b"
             ],
             [
              0.6666666666666666,
              "#ed7953"
             ],
             [
              0.7777777777777778,
              "#fb9f3a"
             ],
             [
              0.8888888888888888,
              "#fdca26"
             ],
             [
              1,
              "#f0f921"
             ]
            ],
            "type": "heatmapgl"
           }
          ],
          "histogram": [
           {
            "marker": {
             "pattern": {
              "fillmode": "overlay",
              "size": 10,
              "solidity": 0.2
             }
            },
            "type": "histogram"
           }
          ],
          "histogram2d": [
           {
            "colorbar": {
             "outlinewidth": 0,
             "ticks": ""
            },
            "colorscale": [
             [
              0,
              "#0d0887"
             ],
             [
              0.1111111111111111,
              "#46039f"
             ],
             [
              0.2222222222222222,
              "#7201a8"
             ],
             [
              0.3333333333333333,
              "#9c179e"
             ],
             [
              0.4444444444444444,
              "#bd3786"
             ],
             [
              0.5555555555555556,
              "#d8576b"
             ],
             [
              0.6666666666666666,
              "#ed7953"
             ],
             [
              0.7777777777777778,
              "#fb9f3a"
             ],
             [
              0.8888888888888888,
              "#fdca26"
             ],
             [
              1,
              "#f0f921"
             ]
            ],
            "type": "histogram2d"
           }
          ],
          "histogram2dcontour": [
           {
            "colorbar": {
             "outlinewidth": 0,
             "ticks": ""
            },
            "colorscale": [
             [
              0,
              "#0d0887"
             ],
             [
              0.1111111111111111,
              "#46039f"
             ],
             [
              0.2222222222222222,
              "#7201a8"
             ],
             [
              0.3333333333333333,
              "#9c179e"
             ],
             [
              0.4444444444444444,
              "#bd3786"
             ],
             [
              0.5555555555555556,
              "#d8576b"
             ],
             [
              0.6666666666666666,
              "#ed7953"
             ],
             [
              0.7777777777777778,
              "#fb9f3a"
             ],
             [
              0.8888888888888888,
              "#fdca26"
             ],
             [
              1,
              "#f0f921"
             ]
            ],
            "type": "histogram2dcontour"
           }
          ],
          "mesh3d": [
           {
            "colorbar": {
             "outlinewidth": 0,
             "ticks": ""
            },
            "type": "mesh3d"
           }
          ],
          "parcoords": [
           {
            "line": {
             "colorbar": {
              "outlinewidth": 0,
              "ticks": ""
             }
            },
            "type": "parcoords"
           }
          ],
          "pie": [
           {
            "automargin": true,
            "type": "pie"
           }
          ],
          "scatter": [
           {
            "fillpattern": {
             "fillmode": "overlay",
             "size": 10,
             "solidity": 0.2
            },
            "type": "scatter"
           }
          ],
          "scatter3d": [
           {
            "line": {
             "colorbar": {
              "outlinewidth": 0,
              "ticks": ""
             }
            },
            "marker": {
             "colorbar": {
              "outlinewidth": 0,
              "ticks": ""
             }
            },
            "type": "scatter3d"
           }
          ],
          "scattercarpet": [
           {
            "marker": {
             "colorbar": {
              "outlinewidth": 0,
              "ticks": ""
             }
            },
            "type": "scattercarpet"
           }
          ],
          "scattergeo": [
           {
            "marker": {
             "colorbar": {
              "outlinewidth": 0,
              "ticks": ""
             }
            },
            "type": "scattergeo"
           }
          ],
          "scattergl": [
           {
            "marker": {
             "colorbar": {
              "outlinewidth": 0,
              "ticks": ""
             }
            },
            "type": "scattergl"
           }
          ],
          "scattermapbox": [
           {
            "marker": {
             "colorbar": {
              "outlinewidth": 0,
              "ticks": ""
             }
            },
            "type": "scattermapbox"
           }
          ],
          "scatterpolar": [
           {
            "marker": {
             "colorbar": {
              "outlinewidth": 0,
              "ticks": ""
             }
            },
            "type": "scatterpolar"
           }
          ],
          "scatterpolargl": [
           {
            "marker": {
             "colorbar": {
              "outlinewidth": 0,
              "ticks": ""
             }
            },
            "type": "scatterpolargl"
           }
          ],
          "scatterternary": [
           {
            "marker": {
             "colorbar": {
              "outlinewidth": 0,
              "ticks": ""
             }
            },
            "type": "scatterternary"
           }
          ],
          "surface": [
           {
            "colorbar": {
             "outlinewidth": 0,
             "ticks": ""
            },
            "colorscale": [
             [
              0,
              "#0d0887"
             ],
             [
              0.1111111111111111,
              "#46039f"
             ],
             [
              0.2222222222222222,
              "#7201a8"
             ],
             [
              0.3333333333333333,
              "#9c179e"
             ],
             [
              0.4444444444444444,
              "#bd3786"
             ],
             [
              0.5555555555555556,
              "#d8576b"
             ],
             [
              0.6666666666666666,
              "#ed7953"
             ],
             [
              0.7777777777777778,
              "#fb9f3a"
             ],
             [
              0.8888888888888888,
              "#fdca26"
             ],
             [
              1,
              "#f0f921"
             ]
            ],
            "type": "surface"
           }
          ],
          "table": [
           {
            "cells": {
             "fill": {
              "color": "#EBF0F8"
             },
             "line": {
              "color": "white"
             }
            },
            "header": {
             "fill": {
              "color": "#C8D4E3"
             },
             "line": {
              "color": "white"
             }
            },
            "type": "table"
           }
          ]
         },
         "layout": {
          "annotationdefaults": {
           "arrowcolor": "#2a3f5f",
           "arrowhead": 0,
           "arrowwidth": 1
          },
          "autotypenumbers": "strict",
          "coloraxis": {
           "colorbar": {
            "outlinewidth": 0,
            "ticks": ""
           }
          },
          "colorscale": {
           "diverging": [
            [
             0,
             "#8e0152"
            ],
            [
             0.1,
             "#c51b7d"
            ],
            [
             0.2,
             "#de77ae"
            ],
            [
             0.3,
             "#f1b6da"
            ],
            [
             0.4,
             "#fde0ef"
            ],
            [
             0.5,
             "#f7f7f7"
            ],
            [
             0.6,
             "#e6f5d0"
            ],
            [
             0.7,
             "#b8e186"
            ],
            [
             0.8,
             "#7fbc41"
            ],
            [
             0.9,
             "#4d9221"
            ],
            [
             1,
             "#276419"
            ]
           ],
           "sequential": [
            [
             0,
             "#0d0887"
            ],
            [
             0.1111111111111111,
             "#46039f"
            ],
            [
             0.2222222222222222,
             "#7201a8"
            ],
            [
             0.3333333333333333,
             "#9c179e"
            ],
            [
             0.4444444444444444,
             "#bd3786"
            ],
            [
             0.5555555555555556,
             "#d8576b"
            ],
            [
             0.6666666666666666,
             "#ed7953"
            ],
            [
             0.7777777777777778,
             "#fb9f3a"
            ],
            [
             0.8888888888888888,
             "#fdca26"
            ],
            [
             1,
             "#f0f921"
            ]
           ],
           "sequentialminus": [
            [
             0,
             "#0d0887"
            ],
            [
             0.1111111111111111,
             "#46039f"
            ],
            [
             0.2222222222222222,
             "#7201a8"
            ],
            [
             0.3333333333333333,
             "#9c179e"
            ],
            [
             0.4444444444444444,
             "#bd3786"
            ],
            [
             0.5555555555555556,
             "#d8576b"
            ],
            [
             0.6666666666666666,
             "#ed7953"
            ],
            [
             0.7777777777777778,
             "#fb9f3a"
            ],
            [
             0.8888888888888888,
             "#fdca26"
            ],
            [
             1,
             "#f0f921"
            ]
           ]
          },
          "colorway": [
           "#636efa",
           "#EF553B",
           "#00cc96",
           "#ab63fa",
           "#FFA15A",
           "#19d3f3",
           "#FF6692",
           "#B6E880",
           "#FF97FF",
           "#FECB52"
          ],
          "font": {
           "color": "#2a3f5f"
          },
          "geo": {
           "bgcolor": "white",
           "lakecolor": "white",
           "landcolor": "#E5ECF6",
           "showlakes": true,
           "showland": true,
           "subunitcolor": "white"
          },
          "hoverlabel": {
           "align": "left"
          },
          "hovermode": "closest",
          "mapbox": {
           "style": "light"
          },
          "paper_bgcolor": "white",
          "plot_bgcolor": "#E5ECF6",
          "polar": {
           "angularaxis": {
            "gridcolor": "white",
            "linecolor": "white",
            "ticks": ""
           },
           "bgcolor": "#E5ECF6",
           "radialaxis": {
            "gridcolor": "white",
            "linecolor": "white",
            "ticks": ""
           }
          },
          "scene": {
           "xaxis": {
            "backgroundcolor": "#E5ECF6",
            "gridcolor": "white",
            "gridwidth": 2,
            "linecolor": "white",
            "showbackground": true,
            "ticks": "",
            "zerolinecolor": "white"
           },
           "yaxis": {
            "backgroundcolor": "#E5ECF6",
            "gridcolor": "white",
            "gridwidth": 2,
            "linecolor": "white",
            "showbackground": true,
            "ticks": "",
            "zerolinecolor": "white"
           },
           "zaxis": {
            "backgroundcolor": "#E5ECF6",
            "gridcolor": "white",
            "gridwidth": 2,
            "linecolor": "white",
            "showbackground": true,
            "ticks": "",
            "zerolinecolor": "white"
           }
          },
          "shapedefaults": {
           "line": {
            "color": "#2a3f5f"
           }
          },
          "ternary": {
           "aaxis": {
            "gridcolor": "white",
            "linecolor": "white",
            "ticks": ""
           },
           "baxis": {
            "gridcolor": "white",
            "linecolor": "white",
            "ticks": ""
           },
           "bgcolor": "#E5ECF6",
           "caxis": {
            "gridcolor": "white",
            "linecolor": "white",
            "ticks": ""
           }
          },
          "title": {
           "x": 0.05
          },
          "xaxis": {
           "automargin": true,
           "gridcolor": "white",
           "linecolor": "white",
           "ticks": "",
           "title": {
            "standoff": 15
           },
           "zerolinecolor": "white",
           "zerolinewidth": 2
          },
          "yaxis": {
           "automargin": true,
           "gridcolor": "white",
           "linecolor": "white",
           "ticks": "",
           "title": {
            "standoff": 15
           },
           "zerolinecolor": "white",
           "zerolinewidth": 2
          }
         }
        },
        "width": 800
       }
      },
      "text/html": [
       "<div>                            <div id=\"f7f3b5f5-cdb4-44b2-b46a-0c84b535d09b\" class=\"plotly-graph-div\" style=\"height:525px; width:800px;\"></div>            <script type=\"text/javascript\">                require([\"plotly\"], function(Plotly) {                    window.PLOTLYENV=window.PLOTLYENV || {};                                    if (document.getElementById(\"f7f3b5f5-cdb4-44b2-b46a-0c84b535d09b\")) {                    Plotly.newPlot(                        \"f7f3b5f5-cdb4-44b2-b46a-0c84b535d09b\",                        [{\"customdata\":[[\"42 Coin\",\"Scrypt\"],[\"404Coin\",\"Scrypt\"],[\"EliteCoin\",\"X13\"],[\"Dash\",\"X11\"],[\"Bitshares\",\"SHA-512\"],[\"BitcoinDark\",\"SHA-256\"],[\"PayCoin\",\"SHA-256\"],[\"KoboCoin\",\"X15\"],[\"Aurora Coin\",\"Scrypt\"],[\"BlueCoin\",\"Scrypt\"],[\"EnergyCoin\",\"Scrypt\"],[\"BitBar\",\"Scrypt\"],[\"CryptoBullion\",\"Scrypt\"],[\"CasinoCoin\",\"Scrypt\"],[\"Diamond\",\"Groestl\"],[\"Exclusive Coin\",\"PoS\"],[\"FlutterCoin\",\"Scrypt\"],[\"HoboNickels\",\"Scrypt\"],[\"HyperStake\",\"X11\"],[\"IOCoin\",\"X11\"],[\"MaxCoin\",\"SHA3\"],[\"MintCoin\",\"Scrypt\"],[\"MazaCoin\",\"SHA-256\"],[\"Nautilus Coin\",\"Scrypt\"],[\"NavCoin\",\"X13\"],[\"OpalCoin\",\"X13\"],[\"Orbitcoin\",\"NeoScrypt\"],[\"PotCoin\",\"Scrypt\"],[\"PhoenixCoin\",\"Scrypt\"],[\"Reddcoin\",\"Scrypt\"],[\"SuperCoin\",\"X11\"],[\"SyncCoin\",\"X11\"],[\"TeslaCoin\",\"Multiple\"],[\"TittieCoin\",\"PHI1612\"],[\"TorCoin\",\"X11\"],[\"UnitaryStatus Dollar\",\"Scrypt\"],[\"UltraCoin\",\"Scrypt\"],[\"VeriCoin\",\"Scrypt\"],[\"X11 Coin\",\"X11\"],[\"Crypti\",\"Multiple\"],[\"StealthCoin\",\"X13\"],[\"ZCC Coin\",\"Scrypt\"],[\"BurstCoin\",\"Shabal256\"],[\"StorjCoin\",\"Counterparty\"],[\"Neutron\",\"SHA-256\"],[\"FairCoin\",\"Groestl\"],[\"RubyCoin\",\"Scrypt\"],[\"Kore\",\"X13\"],[\"Dnotes\",\"Scrypt\"],[\"8BIT Coin\",\"Scrypt\"],[\"Sativa Coin\",\"X13\"],[\"Ucoin\",\"X11\"],[\"Vtorrent\",\"Scrypt\"],[\"IslaCoin\",\"X11\"],[\"Nexus\",\"SHA3\"],[\"Droidz\",\"QUAIT\"],[\"Squall Coin\",\"X11\"],[\"Diggits\",\"Scrypt\"],[\"Paycon\",\"X13\"],[\"Emercoin\",\"SHA-256\"],[\"EverGreenCoin\",\"X15\"],[\"Decred\",\"BLAKE256\"],[\"EDRCoin\",\"SHA-256\"],[\"Hitcoin\",\"X11\"],[\"DubaiCoin\",\"SHA-256\"],[\"PWR Coin\",\"NIST5\"],[\"BillaryCoin\",\"Scrypt\"],[\"GPU Coin\",\"Scrypt\"],[\"EuropeCoin\",\"X11\"],[\"ZeitCoin\",\"Scrypt\"],[\"SwingCoin\",\"SHA-256\"],[\"SafeExchangeCoin\",\"Scrypt\"],[\"Nebuchadnezzar\",\"PoS\"],[\"Ratecoin\",\"X11\"],[\"Revenu\",\"SHA-256\"],[\"Clockcoin\",\"SHA-256\"],[\"VIP Tokens\",\"NIST5\"],[\"BitSend\",\"X11\"],[\"Let it Ride\",\"POS 3.0\"],[\"PutinCoin\",\"Scrypt\"],[\"iBankCoin\",\"Scrypt\"],[\"Frankywillcoin\",\"Scrypt\"],[\"MudraCoin\",\"X13\"],[\"Lutetium Coin\",\"X11\"],[\"GoldBlocks\",\"X11\"],[\"CarterCoin\",\"Scrypt\"],[\"BitTokens\",\"SHA-256\"],[\"MustangCoin\",\"X11\"],[\"ZoneCoin\",\"Scrypt\"],[\"RootCoin\",\"Scrypt\"],[\"BitCurrency\",\"Scrypt\"],[\"Swiscoin\",\"Scrypt\"],[\"BuzzCoin\",\"SHA-256D\"],[\"Opair\",\"PoS\"],[\"PesoBit\",\"Scrypt\"],[\"Halloween Coin\",\"X11\"],[\"CoffeeCoin\",\"PoS\"],[\"RoyalCoin\",\"X13\"],[\"GanjaCoin V2\",\"X14\"],[\"TeamUP\",\"PoS\"],[\"LanaCoin\",\"SHA-256D\"],[\"ARK\",\"DPoS\"],[\"InsaneCoin\",\"X11\"],[\"EmberCoin\",\"X13\"],[\"XenixCoin\",\"X11\"],[\"FreeCoin\",\"PoS\"],[\"PLNCoin\",\"Scrypt\"],[\"AquariusCoin\",\"Scrypt\"],[\"Creatio\",\"PoS\"],[\"Eternity\",\"X11\"],[\"Eurocoin\",\"SHA-256\"],[\"BitcoinFast\",\"Scrypt\"],[\"Stakenet\",\"X11\"],[\"BitConnect Coin\",\"Scrypt\"],[\"MoneyCoin\",\"Scrypt\"],[\"Enigma\",\"X11\"],[\"Russiacoin\",\"Scrypt\"],[\"PandaCoin\",\"Scrypt\"],[\"GameUnits\",\"Scrypt\"],[\"GAKHcoin\",\"Scrypt\"],[\"Allsafe\",\"Quark\"],[\"LiteCreed\",\"QuBit\"],[\"Klingon Empire Darsek\",\"Scrypt\"],[\"Internet of People\",\"SHA-256\"],[\"KushCoin\",\"X11\"],[\"Printerium\",\"Scrypt\"],[\"Impeach\",\"Scrypt\"],[\"Zilbercoin\",\"Scrypt\"],[\"FirstCoin\",\"Scrypt\"],[\"FindCoin\",\"X13\"],[\"OpenChat\",\"Scrypt\"],[\"RenosCoin\",\"Scrypt\"],[\"VirtacoinPlus\",\"X11\"],[\"TajCoin\",\"Blake2S\"],[\"Impact\",\"X11\"],[\"Atmos\",\"PoS\"],[\"HappyCoin\",\"X11\"],[\"MacronCoin\",\"PoS\"],[\"Condensate\",\"X11\"],[\"Independent Money System\",\"Scrypt\"],[\"ArgusCoin\",\"Scrypt\"],[\"LomoCoin\",\"Scrypt\"],[\"ProCurrency\",\"SHA-256\"],[\"GoldReserve\",\"X11\"],[\"GrowthCoin\",\"Scrypt\"],[\"Phreak\",\"PoS\"],[\"Degas Coin\",\"Scrypt\"],[\"HTML5 Coin\",\"X15\"],[\"Ultimate Secure Cash\",\"SHA-256\"],[\"QTUM\",\"POS 3.0\"],[\"Espers\",\"536\"],[\"Denarius\",\"NIST5\"],[\"Virta Unique Coin\",\"NIST5\"],[\"Bitcoin Planet\",\"Skein\"],[\"BritCoin\",\"X13\"],[\"Linda\",\"Scrypt\"],[\"DeepOnion\",\"X13\"],[\"Signatum\",\"SkunkHash v2 Raptor\"],[\"Cream\",\"Skein\"],[\"Monoeci\",\"X11\"],[\"Draftcoin\",\"Scrypt\"],[\"Stakecoin\",\"PoS\"],[\"CoinonatX\",\"Scrypt\"],[\"Ethereum Dark\",\"Scrypt\"],[\"Obsidian\",\"SHA-512\"],[\"Cardano\",\"Ouroboros\"],[\"Regalcoin\",\"X11\"],[\"TrezarCoin\",\"NeoScrypt\"],[\"TerraNovaCoin\",\"Scrypt\"],[\"Rupee\",\"Lyra2REv2\"],[\"WomenCoin\",\"Scrypt\"],[\"Theresa May Coin\",\"SHA-256\"],[\"NamoCoin\",\"NIST5\"],[\"LUXCoin\",\"PHI1612\"],[\"Xios\",\"Scrypt\"],[\"Bitcloud 2.0\",\"Quark\"],[\"KekCoin\",\"POS 2.0\"],[\"BlackholeCoin\",\"Scrypt\"],[\"Infinity Economics\",\"SHA-256\"],[\"Magnet\",\"X11\"],[\"Lamden Tau\",\"DPoS\"],[\"Electra\",\"NIST5\"],[\"Bitcoin Diamond\",\"X13\"],[\"Cash & Back Coin\",\"Scrypt\"],[\"Bulwark\",\"NIST5\"],[\"Kalkulus\",\"Quark\"],[\"GermanCoin\",\"Scrypt\"],[\"LiteCoin Ultra\",\"Scrypt\"],[\"PhantomX\",\"X11\"],[\"Digiwage\",\"Quark\"],[\"Trollcoin\",\"Scrypt\"],[\"Litecoin Plus\",\"Scrypt\"],[\"Monkey Project\",\"X11\"],[\"TokenPay\",\"POS 3.0\"],[\"My Big Coin\",\"Scrypt\"],[\"Unified Society USDEX\",\"Scrypt\"],[\"Tokyo Coin\",\"X13\"],[\"LitecoinCash\",\"SHA-256 + Hive\"],[\"Stipend\",\"C11\"],[\"Pushi\",\"X11\"],[\"Ellerium\",\"XEVAN\"],[\"Velox\",\"Scrypt\"],[\"Ontology\",\"VBFT\"],[\"Bitspace\",\"NIST5\"],[\"Briacoin\",\"Scrypt\"],[\"Ignition\",\"Scrypt\"],[\"MedicCoin\",\"Scrypt\"],[\"Bitcoin Green\",\"Green Protocol\"],[\"Deviant Coin\",\"PoS\"],[\"Abjcoin\",\"Scrypt\"],[\"Semux\",\"Semux BFT consensus\"],[\"Carebit\",\"Quark\"],[\"Zealium\",\"PoS\"],[\"Proton\",\"X16R\"],[\"iDealCash\",\"Scrypt\"],[\"Bitcoin Incognito\",\"XEVAN\"],[\"HollyWoodCoin\",\"Scrypt\"],[\"Swisscoin\",\"Scrypt\"],[\"Xt3ch\",\"Scrypt\"],[\"TheVig\",\"SHA-256D\"],[\"EmaratCoin\",\"Scrypt\"],[\"Dekado\",\"X15\"],[\"Lynx\",\"Scrypt\"],[\"Poseidon Quark\",\"Quark\"],[\"BitcoinWSpectrum\",\"SHA-256\"],[\"Muse\",\"DPoS\"],[\"Trivechain\",\"X16R\"],[\"Dystem\",\"Quark\"],[\"Giant\",\"Quark\"],[\"Peony Coin\",\"Scrypt\"],[\"Absolute Coin\",\"Lyra2REv2\"],[\"Vitae\",\"Quark\"],[\"TPCash\",\"Scrypt\"],[\"ARENON\",\"X11\"],[\"EUNO\",\"X11\"],[\"MMOCoin\",\"Scrypt\"],[\"Ketan\",\"PoS\"],[\"XDNA\",\"Keccak\"],[\"PAXEX\",\"X11\"],[\"ThunderStake\",\"Scrypt\"],[\"Kcash\",\"SHA-512\"],[\"Bettex coin\",\"XEVAN\"],[\"BitMoney\",\"XEVAN\"],[\"Junson Ming Chan Coin\",\"X11\"],[\"HerbCoin\",\"Quark\"],[\"Oduwa\",\"Scrypt\"],[\"Galilel\",\"Quark\"],[\"Crypto Sports\",\"Quark\"],[\"Credit\",\"Scrypt\"],[\"Dash Platinum\",\"X11\"],[\"Nasdacoin\",\"Scrypt\"],[\"Beetle Coin\",\"XEVAN\"],[\"Titan Coin\",\"SHA-256D\"],[\"Award\",\"X11\"],[\"Insane Coin\",\"X11\"],[\"ALAX\",\"DPoS\"],[\"LiteDoge\",\"Scrypt\"],[\"TruckCoin\",\"X11\"],[\"OrangeCoin\",\"Scrypt\"],[\"BitstarCoin\",\"Scrypt\"],[\"NeosCoin\",\"SHA-256\"],[\"HyperCoin\",\"Scrypt\"],[\"PinkCoin\",\"X11\"],[\"AudioCoin\",\"Scrypt\"],[\"IncaKoin\",\"SHA-256\"],[\"Piggy Coin\",\"X11\"],[\"Genstake\",\"Scrypt\"],[\"XiaoMiCoin\",\"Scrypt\"],[\"CapriCoin\",\"X11\"],[\" ClubCoin\",\"Scrypt\"],[\"Radium\",\"PoS\"],[\"Creditbit \",\"X11\"],[\"OKCash\",\"SHA-256\"],[\"Lisk\",\"DPoS\"],[\"HiCoin\",\"Scrypt\"],[\"WhiteCoin\",\"Scrypt\"],[\"FriendshipCoin\",\"NeoScrypt\"],[\"Triangles Coin\",\"X13\"],[\"EOS\",\"DPoS\"],[\"Oxycoin\",\"DPoS\"],[\"TigerCash\",\"SHA-256\"],[\"Particl\",\"PoS\"],[\"Nxt\",\"PoS\"],[\"ZEPHYR\",\"SHA-256\"],[\"Gapcoin\",\"Scrypt\"],[\"BitcoinPlus\",\"Scrypt\"]],\"hovertemplate\":\"class=%{marker.color}<br>PC 1=%{x}<br>PC 2=%{y}<br>PC 3=%{z}<br>CoinName=%{customdata[0]}<br>Algorithm=%{customdata[1]}<extra></extra>\",\"legendgroup\":\"0\",\"marker\":{\"color\":[0,0,0,0,0,0,0,0,0,0,0,0,0,0,0,0,0,0,0,0,0,0,0,0,0,0,0,0,0,0,0,0,0,0,0,0,0,0,0,0,0,0,0,0,0,0,0,0,0,0,0,0,0,0,0,0,0,0,0,0,0,0,0,0,0,0,0,0,0,0,0,0,0,0,0,0,0,0,0,0,0,0,0,0,0,0,0,0,0,0,0,0,0,0,0,0,0,0,0,0,0,0,0,0,0,0,0,0,0,0,0,0,0,0,0,0,0,0,0,0,0,0,0,0,0,0,0,0,0,0,0,0,0,0,0,0,0,0,0,0,0,0,0,0,0,0,0,0,0,0,0,0,0,0,0,0,0,0,0,0,0,0,0,0,0,0,0,0,0,0,0,0,0,0,0,0,0,0,0,0,0,0,0,0,0,0,0,0,0,0,0,0,0,0,0,0,0,0,0,0,0,0,0,0,0,0,0,0,0,0,0,0,0,0,0,0,0,0,0,0,0,0,0,0,0,0,0,0,0,0,0,0,0,0,0,0,0,0,0,0,0,0,0,0,0,0,0,0,0,0,0,0,0,0,0,0,0,0,0,0,0,0,0,0,0,0,0,0,0,0,0,0,0,0,0,0,0,0,0,0,0,0,0,0,0,0],\"coloraxis\":\"coloraxis\",\"symbol\":\"circle\"},\"mode\":\"markers\",\"name\":\"0\",\"scene\":\"scene\",\"showlegend\":true,\"x\":[-0.33591170847832175,-0.3192707086724258,2.3057407549935354,-0.39402766367239095,-0.2734565810061467,-0.30603201267434366,-0.2628206275914162,-0.2389081124633849,-0.3355717286493329,-0.3281584243047275,-0.33441012748105275,-0.33590765036803466,-0.33589195149251194,0.7065318035634681,-0.36981112707124525,-0.3564454536648714,-0.30646162896376805,-0.3339730460802422,-0.3306647120846849,-0.3939224892098045,-0.4116434914729804,-0.03294051168601301,-0.2693869273061905,-0.2924517552404209,-0.2745685781744472,-0.2751900223452668,-0.3487539507276207,-0.33022158124577045,-0.33431555888011527,0.021789577539752098,-0.3505268760065715,-0.3942935723853236,-0.24102141393598656,-0.3127751492297158,-0.3942053352176279,-0.31117655936381317,-0.334590876521063,-0.3290795960845929,-0.39416984837252417,-0.24148843217338542,-0.27497115510984177,-0.32702721739416996,0.13039420912077937,-0.33897230183654453,-0.3052447632552141,-0.36923339459874044,-0.2924320153775017,-0.2752653339118326,-0.2870933493453981,-0.3358937990559186,-0.27521757522059337,-0.3509712028778404,-0.3356285363120798,-0.39427512398439296,-0.4100824895982933,-0.4105836329282098,-0.45071618688686227,-0.290835663403493,-0.27473985881891644,-0.29859931496020914,-0.24134608573288047,-0.07607302069582607,-0.3060029623784943,-0.07217838795796426,-0.306066561735455,-0.2296046842330297,-0.3355046012822527,-0.2907050462664866,-0.39144836625357204,0.8591465639835345,-0.3058669134536422,-0.023283752672407284,-0.35612914593996503,-0.39212088139752227,-0.3046122691185379,-0.30228381135366394,-0.3508142775355917,-0.39301207437055996,-0.34523535612210626,-0.31183305468180084,-0.3355426555487728,-0.3339836588980654,-0.23075020195594184,-0.33847830726843053,-0.3937497497196392,-0.3347479269014833,-0.3060475525236708,-0.3942643332547612,-0.3357315509446604,-0.3358880392431859,-0.29069431350399955,-0.25235830024285055,0.03809713864858295,-0.35508758622721015,-0.33550267047305726,-0.3804459253407566,-0.354417000932856,-0.23217875740230146,-0.40504646290808793,-0.35416663261792003,-0.27602381366399975,3.757530022005513,-0.3938574168158999,0.8555559618397724,-0.394219299743583,-0.3555507308229543,-0.3354303711336317,-0.3355845125809168,-0.35612914593996503,-0.3937948104083834,-0.30591039283712124,-0.33543109792226744,-0.37202891801058163,-0.3355783000122129,-0.33117267487876334,-0.394248259653459,-0.33479014431584664,0.34998091152995836,-0.3357773090382396,-0.3358477792053537,-0.34957488378856955,-0.34438179882598036,-0.33207991391759806,-0.3060239952171475,-0.3941583282834631,-0.3356258884586373,-0.3357526883465048,-0.29233872143975687,-0.28823779608235595,-0.23194691459717043,-0.31663120538774364,-0.29208014007269584,-0.39342511005474684,-0.3938695628355995,-0.39216504656014356,-0.35437798833830003,-0.39332312081900234,-0.3487852108750201,-0.3892696862912065,-0.33569604354859744,-0.3356952454251659,-0.32882685673306106,0.2690777340956193,-0.393800922809917,-0.27500504060336695,-0.35616341275252017,-0.33490782601572944,0.8915015994683522,-0.2615129256227781,-0.34401530719692713,0.6084398776781886,-0.35234792064050574,-0.3508521525219556,-0.41220626371120045,-0.2749030860082327,0.1283898808877308,-0.27497375494638165,-0.3504683247638858,-0.41171175792432607,-0.3940729271879149,-0.29241277688210704,-0.3560298981534206,-0.3353317281508045,-0.3358307311717194,-0.3314441198695141,0.6506678572490365,-0.3940138534999497,-0.3437599256088001,-0.33578641796590697,-0.30929087220112933,0.4323475583499558,-0.3043724153647747,-0.337135250797279,-0.3914734293315481,-0.3357368255425141,-0.3911669107495291,-0.3409946655211948,-0.335607375034897,-0.08953094111028159,-0.3928081637943983,3.7623795085881935,0.20641233817812962,-0.2716489819989253,-0.33307105785630886,-0.3089637764999095,-0.3494609352449999,0.07795478398117693,-0.33474716507528834,-0.3933884516742492,-0.3486268461880823,-0.3223293196487412,-0.3358528351609925,-0.35094316834882616,-0.345516913458593,-0.3020919780870671,-0.331403902953388,-0.22375390928998015,-0.3247731761048092,-0.36036125588019124,-0.3940901737444311,-0.3888492960941416,-0.29157394962077193,-0.32295539751312796,-0.3519474327571,-0.3358801547699952,-0.33586189118561155,-0.2859628379383354,-0.34308300344480874,-0.3556248931779952,-0.3355787872959692,3.9501704941231015,-0.3898365775473276,-0.35581331837742575,-0.32432629321096385,-0.28252150623580574,-0.44542403352463866,-0.2921073753514838,-0.13925056950445666,-0.29235914935001833,-0.34124776485818453,-0.33505354435623697,-0.1975427358353669,2.2428250612337903,-0.3451750685374096,-0.26164034932961716,1.0378862504635518,-0.36681171320996153,-0.3495743289400423,-0.39284870501788444,-0.17326167107544935,-0.3523672840255829,-0.34829555210469293,-0.3287670217500633,-0.3505211452029078,-0.39356419458685643,-0.28960833034225275,-0.35491441081671293,-0.3479002276074662,-0.3503827586741472,-0.19556088201182334,-0.3210072016034433,-0.34569438577442346,0.3115129713115998,-0.14115437324824856,-0.3921442726837063,-0.335582743506697,-0.39259977956375214,-0.3496911506602272,0.5697065917657617,-0.3509974146236992,-0.3350663905008909,-0.3833123673047995,-0.2960302688406583,-0.39113236423934705,-0.39379112289850926,3.774605426927195,0.09876186394499661,-0.3913337646982618,-0.3344527995244452,-0.3352765739495972,-0.26285322905940584,-0.33579419177219,-0.3854299391791202,-0.24961816134523898,-0.08596242884334243,-0.3811842400019741,-0.3350734228796313,-0.32814683916288256,-0.39036421584681563,-0.3335147405617626,-0.35640442135914696,-0.3902158296482102,-0.30454902381838705,3.757921304065172,-0.09989314402719335,-0.33071317433172315,-0.3483803487656291,-0.27537238936194114,3.767777354428301,3.76901995354624,-0.24377497219112235,-0.356340366540657,-0.37937213604500436,2.4932942109305785,-0.3339598364427827,-0.29275506922763717],\"y\":[1.0380800143159368,1.0381701471756444,1.6343151885344276,1.2507155184796965,1.7679516124677317,0.8406428771835478,0.5710630882132762,1.757317275458329,1.0380779939443427,1.0382842577322773,1.03811957022512,1.0380797939540831,1.0380798802153532,0.3420313423674015,1.1034721528953615,1.5377703072330295,0.6152496447823183,1.038052534241819,0.981674760934682,1.2507182890718989,1.6573549241183418,0.7753368134511635,0.8400390461739179,0.7684899636725542,1.7719858225746066,1.7719694519811156,0.5316920234556166,1.0379549835614432,1.0380579123104532,1.0475028758324858,0.9811515354758295,1.2507229138616156,0.1264369543259283,1.6011551100082613,1.250718693103824,1.0376842754387703,1.0380493505010195,0.5181092042476824,1.2507225735502752,0.12649011003161217,1.7719752175618508,1.037659474072938,0.5615227793214731,1.0133186514567027,0.8406335047445248,1.103490239072192,0.7685010748266464,1.7719596130677775,0.7683144189372659,1.0380804861281607,1.7719621803321883,0.981126738995079,1.038074382240696,1.2507234004991492,1.3178602058010185,1.8164511968389143,0.8077777912697653,0.7684776689591403,1.7719485814168796,0.8401984934005221,1.757464942136394,1.0517821271999725,0.8406436424503347,1.2418291631866851,0.8406494947664481,1.5910893849309313,1.0380632462166608,0.7684018708072861,1.2505465054649234,0.7340332035703601,0.8406354438718548,0.3475835484436511,1.5377655480144414,1.250731055616093,0.8405488860950459,0.8404123602160393,1.5878374696722926,1.2506656857758804,1.3490615008692253,1.0374051483622477,1.038060716400125,1.038065346327087,1.5022848883586428,0.9810388678562647,1.2507045111980468,1.0380517591791452,0.840643122402897,1.2507217210088981,1.0380710139616716,1.038080637857885,0.7685468507986747,0.4861364038773191,1.9353597362306674,1.5377576381636084,1.0380907895589975,1.2501058263611617,1.537797559156398,1.5023765362062411,1.9669981593173338,1.5376333083758966,1.9352632617678398,1.9752494143438137,1.2507147665996843,1.8012000973301685,1.250722348745623,1.5377611476159396,1.0380674665049248,1.038061141127504,1.5377655480144414,1.250696778343899,0.8406473901590173,1.0380710737482064,0.8819185464245869,1.0380704689438893,1.0377789431016118,1.2507208352672399,1.038015299579813,0.7641403378209274,1.038075045227072,1.038079527962328,1.3486598656637085,0.5201293382477717,1.037853663206329,0.8406437429688415,1.250720354259663,1.038074451992629,1.0380698461990787,0.7684675303959684,0.10536190534489794,1.502374772419815,1.0379333343720325,0.7684878092695323,1.250680333981008,1.7693662185211285,1.250706981781576,1.5377525761438684,1.2506830206653434,1.5377102665123419,1.2505279664347817,1.038071810475937,1.038066995521927,1.0376120664932524,0.5359892614685002,1.250709708982834,0.7676509848455911,1.5377580995014588,1.038037728242526,1.7284121060592428,0.5709747473753428,1.3490501106425077,1.9583142176320834,1.587849435811563,1.5878168344529826,2.3406319721417663,1.7719573732088474,1.0175818865927817,1.7719627786454528,1.293026467802898,2.340644998819941,1.250722503636998,0.7684901880251852,1.5377409318579414,1.0380637077309496,1.0380793982663032,1.768721107060429,1.6818746767226356,1.250712609364409,0.5315642148133632,1.0380730160793232,0.751014444562387,1.0419535607957653,0.8406355381992189,1.5874712268909164,1.8712725581051703,1.038070875013877,1.618167433808759,1.1997524629009937,1.0380783511935794,0.5697449643726854,1.2506677844417855,1.9751316949422972,1.5829378186973442,1.7719252705815953,1.0380173827017096,1.318256382596647,1.3486595944757553,1.0162532837867135,1.0380125042772652,1.2507140288083294,1.3486161084515185,1.0378486882436355,1.0380789469014056,0.9811268229208587,1.349059647808443,0.04857236891297436,1.038046899444885,1.502076440749245,3.2773338530101297,0.8822171839392433,1.250711908039439,1.4124405680510428,0.7684425104281444,1.4142880264271942,1.5878338024791048,1.0380788818086364,1.0380780537573138,0.7683441997986075,1.2952151861913082,1.5377343198221798,1.038069146941775,1.955387085348845,1.6182024785401834,1.5377345928333326,0.5582118326463662,1.03613372157763,0.969516966188139,0.7684926076073338,1.0365838788314699,0.7684741926784185,1.9383929193275249,1.0380476358498318,1.4878528304169512,0.28980551939596916,1.3483601091111441,0.5710367324404516,1.694592393243214,0.8277923867864142,1.3486559527829312,1.6182506754130708,0.7605909996785836,1.020585352035248,1.3486379273296003,1.0376136427155895,0.9811156843850517,1.2507093992439755,0.7684052671213801,1.5376731768261707,1.0491823490392067,0.9810898736489176,1.0299947600944193,2.4748978899782927,1.1428596186675288,0.9187702854073685,0.9866669981544008,1.6182372564317613,1.0380749339695978,1.618248143930018,1.348657869836177,1.0129737598913022,0.9811262448785631,1.0380472974461235,1.4122984099328184,1.9363766198726398,1.2505312648675773,1.250716512968583,1.9751264687180172,1.0266201436342288,1.2508008842047613,1.0379875295546137,1.0380612304550032,0.5710566654444325,1.0380831100651566,1.2506291162114374,1.0334801100961244,0.8463301612526977,1.2504136684901879,1.0380922784095306,1.0380227297807303,1.2506902716268904,1.0380384239890594,1.5377654968941972,0.6118833810690281,0.8406276129198604,1.975236864832144,0.7670214800637165,1.0380205835530982,0.5316649479277413,1.7719645693692216,1.9756011808583012,1.9756339144263158,0.5709184039763888,1.53776742376459,2.060534576622067,0.8514498635744973,1.0379677864514671,0.7684919100935688],\"z\":[-0.5327328484302059,-0.5332596865305412,-0.5953287475264681,-0.42550006920684486,-0.19310141845507986,-0.3553669752519452,-0.06905005618442349,-0.5274471158306134,-0.5327426944153822,-0.5330168555338686,-0.532787852181033,-0.5327329193329102,-0.5327334166367674,-0.5662270853171074,-0.4050452369292892,-0.011235519141664449,-0.22249813764191126,-0.5327852015976694,-0.1399232570573361,-0.42550392180570795,-0.5515457828561868,-0.25592959792549697,-0.3563365181211788,-0.24642104107940513,-0.549665277326317,-0.5496425134818568,-0.28326632289536735,-0.5328759670406902,-0.5327760763687954,-0.545835644826987,-0.13919569498274784,-0.4254937498726277,0.15692143493769795,-0.2425657055569332,-0.42549542711138855,-0.5333900957620061,-0.532765680312369,-0.44962569983765055,-0.425497426806097,0.1569229911434799,-0.5496505307100141,-0.5329027829587162,-0.8190671141307881,-0.09253989107572011,-0.35538865920623924,-0.40506708072079345,-0.2464242803021835,-0.54963788866569,-0.24654208394263277,-0.5327335044688066,-0.5496399491116465,-0.1391763088569242,-0.5327401110039292,-0.4254944258032892,-0.3865800041181695,-0.7054243465861825,-0.17820205002152134,-0.2464672046287575,-0.5496512277557972,-0.3554871509828627,-0.527408150193419,-0.40278380615579995,-0.3553680393803853,-0.43316423557459893,-0.35536749805776563,-0.5113153839571374,-0.5327412296079225,-0.24645316439545223,-0.42553825593036093,-0.27321182019196033,-0.35537022376031435,-0.5453799556865702,-0.01124399548273868,-0.42556167370505005,-0.3553877666388767,-0.3554260527604437,-0.5068614135267175,-0.4255190762165094,-0.08318041723453164,-0.5333038442500575,-0.5327394728040377,-0.5327879230304966,-0.2633380134798368,-0.13953487111691754,-0.425505895088269,-0.5327614825629903,-0.35536656152796114,-0.4254943545457635,-0.5327361820115225,-0.53273371545394,-0.2464879332850642,-0.3678547369383975,-0.6610223255757559,-0.011273750889568205,-0.53274783172561,-0.42576773304848464,-0.011303602133072542,-0.2633163977716572,-0.45047939778140794,-0.011272185317111515,-0.6514588343028194,-0.24487042879113197,-0.42550506136907745,-0.5909301827707129,-0.42549587144798157,-0.01126051786976607,-0.5327444867616316,-0.5327383024127554,-0.01124399548273868,-0.4255026893971485,-0.3553717412726222,-0.532745321660546,0.002587695658409813,-0.5327407071129497,-0.5328052582019125,-0.42549463231206663,-0.5327515386128876,-0.2648998495862796,-0.5327357499416805,-0.5327346745653789,-0.15036887414858746,-0.32831501847140293,-0.53279545453989,-0.3553674244451578,-0.42549724946045925,-0.532740207996268,-0.5327352625948037,-0.2464191446987144,-0.32300929021499636,-0.26332302034503624,-0.5332835946412997,-0.2464318160603196,-0.42551001135358335,-0.6607408506559643,-0.42555461308476433,-0.011294100416015446,-0.4255137472758243,-0.011453914356797667,-0.4256000231049671,-0.5327374496803322,-0.5327363300320603,-0.5328368611721443,-0.0768725335341055,-0.42550557568271896,-0.24675162142571078,-0.01124118517728714,-0.5327532927301288,-0.5549132404330537,-0.06906878694266765,-0.08321476693376109,-0.6128570738849964,-0.5068176760745523,-0.5068553608656314,-0.5751983317017081,-0.5496483588395982,-0.5419650074628137,-0.5496474966324177,-0.06218075642510567,-0.5752164457227997,-0.4255003539148615,-0.24642227824078045,-0.011241161802266758,-0.5327465898023411,-0.5327351615412579,-0.19152301316962037,-0.036605823803765467,-0.42549979753455763,-0.28338763934935796,-0.5327349912178782,-0.011323230776404833,-0.5569868784637487,-0.35541563749506905,-0.5071898685232008,-0.5279325381844441,-0.5327359888000793,-0.4367178193176293,-0.12943042046807535,-0.5327416966248539,-0.07400011352363796,-0.4255257680273906,-0.2449897521811029,-0.5226216498436494,-0.5497395667972544,-0.5328042460882871,-0.2205028529068443,-0.15037227060034683,-0.540117541905601,-0.5327521799104257,-0.4255191296359489,-0.15038727281372508,-0.5330904204884364,-0.53273438296174,-0.13917718026795073,-0.0831714254623673,-0.4233262269760279,-0.5328618936916804,-0.26350098597161636,5.1292800643579035,-0.2703144770158714,-0.4254973129003186,-0.43207077728401033,-0.24643642857189463,-0.06870182114271668,-0.5068261257952691,-0.5327335377386296,-0.5327338957252269,-0.246583495202146,-0.0480585223744477,-0.01125189190775969,-0.5327403782448528,-0.30649030999797106,-0.43676655016026533,-0.011246233862745855,-0.04975310360315469,-0.5338920500335385,-0.1847795697933242,-0.24643212880419804,-0.538350459996177,-0.2464201070154628,-0.6502213467750082,-0.532751220682079,-0.2411015315325889,-0.5650211298643221,-0.15043129340746927,-0.06907964259135181,-0.13465883786257513,-0.33609225367226864,-0.15036796141712902,-0.436686515095122,-0.24816455889779143,-0.297642139312288,-0.15040251848587197,-0.5328390529607396,-0.1391873518931386,-0.42551269207564135,-0.2464872810293195,-0.011258945134508988,-0.37891197649786595,-0.13918542314938837,-0.5350748094062316,-0.3611858773493253,-0.14575186726926267,-0.15671351793477908,-0.14686512581957464,-0.4367047223676589,-0.532741632910463,-0.4366934741258605,-0.15036486870880683,-0.554274052294617,-0.1391753953589369,-0.5327507501206794,-0.4322051739578406,-0.6511156930938125,-0.4255442329241017,-0.42550748975201974,-0.24535983969134184,-0.5432123564487621,-0.42560216942441464,-0.5327551872181607,-0.532747676434894,-0.06904754014543289,-0.5327371531388245,-0.42574067517015746,-0.5342609811339322,-0.36340212053383664,-0.42581844282884895,-0.5327612226632303,-0.5329550761794987,-0.4256053385995307,-0.5327957692104085,-0.011235622593966562,-0.16520054271127238,-0.35540839068295776,-0.2448793315335376,-0.25192061875224425,-0.5328766208308102,-0.2832712377056428,-0.5496358146158274,-0.24526523292206756,-0.245310750016564,-0.06959414365430124,-0.011238025852111599,0.2765621953114957,-0.18030515453177232,-0.5327654692635375,-0.24641229115126403],\"type\":\"scatter3d\"},{\"customdata\":[[\"Bitcoin\",\"SHA-256\"],[\"Ethereum\",\"Ethash\"],[\"Litecoin\",\"Scrypt\"],[\"Monero\",\"CryptoNight-V7\"],[\"Ethereum Classic\",\"Ethash\"],[\"ZCash\",\"Equihash\"],[\"DigiByte\",\"Multiple\"],[\"ProsperCoin\",\"Scrypt\"],[\"Spreadcoin\",\"X11\"],[\"Argentum\",\"Scrypt\"],[\"MyriadCoin\",\"Multiple\"],[\"MoonCoin\",\"Scrypt\"],[\"ZetaCoin\",\"SHA-256\"],[\"SexCoin\",\"Scrypt\"],[\"Quatloo\",\"Scrypt\"],[\"QuarkCoin\",\"Quark\"],[\"Riecoin\",\"Groestl\"],[\"Digitalcoin \",\"Scrypt\"],[\"Catcoin\",\"Scrypt\"],[\"CannaCoin\",\"Scrypt\"],[\"CryptCoin\",\"X11\"],[\"Verge\",\"Multiple\"],[\"DevCoin\",\"SHA-256\"],[\"EarthCoin\",\"Scrypt\"],[\"E-Gulden\",\"Scrypt\"],[\"Einsteinium\",\"Scrypt\"],[\"Emerald\",\"Scrypt\"],[\"Franko\",\"Scrypt\"],[\"FeatherCoin\",\"NeoScrypt\"],[\"GrandCoin\",\"Scrypt\"],[\"GlobalCoin\",\"Scrypt\"],[\"GoldCoin\",\"Scrypt\"],[\"Infinite Coin\",\"Scrypt\"],[\"IXcoin\",\"SHA-256\"],[\"KrugerCoin\",\"Scrypt\"],[\"LuckyCoin\",\"Scrypt\"],[\"Litebar \",\"Scrypt\"],[\"MegaCoin\",\"Scrypt\"],[\"MediterraneanCoin\",\"HybridScryptHash256\"],[\"MinCoin\",\"Scrypt\"],[\"NobleCoin\",\"Scrypt\"],[\"Namecoin\",\"SHA-256\"],[\"NyanCoin\",\"Scrypt\"],[\"RonPaulCoin\",\"Scrypt\"],[\"StableCoin\",\"Scrypt\"],[\"SmartCoin\",\"Scrypt\"],[\"SysCoin\",\"SHA-256\"],[\"TigerCoin\",\"SHA-256\"],[\"TerraCoin\",\"SHA-256\"],[\"UnbreakableCoin\",\"SHA-256\"],[\"Unobtanium\",\"SHA-256\"],[\"UroCoin\",\"X11\"],[\"ViaCoin\",\"Scrypt\"],[\"Vertcoin\",\"Lyra2REv2\"],[\"WorldCoin\",\"Scrypt\"],[\"JouleCoin\",\"SHA-256\"],[\"ByteCoin\",\"CryptoNight\"],[\"DigitalNote \",\"CryptoNight\"],[\"MonaCoin\",\"Scrypt\"],[\"Gulden\",\"Scrypt\"],[\"PesetaCoin\",\"Scrypt\"],[\"Wild Beast Coin\",\"Scrypt\"],[\"Flo\",\"Scrypt\"],[\"ArtByte\",\"Scrypt\"],[\"Folding Coin\",\"Stanford Folding\"],[\"Unitus\",\"Multiple\"],[\"CypherPunkCoin\",\"QuBit\"],[\"OmniCron\",\"Scrypt\"],[\"GreenCoin\",\"Scrypt\"],[\"Cryptonite\",\"M7 POW\"],[\"MasterCoin\",\"Scrypt\"],[\"SoonCoin\",\"SHA-256\"],[\"1Credit\",\"Scrypt\"],[\"MarsCoin \",\"X11\"],[\"Crypto\",\"Lyra2RE\"],[\"Anarchists Prime\",\"SHA-256\"],[\"BowsCoin\",\"X11\"],[\"Song Coin\",\"Scrypt\"],[\"BitZeny\",\"Scrypt\"],[\"Expanse\",\"Ethash\"],[\"Siacoin\",\"Blake2b\"],[\"MindCoin\",\"X11\"],[\"I0coin\",\"SHA-256\"],[\"Revolution VR\",\"Scrypt\"],[\"HOdlcoin\",\"1GB AES Pattern Search\"],[\"Gamecredits\",\"Scrypt\"],[\"CarpeDiemCoin\",\"SHA-256\"],[\"Adzcoin\",\"X11\"],[\"SoilCoin\",\"Dagger\"],[\"YoCoin\",\"Scrypt\"],[\"SibCoin\",\"X11GOST\"],[\"Francs\",\"Scrypt\"],[\"BolivarCoin\",\"X11\"],[\"Omni\",\"Scrypt\"],[\"PizzaCoin\",\"X11\"],[\"Komodo\",\"Equihash\"],[\"Karbo\",\"CryptoNight\"],[\"ZayedCoin\",\"SHA-256\"],[\"Circuits of Value\",\"Multiple\"],[\"DopeCoin\",\"Scrypt\"],[\"DollarCoin\",\"SHA-256\"],[\"Shilling\",\"Scrypt\"],[\"ZCoin\",\"Lyra2Z\"],[\"Elementrem\",\"Ethash\"],[\"ZClassic\",\"Equihash\"],[\"KiloCoin\",\"Scrypt\"],[\"ArtexCoin\",\"X11\"],[\"Kurrent\",\"X11\"],[\"Cannabis Industry Coin\",\"CryptoNight\"],[\"OsmiumCoin\",\"Scrypt\"],[\"Bikercoins\",\"CryptoNight\"],[\"HexxCoin\",\"Lyra2RE\"],[\"PacCoin\",\"X11\"],[\"Citadel\",\"CryptoNight-V7\"],[\"BeaverCoin\",\"Scrypt\"],[\"VaultCoin\",\"X11\"],[\"Zero\",\"Equihash\"],[\"Canada eCoin\",\"Scrypt\"],[\"Zoin\",\"Lyra2RE\"],[\"DubaiCoin\",\"Dagger-Hashimoto\"],[\"EB3coin\",\"Scrypt\"],[\"Coinonat\",\"NIST5\"],[\"BenjiRolls\",\"Scrypt\"],[\"ILCoin\",\"SHA-256\"],[\"EquiTrader\",\"Scrypt\"],[\"Quantum Resistant Ledger\",\"CryptoNight-V7\"],[\"Dynamic\",\"Argon2d\"],[\"Nano\",\"Blake2b\"],[\"ChanCoin\",\"Cloverhash\"],[\"Dinastycoin\",\"CryptoNight\"],[\"DigitalPrice\",\"X11\"],[\"Unify\",\"Scrypt\"],[\"SocialCoin\",\"Scrypt\"],[\"ArcticCoin\",\"X11\"],[\"DAS\",\"X11\"],[\"LeviarCoin\",\"CryptoNight\"],[\"Bitcore\",\"Time Travel\"],[\"gCn Coin\",\"Scrypt\"],[\"SmartCash\",\"Keccak\"],[\"Onix\",\"X11\"],[\"Bitcoin Cash\",\"SHA-256\"],[\"Sojourn Coin\",\"Scrypt\"],[\"NewYorkCoin\",\"Scrypt\"],[\"FrazCoin\",\"Scrypt\"],[\"Kronecoin\",\"Scrypt\"],[\"AdCoin\",\"Scrypt\"],[\"Linx\",\"Scrypt\"],[\"Sumokoin\",\"CryptoNight\"],[\"BitcoinZ\",\"Equihash\"],[\"Elements\",\"X11\"],[\"VIVO Coin\",\"NeoScrypt\"],[\"Bitcoin Gold\",\"Equihash\"],[\"Pirl\",\"Dagger\"],[\"eBoost\",\"Scrypt\"],[\"Pura\",\"X11\"],[\"Innova\",\"NeoScrypt\"],[\"Ellaism\",\"Ethash\"],[\"GoByte\",\"NeoScrypt\"],[\"SHIELD\",\"Multiple\"],[\"UltraNote\",\"CryptoNight\"],[\"BitCoal\",\"CryptoNight\"],[\"DaxxCoin\",\"Ethash\"],[\"AC3\",\"X11\"],[\"Lethean\",\"CryptoNight-V7\"],[\"PopularCoin\",\"Scrypt\"],[\"Photon\",\"BLAKE256\"],[\"Sucre\",\"X11\"],[\"SparksPay\",\"NeoScrypt\"],[\"GunCoin\",\"NeoScrypt\"],[\"IrishCoin\",\"Scrypt\"],[\"Pioneer Coin\",\"X11\"],[\"UnitedBitcoin\",\"SHA-256\"],[\"Interzone\",\"C11\"],[\"1717 Masonic Commemorative Token\",\"Ethash\"],[\"TurtleCoin\",\"CryptoNight\"],[\"MUNcoin\",\"SkunkHash\"],[\"Niobio Cash\",\"CryptoNight\"],[\"ShareChain\",\"Scrypt\"],[\"Travelflex\",\"Dagger\"],[\"KREDS\",\"Lyra2REv2\"],[\"BitFlip\",\"Scrypt\"],[\"LottoCoin\",\"Scrypt\"],[\"Crypto Improvement Fund\",\"X11\"],[\"Callisto Network\",\"Ethash\"],[\"BitTube\",\"CryptoNight\"],[\"Poseidon\",\"Scrypt\"],[\"Aidos Kuneen\",\"IMesh\"],[\"Bitrolium\",\"Equihash\"],[\"Alpenschillling\",\"Lyra2Z\"],[\"FuturoCoin\",\"X11\"],[\"Monero Classic\",\"CryptoNight\"],[\"Jumpcoin\",\"NIST5\"],[\"Infinex\",\"Lyra2RE\"],[\"KEYCO\",\"Tribus\"],[\"GINcoin\",\"Lyra2Z\"],[\"PlatinCoin\",\"CryptoNight\"],[\"Loki\",\"CryptoNight Heavy\"],[\"Newton Coin\",\"CryptoNight\"],[\"MassGrid\",\"Jump Consistent Hash\"],[\"PluraCoin\",\"CryptoNight\"],[\"Motion\",\"X16R\"],[\"PlusOneCoin\",\"HMQ1725\"],[\"Axe\",\"X11\"],[\"HexCoin\",\"Scrypt\"],[\"Webchain\",\"CryptoNight-V7\"],[\"Ryo\",\"Cryptonight-GPU\"],[\"Urals Coin\",\"XEVAN\"],[\"Qwertycoin\",\"CryptoNight Heavy\"],[\"Project Pai\",\"SHA-256\"],[\"Azart\",\"X11\"],[\"Xchange\",\"X16R\"],[\"CrypticCoin\",\"Equihash\"],[\"Actinium\",\"Lyra2Z\"],[\"Bitcoin SV\",\"SHA-256\"],[\"FREDEnergy\",\"CryptoNight\"],[\"Universal Molecule\",\"Blake\"],[\"Lithium\",\"Blake\"],[\"PirateCash\",\"Equihash\"],[\"Exosis\",\"Exosis\"],[\"Block-Logic\",\"Scrypt\"],[\"Beam\",\"Equihash\"],[\"Bithereum\",\"Equihash\"],[\"SLICE\",\"QuBit\"],[\"BLAST\",\"SHA-256\"],[\"Bitcoin Rhodium\",\"X13\"],[\"GlobalToken\",\"SHA-256\"],[\"SolarCoin\",\"Scrypt\"],[\"UFO Coin\",\"NeoScrypt\"],[\"BlakeCoin\",\"Blake\"],[\"Crypto Escudo\",\"Scrypt\"],[\"Crown Coin\",\"SHA-256\"],[\"SmileyCoin\",\"Scrypt\"],[\"Groestlcoin\",\"Groestl\"],[\"Bata\",\"Scrypt\"],[\"Pakcoin\",\"Scrypt\"],[\"JoinCoin\",\"Multiple\"],[\"Vollar\",\"Equihash+Scrypt\"],[\"Reality Clash\",\"Ethash\"],[\"Beldex\",\"CryptoNight\"],[\"Horizen\",\"Equihash\"]],\"hovertemplate\":\"class=%{marker.color}<br>PC 1=%{x}<br>PC 2=%{y}<br>PC 3=%{z}<br>CoinName=%{customdata[0]}<br>Algorithm=%{customdata[1]}<extra></extra>\",\"legendgroup\":\"1\",\"marker\":{\"color\":[1,1,1,1,1,1,1,1,1,1,1,1,1,1,1,1,1,1,1,1,1,1,1,1,1,1,1,1,1,1,1,1,1,1,1,1,1,1,1,1,1,1,1,1,1,1,1,1,1,1,1,1,1,1,1,1,1,1,1,1,1,1,1,1,1,1,1,1,1,1,1,1,1,1,1,1,1,1,1,1,1,1,1,1,1,1,1,1,1,1,1,1,1,1,1,1,1,1,1,1,1,1,1,1,1,1,1,1,1,1,1,1,1,1,1,1,1,1,1,1,1,1,1,1,1,1,1,1,1,1,1,1,1,1,1,1,1,1,1,1,1,1,1,1,1,1,1,1,1,1,1,1,1,1,1,1,1,1,1,1,1,1,1,1,1,1,1,1,1,1,1,1,1,1,1,1,1,1,1,1,1,1,1,1,1,1,1,1,1,1,1,1,1,1,1,1,1,1,1,1,1,1,1,1,1,1,1,1,1,1,1,1,1,1,1,1,1,1,1,1,1,1,1,1,1,1,1,1,1,1,1,1,1,1,1,1,1,1,1,1],\"coloraxis\":\"coloraxis\",\"symbol\":\"diamond\"},\"mode\":\"markers\",\"name\":\"1\",\"scene\":\"scene\",\"showlegend\":true,\"x\":[-0.13849893351049455,-0.15779511896943263,-0.1672107635771792,-0.14705590843915595,-0.1562393303123358,-0.16011479262216463,0.16931018345212318,-0.16835553067056863,-0.2266788311574667,-0.16797259574604625,-0.08376229814405067,2.5496660778373847,-0.13558759764871556,-0.16523157448791947,-0.16777691478833545,-0.22070475059401015,-0.20134611650154607,-0.1678255497344972,-0.1683378180378778,-0.16842415757576032,-0.2267680629648618,0.1930374587257395,0.23886141246977868,0.07998653613068736,-0.1681707696786997,-0.16378179093045767,-0.168110152935785,-0.16848108908050552,-0.1765582043071008,-0.14773054128640167,-0.1672777330647648,-0.16755485007423673,1.5781872648128379,-0.13846034944687882,-0.1648477933141826,-0.16819717795405964,-0.16855153669576187,-0.16781173912399971,-0.13505297226362237,-0.16843295895850804,-0.03352313795883245,-0.13853786655643996,-0.16210498961821562,-0.168412441504652,-0.1665094123780449,-0.1678998474202735,-0.12570670585802576,-0.13800231894960976,-0.13828917065352603,-0.1382722326869958,-0.1388621090793152,-0.2269417211851446,-0.16812927520662863,-0.18434543420710336,-0.16523630575351494,-0.1380695297177497,3.862562803456081,0.46588574777975184,-0.1669983550430946,-0.15161814237188187,-0.16571880642310105,-0.1685537452522356,-0.16558399875333213,-0.15182547311550132,-0.1253585132827494,-0.11772496516985899,-0.17789387617274297,-0.16842697677792542,-0.04153281699937077,-0.13525002700611555,-0.16856262409718734,-0.13856561065660608,0.4826716628694724,-0.2263296940050644,-0.15340957353207899,-0.13830583487251186,-0.22661423208290557,-0.16668897747058797,-0.16588225063210307,-0.1588613182050121,0.3826249103419701,-0.22664957877304098,-0.13846147044789367,-0.1645256621261075,-0.15905793530807685,-0.1671278300158416,0.2794864863943192,-0.2258114123455127,-0.1408885683555595,-0.16737508493920428,-0.14587005365661587,-0.16835281754468126,-0.22661287995918455,-0.1685626825171141,-0.2267626706888301,-0.30756210190087174,0.31099199517564396,-0.13872122572819712,-0.09782320731103905,-0.16573310108908443,-0.1386799065055255,-0.16822653167151416,-0.15021751392653956,-0.15860379917591091,-0.16013638369898134,-0.0953918719521793,-0.21336283281269777,-0.22459373885648293,0.3109863491411669,-0.1685444455048714,0.311116901934246,-0.15394928393433277,0.4874708376245977,-0.14582237855847843,-0.16851277173331944,-0.21950694397349563,-0.16014873754603165,-0.16664842824807677,-0.15366801919504802,-0.14468465621610377,-0.13947747708458988,-0.1846673802798614,-0.16807572391624323,-0.10509062256040405,-0.167898058306987,-0.14568016322768482,-0.15128785139536627,-0.017197665787809898,-0.1590275466059555,0.34706193336254243,-0.22581982024846117,-0.1682168555124453,-0.16798060565917664,-0.22621396490453696,-0.2267906602708102,0.31138081167485954,-0.16097095026895814,3.236733665976454,-0.12047292547580211,-0.2176754082430041,-0.13849809873192578,-0.09424175485542335,1.5763573822544779,-0.1683145865955736,-0.1677669864785867,-0.16746834545401887,-0.16745529208127027,0.31156414748126793,0.05189033417016847,-0.18123512429892125,-0.18124083504092756,-0.15999497989753247,-0.13964934862746448,-0.16664663955444617,-0.22234094889821115,-0.181086460283666,-0.15697135467333173,-0.18118652477361322,-0.10796952842836009,1.1477916602472251,0.31096915255396596,-0.08196574594978082,-0.22208314060202908,-0.1348066850509781,-0.08481060816301247,1.0952233626706787,-0.22676469149501288,-0.1812383874132316,-0.1742853572619095,-0.16756655493941158,-0.22669019346554325,-0.13847751960147875,-0.1929900933451851,-0.2832670045295902,8.037976541568124,-0.1440425087530285,0.3148384316232871,0.024230471058390258,-0.13915307441171515,-0.16992239340578902,-0.16813955364966823,0.13853963890341653,-0.2208388752131987,-0.11007586346132556,0.31888125102708015,-0.16837625043979054,-0.15459737318896696,-0.15898735816290052,-0.14800411797457827,-0.2258605437650457,0.3111514431097673,-0.184726728256266,-0.15379473337720448,-0.14562514294759046,-0.15030177229427735,0.3150740435548459,0.5899582055250049,2.1171815705461916,-0.1466801451002922,0.3247385419658559,-0.20025400707459307,-0.15167437864444933,-0.22674687497395832,-0.1684008045058955,-0.13468787135608337,-0.15142179034479974,-0.2202755289873829,3.1092023946583174,-0.09837727205238296,-0.2267182811489585,-0.19968253721186835,-0.05487923866863196,-0.1497003613027114,-0.13849813625231364,0.3908034147863514,-0.13926484074501544,-0.13965627075266918,-0.28363497971568424,-0.1725415054449289,-0.16729458236755135,-0.15805778641276172,-0.15982801462881727,-0.17710595134323484,-0.13777521369844178,-0.10800867020685136,-0.13664467188018642,0.526528963052003,-0.10649992788322077,-0.0901919614106245,-0.15197587862434644,-0.13828854185958647,0.5463395234409368,-0.20090767575299556,-0.16847752415136938,-0.1664359626806693,-0.11845897354796273,-0.11764116353390393,-0.15863691527183854,0.33269802165043016,-0.1601158483025146],\"y\":[-1.3176930325240095,-2.1056279101836237,-1.1202807700258848,-2.2370536616074763,-2.105724388716028,-2.0386901967452675,-1.7684600757404592,-1.120269687703181,-0.9076245902217845,-1.1202877471786465,-1.7626896452033267,-1.300015392060018,-1.317713738759035,-1.1203372933507985,-1.1203061573722284,-0.5401227356145408,-1.054891979577316,-1.12027350890694,-1.1202692211024419,-1.120266350508424,-0.9076256316737641,-1.7649254116056836,-1.3214847893542854,-1.1225507788458358,-1.1202648205771653,-1.120331695248545,-1.12027042417233,-1.1202666037968105,-1.6267391850764825,-1.1206425277076801,-1.1202733700314176,-1.1202821400723018,-1.1335522801003282,-1.3176920161108672,-1.1203372776625493,-1.120264861662834,-1.120261988502264,-1.1202691089386738,-2.3594908776798387,-1.1202645269715632,-1.1265228183068166,-1.317694058130326,-1.1203118789877862,-1.120271186895182,-1.1203709552075343,-1.1202774521220322,-1.3179235724656464,-1.3176969772827183,-1.3177012530179826,-1.3177256809721407,-1.3176890169995803,-0.907618423830279,-1.120265036661337,-1.1377589560160752,-1.1203475121767814,-1.3176974308043221,-2.2417357339883686,-2.2170104015601275,-1.1202889993751983,-1.120914730589172,-1.12029539612542,-1.1202628832387476,-1.1202876647448718,-1.120475075933452,-2.040749101273393,-1.762275152028332,-1.6381831542457967,-1.1202600303749752,-1.1234609016491133,-2.0484336909283387,-1.120261802388545,-1.3176947889882322,-1.1633276691380032,-0.9076239025406958,-2.3643207249215226,-1.3177093898947703,-0.9076235430826713,-1.12034965924509,-1.120354433996976,-2.105667063518246,-2.2432713556166832,-0.9076212013000449,-1.3176920456411982,-1.1202925143130555,-2.4280079684589917,-1.1202785853217971,-1.3208245623848645,-0.9076436332638808,-2.1991528549873363,-1.1203403136280559,-2.1970063503539454,-1.1202689616489452,-0.9076261257952847,-1.1202618019441044,-0.9076300717058896,-1.4290524952771437,-2.214551457599203,-1.3176915151073085,-1.7625363829640737,-1.1203177758349268,-1.3176910172711487,-1.120272180751025,-2.2485967974816794,-2.1056663667989692,-2.0386907655151707,-1.1248797011742748,-0.9075880090051076,-0.9077058162365622,-2.214558806742952,-1.1202626947384886,-2.214557985945264,-2.3642984238285596,-0.9542570648154207,-2.237142264774578,-1.120262283035252,-0.9080771536559991,-2.0386884726190018,-1.1202764298515937,-2.3642982149333727,-2.2031210380707384,-1.122113543392276,-0.5705082830375793,-1.1202718216082166,-1.318435674184128,-1.1202910203148564,-2.2370861517939846,-2.248598255958681,-2.254026553773979,-2.3028095713292873,-2.2149038934756002,-0.907654328077251,-1.1202649066309505,-1.1202951585936305,-0.9076385276462811,-0.9076268160751424,-2.214570016720233,-2.3426326610811152,-1.1614728495676843,-1.1106097692569739,-0.9080943641195512,-1.3176930105335831,-1.1251766952648319,-1.0742952788679505,-1.1202679545378385,-1.1202954225070514,-1.1202980287850224,-1.120297684922341,-2.2145880248050935,-2.0468378767656628,-0.9075926321769534,-1.62666027268854,-2.0386870405399264,-2.1992028886620756,-1.1202763827323547,-0.9077263304972888,-1.6266679885128694,-2.1057894931027987,-1.62666198400045,-1.7624501909656016,-2.24814078830511,-2.2145536957954377,-2.110176178891202,-0.9078504556675422,-2.2373852259413556,-1.1213280466086661,-1.1390111880848919,-0.9076267211088485,-1.626656280714065,-1.6267866634563002,-1.1202770509177455,-0.9076268532855761,-1.3176919224991117,-1.2761260410765485,-0.21690871182712837,-2.665577171535648,-2.2800001535640715,-2.2146635256131275,-1.121728511024154,-2.199152957977361,-1.1380440685798772,-1.120276435332855,-1.1242203496624148,-0.9077849490631388,-2.1086256387798143,-2.2149916693463587,-1.120270233520384,-2.1262019555113043,-2.038692571498682,-2.248720857164811,-0.9076554008496205,-2.2145527557864497,-0.5704920077391723,-2.3643050091399904,-2.121307854583987,-2.248591882131925,-2.214830129139249,-2.117808686861544,-2.287408023333774,-2.223548461755452,-2.2148373717707712,-1.3305302883925245,-2.076180819629542,-0.9076270372708074,-1.1202716038299851,-2.2378733725756645,-2.0989410026671114,-0.7459667690079167,-2.1720973938039765,-1.3179969924463675,-0.9076289023601192,-1.330566242173132,-2.040879078586836,-2.2486241511078218,-1.3176930115219763,-2.217731483074752,-2.1583822550090765,-2.1583402709705872,-0.14997351096457828,-2.2996021009514993,-1.120306543031721,-2.038794287527036,-2.0386891134094656,-1.6382278563660821,-1.3177021147636663,-0.3863777524158528,-1.3177404097167977,-1.1661652994009948,-1.6272920438691543,-2.1616028070048556,-1.1204790380390761,-1.317701236453776,-1.134157998614763,-1.054894176050182,-1.1202624280303177,-1.120324508701923,-1.7622963207127151,-2.339156140282214,-2.1056661148621902,-2.21488967546374,-2.0386902245548666],\"z\":[0.14544339220540214,0.295782889273489,-0.03195204225726835,0.3548422928688883,0.29575855682793795,0.43206592142504874,0.36418700480436844,-0.03191990589067824,0.07531689179806846,-0.03192724610884675,0.37050251317455357,-0.07177023422187173,0.14535988745836656,-0.03199872650504348,-0.031928815675590444,0.0639927187262617,0.09574353052473969,-0.03193509482019712,-0.03192055471423229,-0.031918614352286524,0.07531984939001399,0.3626266226695062,0.13488290339387604,-0.038920703452661375,-0.03192667378822826,-0.03204408968955345,-0.031927183610698094,-0.031916825038517976,0.21742506884353754,-0.03245775835758062,-0.031951766258175085,-0.03194126608124417,-0.08181085873245669,0.14544197884975554,-0.03201038654418931,-0.03192586194777441,-0.031915781839291966,-0.031936559580928975,0.4652343269141892,-0.03191878025199528,-0.034529517202291596,0.1454448183444487,-0.03209972573188355,-0.03191782121527856,-0.03195191859478857,-0.0319319014395314,0.14510963238834496,0.14542924604197244,0.14543897417120438,0.1454442630779322,0.14545346870958747,0.07532341141928238,-0.03192788273511915,0.20315537825765212,-0.03199615511817369,0.145431395129908,0.27460084564892484,0.3718916975067649,-0.0319565385429611,-0.03227501575452181,-0.03199388168473072,-0.031915502197744076,-0.03199981284686414,-0.03237316744616815,0.36945466206728356,0.3714355658714367,0.17252152954992794,-0.03192003020140427,-0.03501366477577836,0.37042317523351,-0.03191548930460485,0.14544583462621702,-0.04146380192373329,0.07530612433168732,0.28702724573382266,0.1454414133802846,0.07531468100746953,-0.03195152407612992,-0.031974891877194815,0.2958245738446569,0.38995681815166244,0.07531519822976612,0.14544201991264424,-0.032030804838616554,0.35000271021304796,-0.03195508015959368,0.13349217678796169,0.07529507036207908,0.43087436318766126,-0.03193290566211682,0.3965496871648983,-0.031920160783294724,0.0753152535156736,-0.03191548763584375,0.07532074043313342,0.7404611406006223,0.37601200350608166,0.145449783235668,0.3708931646226037,-0.03198813077320025,0.14544841000537784,-0.031923231611719054,0.33555531364451174,0.2958165868830398,0.4320667123181611,-0.03304077773733952,0.07490376386673009,0.07527285964802038,0.3760139209258794,-0.03191582943436867,0.3760097607419451,0.2870383399003561,0.06470501450648412,0.3548258772081794,-0.03191688924763879,0.07520658072006767,0.4320665428091813,-0.03197015276311059,0.2870297476196237,0.35388910077214686,-0.032358953451572706,-0.006006606151104998,-0.031927897309789136,0.14460513483899268,-0.031928732382066845,0.3548082270368709,0.41847284596600665,0.4046554578242196,0.3352092664968443,0.3750002052053376,0.07529786649720632,-0.03192525361223698,-0.031925242098863944,0.07530608386198946,0.07532081710023754,0.37600460335188335,0.2972903969834598,-0.12555161412273078,0.12042521802927007,0.07515504148212479,0.14544336162699226,-0.03300515250846228,-0.09583297272778335,-0.03192156120415301,-0.03193166750406166,-0.031940118741354724,-0.03194059689363435,0.37600331320661295,0.42756248595321455,0.07392907019936812,0.21754854382582012,0.4320615326185303,0.4308486117551102,-0.03197021828394979,0.07520931083905108,0.21754568816049177,0.2957962569378559,0.21754730085531718,0.3711808549613829,0.35857630428518183,0.3760132290172543,0.29456031041895964,0.07523096904052061,0.3545490257083611,-0.03420592185229172,0.07525088289045632,0.07532000580796505,0.2175475211119925,0.2173673167234326,-0.03194211960867308,0.07531777453364574,0.14544247810727085,0.23050254611835563,0.08133314648347183,0.24847603254829637,0.49084385163593003,0.3759218024423198,-0.0374226104716872,0.4308216767342615,0.20278505173834774,-0.03192486257176017,-0.04030245500908174,0.07517761544403108,0.29504571701589394,0.37587696990924857,-0.03191914691404606,0.46829644029086,0.4320322428320944,0.33551756061798726,0.07529935822219293,0.37600746911808375,-0.006008670141583829,0.2870352103195213,0.40090068465811035,0.33555670502373514,0.3759542263854099,0.4438252877405626,0.3384624363352099,0.4181247600034454,0.375662414095308,0.16474459396667326,0.43241777336303683,0.07531953979009624,-0.031918075606305746,0.3546613861094536,0.3932040323301841,0.06872495110311225,0.38020745287502317,0.14429701736395606,0.07531911441968155,0.16473577866305072,0.4293896898195217,0.33554610494011955,0.14544336300138483,0.37434342710668156,0.3956433159478829,0.395645230420325,0.21755749800128504,0.2719501785583624,-0.03194337359330663,0.43202817429882795,0.43205695395323557,0.17250821835778962,0.1454235688478891,-0.04881877998973907,0.14539832944277659,-0.04212171234149614,0.21542858145971644,0.3949179672158299,-0.032367658009005394,0.14543895113813385,-0.05032738202572742,0.09573073589261902,-0.031917925350833785,-0.031965183731089815,0.371462888431279,0.35374794579391533,0.29581753284197515,0.37543309228477434,0.43206596009520537],\"type\":\"scatter3d\"},{\"customdata\":[[\"Vechain\",\"VeChainThor Authority\"],[\"BiblePay\",\"Proof-of-BibleHash\"],[\"Poa Network\",\"Proof-of-Authority\"],[\"Acute Angle Cloud\",\"ECC 256K1\"],[\"Waves\",\"Leased POS\"]],\"hovertemplate\":\"class=%{marker.color}<br>PC 1=%{x}<br>PC 2=%{y}<br>PC 3=%{z}<br>CoinName=%{customdata[0]}<br>Algorithm=%{customdata[1]}<extra></extra>\",\"legendgroup\":\"3\",\"marker\":{\"color\":[3,3,3,3,3],\"coloraxis\":\"coloraxis\",\"symbol\":\"square\"},\"mode\":\"markers\",\"name\":\"3\",\"scene\":\"scene\",\"showlegend\":true,\"x\":[4.394056865391188,-0.19954978365382345,-0.44022085468158473,-0.3490270672273088,-0.38867119524038796],\"y\":[2.2488162637125653,2.552230414057964,5.13861634372633,3.110802504944341,3.445885085391212],\"z\":[10.139418917325044,24.592266582099082,5.8032377354124725,11.436977008641707,10.282055411691708],\"type\":\"scatter3d\"},{\"customdata\":[[\"BitTorrent\",\"TRC10\"]],\"hovertemplate\":\"class=%{marker.color}<br>PC 1=%{x}<br>PC 2=%{y}<br>PC 3=%{z}<br>CoinName=%{customdata[0]}<br>Algorithm=%{customdata[1]}<extra></extra>\",\"legendgroup\":\"2\",\"marker\":{\"color\":[2],\"coloraxis\":\"coloraxis\",\"symbol\":\"x\"},\"mode\":\"markers\",\"name\":\"2\",\"scene\":\"scene\",\"showlegend\":true,\"x\":[34.03002265184269],\"y\":[1.587414105093126],\"z\":[-1.386799071394409],\"type\":\"scatter3d\"}],                        {\"template\":{\"data\":{\"histogram2dcontour\":[{\"type\":\"histogram2dcontour\",\"colorbar\":{\"outlinewidth\":0,\"ticks\":\"\"},\"colorscale\":[[0.0,\"#0d0887\"],[0.1111111111111111,\"#46039f\"],[0.2222222222222222,\"#7201a8\"],[0.3333333333333333,\"#9c179e\"],[0.4444444444444444,\"#bd3786\"],[0.5555555555555556,\"#d8576b\"],[0.6666666666666666,\"#ed7953\"],[0.7777777777777778,\"#fb9f3a\"],[0.8888888888888888,\"#fdca26\"],[1.0,\"#f0f921\"]]}],\"choropleth\":[{\"type\":\"choropleth\",\"colorbar\":{\"outlinewidth\":0,\"ticks\":\"\"}}],\"histogram2d\":[{\"type\":\"histogram2d\",\"colorbar\":{\"outlinewidth\":0,\"ticks\":\"\"},\"colorscale\":[[0.0,\"#0d0887\"],[0.1111111111111111,\"#46039f\"],[0.2222222222222222,\"#7201a8\"],[0.3333333333333333,\"#9c179e\"],[0.4444444444444444,\"#bd3786\"],[0.5555555555555556,\"#d8576b\"],[0.6666666666666666,\"#ed7953\"],[0.7777777777777778,\"#fb9f3a\"],[0.8888888888888888,\"#fdca26\"],[1.0,\"#f0f921\"]]}],\"heatmap\":[{\"type\":\"heatmap\",\"colorbar\":{\"outlinewidth\":0,\"ticks\":\"\"},\"colorscale\":[[0.0,\"#0d0887\"],[0.1111111111111111,\"#46039f\"],[0.2222222222222222,\"#7201a8\"],[0.3333333333333333,\"#9c179e\"],[0.4444444444444444,\"#bd3786\"],[0.5555555555555556,\"#d8576b\"],[0.6666666666666666,\"#ed7953\"],[0.7777777777777778,\"#fb9f3a\"],[0.8888888888888888,\"#fdca26\"],[1.0,\"#f0f921\"]]}],\"heatmapgl\":[{\"type\":\"heatmapgl\",\"colorbar\":{\"outlinewidth\":0,\"ticks\":\"\"},\"colorscale\":[[0.0,\"#0d0887\"],[0.1111111111111111,\"#46039f\"],[0.2222222222222222,\"#7201a8\"],[0.3333333333333333,\"#9c179e\"],[0.4444444444444444,\"#bd3786\"],[0.5555555555555556,\"#d8576b\"],[0.6666666666666666,\"#ed7953\"],[0.7777777777777778,\"#fb9f3a\"],[0.8888888888888888,\"#fdca26\"],[1.0,\"#f0f921\"]]}],\"contourcarpet\":[{\"type\":\"contourcarpet\",\"colorbar\":{\"outlinewidth\":0,\"ticks\":\"\"}}],\"contour\":[{\"type\":\"contour\",\"colorbar\":{\"outlinewidth\":0,\"ticks\":\"\"},\"colorscale\":[[0.0,\"#0d0887\"],[0.1111111111111111,\"#46039f\"],[0.2222222222222222,\"#7201a8\"],[0.3333333333333333,\"#9c179e\"],[0.4444444444444444,\"#bd3786\"],[0.5555555555555556,\"#d8576b\"],[0.6666666666666666,\"#ed7953\"],[0.7777777777777778,\"#fb9f3a\"],[0.8888888888888888,\"#fdca26\"],[1.0,\"#f0f921\"]]}],\"surface\":[{\"type\":\"surface\",\"colorbar\":{\"outlinewidth\":0,\"ticks\":\"\"},\"colorscale\":[[0.0,\"#0d0887\"],[0.1111111111111111,\"#46039f\"],[0.2222222222222222,\"#7201a8\"],[0.3333333333333333,\"#9c179e\"],[0.4444444444444444,\"#bd3786\"],[0.5555555555555556,\"#d8576b\"],[0.6666666666666666,\"#ed7953\"],[0.7777777777777778,\"#fb9f3a\"],[0.8888888888888888,\"#fdca26\"],[1.0,\"#f0f921\"]]}],\"mesh3d\":[{\"type\":\"mesh3d\",\"colorbar\":{\"outlinewidth\":0,\"ticks\":\"\"}}],\"scatter\":[{\"fillpattern\":{\"fillmode\":\"overlay\",\"size\":10,\"solidity\":0.2},\"type\":\"scatter\"}],\"parcoords\":[{\"type\":\"parcoords\",\"line\":{\"colorbar\":{\"outlinewidth\":0,\"ticks\":\"\"}}}],\"scatterpolargl\":[{\"type\":\"scatterpolargl\",\"marker\":{\"colorbar\":{\"outlinewidth\":0,\"ticks\":\"\"}}}],\"bar\":[{\"error_x\":{\"color\":\"#2a3f5f\"},\"error_y\":{\"color\":\"#2a3f5f\"},\"marker\":{\"line\":{\"color\":\"#E5ECF6\",\"width\":0.5},\"pattern\":{\"fillmode\":\"overlay\",\"size\":10,\"solidity\":0.2}},\"type\":\"bar\"}],\"scattergeo\":[{\"type\":\"scattergeo\",\"marker\":{\"colorbar\":{\"outlinewidth\":0,\"ticks\":\"\"}}}],\"scatterpolar\":[{\"type\":\"scatterpolar\",\"marker\":{\"colorbar\":{\"outlinewidth\":0,\"ticks\":\"\"}}}],\"histogram\":[{\"marker\":{\"pattern\":{\"fillmode\":\"overlay\",\"size\":10,\"solidity\":0.2}},\"type\":\"histogram\"}],\"scattergl\":[{\"type\":\"scattergl\",\"marker\":{\"colorbar\":{\"outlinewidth\":0,\"ticks\":\"\"}}}],\"scatter3d\":[{\"type\":\"scatter3d\",\"line\":{\"colorbar\":{\"outlinewidth\":0,\"ticks\":\"\"}},\"marker\":{\"colorbar\":{\"outlinewidth\":0,\"ticks\":\"\"}}}],\"scattermapbox\":[{\"type\":\"scattermapbox\",\"marker\":{\"colorbar\":{\"outlinewidth\":0,\"ticks\":\"\"}}}],\"scatterternary\":[{\"type\":\"scatterternary\",\"marker\":{\"colorbar\":{\"outlinewidth\":0,\"ticks\":\"\"}}}],\"scattercarpet\":[{\"type\":\"scattercarpet\",\"marker\":{\"colorbar\":{\"outlinewidth\":0,\"ticks\":\"\"}}}],\"carpet\":[{\"aaxis\":{\"endlinecolor\":\"#2a3f5f\",\"gridcolor\":\"white\",\"linecolor\":\"white\",\"minorgridcolor\":\"white\",\"startlinecolor\":\"#2a3f5f\"},\"baxis\":{\"endlinecolor\":\"#2a3f5f\",\"gridcolor\":\"white\",\"linecolor\":\"white\",\"minorgridcolor\":\"white\",\"startlinecolor\":\"#2a3f5f\"},\"type\":\"carpet\"}],\"table\":[{\"cells\":{\"fill\":{\"color\":\"#EBF0F8\"},\"line\":{\"color\":\"white\"}},\"header\":{\"fill\":{\"color\":\"#C8D4E3\"},\"line\":{\"color\":\"white\"}},\"type\":\"table\"}],\"barpolar\":[{\"marker\":{\"line\":{\"color\":\"#E5ECF6\",\"width\":0.5},\"pattern\":{\"fillmode\":\"overlay\",\"size\":10,\"solidity\":0.2}},\"type\":\"barpolar\"}],\"pie\":[{\"automargin\":true,\"type\":\"pie\"}]},\"layout\":{\"autotypenumbers\":\"strict\",\"colorway\":[\"#636efa\",\"#EF553B\",\"#00cc96\",\"#ab63fa\",\"#FFA15A\",\"#19d3f3\",\"#FF6692\",\"#B6E880\",\"#FF97FF\",\"#FECB52\"],\"font\":{\"color\":\"#2a3f5f\"},\"hovermode\":\"closest\",\"hoverlabel\":{\"align\":\"left\"},\"paper_bgcolor\":\"white\",\"plot_bgcolor\":\"#E5ECF6\",\"polar\":{\"bgcolor\":\"#E5ECF6\",\"angularaxis\":{\"gridcolor\":\"white\",\"linecolor\":\"white\",\"ticks\":\"\"},\"radialaxis\":{\"gridcolor\":\"white\",\"linecolor\":\"white\",\"ticks\":\"\"}},\"ternary\":{\"bgcolor\":\"#E5ECF6\",\"aaxis\":{\"gridcolor\":\"white\",\"linecolor\":\"white\",\"ticks\":\"\"},\"baxis\":{\"gridcolor\":\"white\",\"linecolor\":\"white\",\"ticks\":\"\"},\"caxis\":{\"gridcolor\":\"white\",\"linecolor\":\"white\",\"ticks\":\"\"}},\"coloraxis\":{\"colorbar\":{\"outlinewidth\":0,\"ticks\":\"\"}},\"colorscale\":{\"sequential\":[[0.0,\"#0d0887\"],[0.1111111111111111,\"#46039f\"],[0.2222222222222222,\"#7201a8\"],[0.3333333333333333,\"#9c179e\"],[0.4444444444444444,\"#bd3786\"],[0.5555555555555556,\"#d8576b\"],[0.6666666666666666,\"#ed7953\"],[0.7777777777777778,\"#fb9f3a\"],[0.8888888888888888,\"#fdca26\"],[1.0,\"#f0f921\"]],\"sequentialminus\":[[0.0,\"#0d0887\"],[0.1111111111111111,\"#46039f\"],[0.2222222222222222,\"#7201a8\"],[0.3333333333333333,\"#9c179e\"],[0.4444444444444444,\"#bd3786\"],[0.5555555555555556,\"#d8576b\"],[0.6666666666666666,\"#ed7953\"],[0.7777777777777778,\"#fb9f3a\"],[0.8888888888888888,\"#fdca26\"],[1.0,\"#f0f921\"]],\"diverging\":[[0,\"#8e0152\"],[0.1,\"#c51b7d\"],[0.2,\"#de77ae\"],[0.3,\"#f1b6da\"],[0.4,\"#fde0ef\"],[0.5,\"#f7f7f7\"],[0.6,\"#e6f5d0\"],[0.7,\"#b8e186\"],[0.8,\"#7fbc41\"],[0.9,\"#4d9221\"],[1,\"#276419\"]]},\"xaxis\":{\"gridcolor\":\"white\",\"linecolor\":\"white\",\"ticks\":\"\",\"title\":{\"standoff\":15},\"zerolinecolor\":\"white\",\"automargin\":true,\"zerolinewidth\":2},\"yaxis\":{\"gridcolor\":\"white\",\"linecolor\":\"white\",\"ticks\":\"\",\"title\":{\"standoff\":15},\"zerolinecolor\":\"white\",\"automargin\":true,\"zerolinewidth\":2},\"scene\":{\"xaxis\":{\"backgroundcolor\":\"#E5ECF6\",\"gridcolor\":\"white\",\"linecolor\":\"white\",\"showbackground\":true,\"ticks\":\"\",\"zerolinecolor\":\"white\",\"gridwidth\":2},\"yaxis\":{\"backgroundcolor\":\"#E5ECF6\",\"gridcolor\":\"white\",\"linecolor\":\"white\",\"showbackground\":true,\"ticks\":\"\",\"zerolinecolor\":\"white\",\"gridwidth\":2},\"zaxis\":{\"backgroundcolor\":\"#E5ECF6\",\"gridcolor\":\"white\",\"linecolor\":\"white\",\"showbackground\":true,\"ticks\":\"\",\"zerolinecolor\":\"white\",\"gridwidth\":2}},\"shapedefaults\":{\"line\":{\"color\":\"#2a3f5f\"}},\"annotationdefaults\":{\"arrowcolor\":\"#2a3f5f\",\"arrowhead\":0,\"arrowwidth\":1},\"geo\":{\"bgcolor\":\"white\",\"landcolor\":\"#E5ECF6\",\"subunitcolor\":\"white\",\"showland\":true,\"showlakes\":true,\"lakecolor\":\"white\"},\"title\":{\"x\":0.05},\"mapbox\":{\"style\":\"light\"}}},\"scene\":{\"domain\":{\"x\":[0.0,1.0],\"y\":[0.0,1.0]},\"xaxis\":{\"title\":{\"text\":\"PC 1\"}},\"yaxis\":{\"title\":{\"text\":\"PC 2\"}},\"zaxis\":{\"title\":{\"text\":\"PC 3\"}}},\"coloraxis\":{\"colorbar\":{\"title\":{\"text\":\"class\"}},\"colorscale\":[[0.0,\"#0d0887\"],[0.1111111111111111,\"#46039f\"],[0.2222222222222222,\"#7201a8\"],[0.3333333333333333,\"#9c179e\"],[0.4444444444444444,\"#bd3786\"],[0.5555555555555556,\"#d8576b\"],[0.6666666666666666,\"#ed7953\"],[0.7777777777777778,\"#fb9f3a\"],[0.8888888888888888,\"#fdca26\"],[1.0,\"#f0f921\"]]},\"legend\":{\"title\":{\"text\":\"class\"},\"tracegroupgap\":0,\"x\":0,\"y\":1},\"margin\":{\"t\":60},\"width\":800},                        {\"responsive\": true}                    ).then(function(){\n",
       "                            \n",
       "var gd = document.getElementById('f7f3b5f5-cdb4-44b2-b46a-0c84b535d09b');\n",
       "var x = new MutationObserver(function (mutations, observer) {{\n",
       "        var display = window.getComputedStyle(gd).display;\n",
       "        if (!display || display === 'none') {{\n",
       "            console.log([gd, 'removed!']);\n",
       "            Plotly.purge(gd);\n",
       "            observer.disconnect();\n",
       "        }}\n",
       "}});\n",
       "\n",
       "// Listen for the removal of the full notebook cells\n",
       "var notebookContainer = gd.closest('#notebook-container');\n",
       "if (notebookContainer) {{\n",
       "    x.observe(notebookContainer, {childList: true});\n",
       "}}\n",
       "\n",
       "// Listen for the clearing of the current output cell\n",
       "var outputEl = gd.closest('.output');\n",
       "if (outputEl) {{\n",
       "    x.observe(outputEl, {childList: true});\n",
       "}}\n",
       "\n",
       "                        })                };                });            </script>        </div>"
      ]
     },
     "metadata": {},
     "output_type": "display_data"
    }
   ],
   "source": [
    "# Creating a 3D-Scatter with the PCA data and the clusters\n",
    "fig = px.scatter_3d(\n",
    "   clustered_df,\n",
    "    x=\"PC 1\",\n",
    "    y=\"PC 2\",\n",
    "    z=\"PC 3\",\n",
    "    color=\"class\",\n",
    "    symbol=\"class\",\n",
    "    hover_data= ['CoinName', 'Algorithm'],\n",
    "    width=800,\n",
    ")\n",
    "fig.update_layout(legend=dict(x=0, y=1))\n",
    "fig.show()\n"
   ]
  },
  {
   "cell_type": "code",
   "execution_count": 76,
   "metadata": {},
   "outputs": [
    {
     "data": {},
     "metadata": {},
     "output_type": "display_data"
    },
    {
     "data": {
      "application/vnd.holoviews_exec.v0+json": "",
      "text/html": [
       "<div id='1120'>\n",
       "\n",
       "\n",
       "\n",
       "\n",
       "\n",
       "  <div class=\"bk-root\" id=\"dce16a88-1728-4fa6-9502-ee18b341af7f\" data-root-id=\"1120\"></div>\n",
       "</div>\n",
       "<script type=\"application/javascript\">(function(root) {\n",
       "  function embed_document(root) {\n",
       "    var docs_json = {\"a0e1567a-2534-46a5-8220-77079674eca3\":{\"defs\":[{\"extends\":null,\"module\":null,\"name\":\"ReactiveHTML1\",\"overrides\":[],\"properties\":[]},{\"extends\":null,\"module\":null,\"name\":\"FlexBox1\",\"overrides\":[],\"properties\":[{\"default\":\"flex-start\",\"kind\":null,\"name\":\"align_content\"},{\"default\":\"flex-start\",\"kind\":null,\"name\":\"align_items\"},{\"default\":\"row\",\"kind\":null,\"name\":\"flex_direction\"},{\"default\":\"wrap\",\"kind\":null,\"name\":\"flex_wrap\"},{\"default\":\"flex-start\",\"kind\":null,\"name\":\"justify_content\"}]},{\"extends\":null,\"module\":null,\"name\":\"GridStack1\",\"overrides\":[],\"properties\":[{\"default\":\"warn\",\"kind\":null,\"name\":\"mode\"},{\"default\":null,\"kind\":null,\"name\":\"ncols\"},{\"default\":null,\"kind\":null,\"name\":\"nrows\"},{\"default\":true,\"kind\":null,\"name\":\"allow_resize\"},{\"default\":true,\"kind\":null,\"name\":\"allow_drag\"},{\"default\":[],\"kind\":null,\"name\":\"state\"}]},{\"extends\":null,\"module\":null,\"name\":\"click1\",\"overrides\":[],\"properties\":[{\"default\":\"\",\"kind\":null,\"name\":\"terminal_output\"},{\"default\":\"\",\"kind\":null,\"name\":\"debug_name\"},{\"default\":0,\"kind\":null,\"name\":\"clears\"}]},{\"extends\":null,\"module\":null,\"name\":\"TemplateActions1\",\"overrides\":[],\"properties\":[{\"default\":0,\"kind\":null,\"name\":\"open_modal\"},{\"default\":0,\"kind\":null,\"name\":\"close_modal\"}]},{\"extends\":null,\"module\":null,\"name\":\"MaterialTemplateActions1\",\"overrides\":[],\"properties\":[{\"default\":0,\"kind\":null,\"name\":\"open_modal\"},{\"default\":0,\"kind\":null,\"name\":\"close_modal\"}]}],\"roots\":{\"references\":[{\"attributes\":{},\"id\":\"1140\",\"type\":\"StringEditor\"},{\"attributes\":{\"margin\":[5,5,5,5],\"name\":\"HSpacer01850\",\"sizing_mode\":\"stretch_width\"},\"id\":\"1121\",\"type\":\"Spacer\"},{\"attributes\":{\"editor\":{\"id\":\"1135\"},\"field\":\"ProofType\",\"formatter\":{\"id\":\"1134\"},\"title\":\"ProofType\"},\"id\":\"1136\",\"type\":\"TableColumn\"},{\"attributes\":{},\"id\":\"1125\",\"type\":\"StringEditor\"},{\"attributes\":{},\"id\":\"1139\",\"type\":\"StringFormatter\"},{\"attributes\":{\"columns\":[{\"id\":\"1126\"},{\"id\":\"1131\"},{\"id\":\"1136\"},{\"id\":\"1141\"},{\"id\":\"1146\"},{\"id\":\"1151\"}],\"height\":300,\"reorderable\":false,\"source\":{\"id\":\"1122\"},\"view\":{\"id\":\"1156\"},\"width\":700},\"id\":\"1154\",\"type\":\"DataTable\"},{\"attributes\":{\"editor\":{\"id\":\"1125\"},\"field\":\"CoinName\",\"formatter\":{\"id\":\"1124\"},\"title\":\"CoinName\"},\"id\":\"1126\",\"type\":\"TableColumn\"},{\"attributes\":{},\"id\":\"1150\",\"type\":\"IntEditor\"},{\"attributes\":{\"editor\":{\"id\":\"1150\"},\"field\":\"class\",\"formatter\":{\"id\":\"1149\"},\"title\":\"class\"},\"id\":\"1151\",\"type\":\"TableColumn\"},{\"attributes\":{},\"id\":\"1129\",\"type\":\"StringFormatter\"},{\"attributes\":{\"source\":{\"id\":\"1122\"}},\"id\":\"1156\",\"type\":\"CDSView\"},{\"attributes\":{\"editor\":{\"id\":\"1145\"},\"field\":\"TotalCoinsMined\",\"formatter\":{\"id\":\"1144\"},\"title\":\"TotalCoinsMined\"},\"id\":\"1146\",\"type\":\"TableColumn\"},{\"attributes\":{},\"id\":\"1130\",\"type\":\"StringEditor\"},{\"attributes\":{},\"id\":\"1123\",\"type\":\"Selection\"},{\"attributes\":{\"editor\":{\"id\":\"1140\"},\"field\":\"TotalCoinSupply\",\"formatter\":{\"id\":\"1139\"},\"title\":\"TotalCoinSupply\"},\"id\":\"1141\",\"type\":\"TableColumn\"},{\"attributes\":{\"format\":\"0,0.0[00000]\"},\"id\":\"1144\",\"type\":\"NumberFormatter\"},{\"attributes\":{},\"id\":\"1145\",\"type\":\"NumberEditor\"},{\"attributes\":{},\"id\":\"1157\",\"type\":\"UnionRenderers\"},{\"attributes\":{\"children\":[{\"id\":\"1121\"},{\"id\":\"1154\"},{\"id\":\"1161\"}],\"margin\":[0,0,0,0],\"name\":\"Row01846\",\"tags\":[\"embedded\"]},\"id\":\"1120\",\"type\":\"Row\"},{\"attributes\":{},\"id\":\"1135\",\"type\":\"StringEditor\"},{\"attributes\":{\"editor\":{\"id\":\"1130\"},\"field\":\"Algorithm\",\"formatter\":{\"id\":\"1129\"},\"title\":\"Algorithm\"},\"id\":\"1131\",\"type\":\"TableColumn\"},{\"attributes\":{},\"id\":\"1149\",\"type\":\"NumberFormatter\"},{\"attributes\":{\"margin\":[5,5,5,5],\"name\":\"HSpacer01851\",\"sizing_mode\":\"stretch_width\"},\"id\":\"1161\",\"type\":\"Spacer\"},{\"attributes\":{},\"id\":\"1134\",\"type\":\"StringFormatter\"},{\"attributes\":{\"data\":{\"Algorithm\":[\"Scrypt\",\"Scrypt\",\"X13\",\"SHA-256\",\"Ethash\",\"Scrypt\",\"X11\",\"CryptoNight-V7\",\"Ethash\",\"Equihash\",\"SHA-512\",\"Multiple\",\"SHA-256\",\"SHA-256\",\"Scrypt\",\"X15\",\"X11\",\"Scrypt\",\"Scrypt\",\"Scrypt\",\"Multiple\",\"Scrypt\",\"SHA-256\",\"Scrypt\",\"Scrypt\",\"Scrypt\",\"Quark\",\"Groestl\",\"Scrypt\",\"Scrypt\",\"Scrypt\",\"Scrypt\",\"Scrypt\",\"X11\",\"Scrypt\",\"Groestl\",\"Multiple\",\"SHA-256\",\"Scrypt\",\"Scrypt\",\"Scrypt\",\"Scrypt\",\"PoS\",\"Scrypt\",\"Scrypt\",\"NeoScrypt\",\"Scrypt\",\"Scrypt\",\"Scrypt\",\"Scrypt\",\"X11\",\"Scrypt\",\"X11\",\"SHA-256\",\"Scrypt\",\"Scrypt\",\"Scrypt\",\"SHA3\",\"Scrypt\",\"HybridScryptHash256\",\"Scrypt\",\"Scrypt\",\"SHA-256\",\"Scrypt\",\"X13\",\"Scrypt\",\"SHA-256\",\"Scrypt\",\"X13\",\"NeoScrypt\",\"Scrypt\",\"Scrypt\",\"Scrypt\",\"Scrypt\",\"Scrypt\",\"Scrypt\",\"X11\",\"X11\",\"SHA-256\",\"Multiple\",\"SHA-256\",\"PHI1612\",\"X11\",\"SHA-256\",\"SHA-256\",\"SHA-256\",\"X11\",\"Scrypt\",\"Scrypt\",\"Scrypt\",\"Scrypt\",\"Lyra2REv2\",\"Scrypt\",\"X11\",\"Multiple\",\"SHA-256\",\"X13\",\"Scrypt\",\"CryptoNight\",\"CryptoNight\",\"Shabal256\",\"Counterparty\",\"Scrypt\",\"SHA-256\",\"Groestl\",\"Scrypt\",\"Scrypt\",\"Scrypt\",\"X13\",\"Scrypt\",\"Scrypt\",\"Scrypt\",\"Scrypt\",\"X13\",\"Scrypt\",\"Stanford Folding\",\"X11\",\"Multiple\",\"QuBit\",\"Scrypt\",\"Scrypt\",\"Scrypt\",\"M7 POW\",\"Scrypt\",\"SHA-256\",\"Scrypt\",\"X11\",\"SHA3\",\"X11\",\"Lyra2RE\",\"SHA-256\",\"QUAIT\",\"X11\",\"X11\",\"Scrypt\",\"Scrypt\",\"Scrypt\",\"Ethash\",\"X13\",\"Blake2b\",\"SHA-256\",\"X15\",\"X11\",\"SHA-256\",\"BLAKE256\",\"Scrypt\",\"1GB AES Pattern Search\",\"SHA-256\",\"X11\",\"Scrypt\",\"SHA-256\",\"SHA-256\",\"NIST5\",\"Scrypt\",\"Scrypt\",\"X11\",\"Dagger\",\"Scrypt\",\"X11GOST\",\"X11\",\"Scrypt\",\"SHA-256\",\"Scrypt\",\"PoS\",\"Scrypt\",\"X11\",\"X11\",\"SHA-256\",\"SHA-256\",\"NIST5\",\"X11\",\"Scrypt\",\"POS 3.0\",\"Scrypt\",\"Scrypt\",\"Scrypt\",\"X13\",\"X11\",\"X11\",\"Equihash\",\"X11\",\"Scrypt\",\"CryptoNight\",\"SHA-256\",\"SHA-256\",\"X11\",\"Scrypt\",\"Multiple\",\"Scrypt\",\"Scrypt\",\"Scrypt\",\"SHA-256\",\"Scrypt\",\"Scrypt\",\"SHA-256D\",\"PoS\",\"Scrypt\",\"X11\",\"Lyra2Z\",\"PoS\",\"X13\",\"X14\",\"PoS\",\"SHA-256D\",\"Ethash\",\"Equihash\",\"DPoS\",\"X11\",\"Scrypt\",\"X11\",\"X13\",\"X11\",\"PoS\",\"Scrypt\",\"Scrypt\",\"X11\",\"PoS\",\"X11\",\"SHA-256\",\"Scrypt\",\"X11\",\"Scrypt\",\"Scrypt\",\"X11\",\"CryptoNight\",\"Scrypt\",\"Scrypt\",\"Scrypt\",\"Scrypt\",\"Quark\",\"QuBit\",\"Scrypt\",\"CryptoNight\",\"Lyra2RE\",\"Scrypt\",\"SHA-256\",\"X11\",\"Scrypt\",\"X11\",\"Scrypt\",\"CryptoNight-V7\",\"Scrypt\",\"Scrypt\",\"Scrypt\",\"X13\",\"X11\",\"Equihash\",\"Scrypt\",\"Scrypt\",\"Lyra2RE\",\"Scrypt\",\"Dagger-Hashimoto\",\"X11\",\"Blake2S\",\"X11\",\"Scrypt\",\"PoS\",\"X11\",\"NIST5\",\"PoS\",\"X11\",\"Scrypt\",\"Scrypt\",\"Scrypt\",\"SHA-256\",\"X11\",\"Scrypt\",\"Scrypt\",\"SHA-256\",\"PoS\",\"Scrypt\",\"X15\",\"SHA-256\",\"Scrypt\",\"POS 3.0\",\"CryptoNight-V7\",\"536\",\"Argon2d\",\"Blake2b\",\"Cloverhash\",\"CryptoNight\",\"NIST5\",\"X11\",\"NIST5\",\"Skein\",\"Scrypt\",\"X13\",\"Scrypt\",\"X11\",\"X11\",\"Scrypt\",\"CryptoNight\",\"X13\",\"Time Travel\",\"Scrypt\",\"Keccak\",\"SkunkHash v2 Raptor\",\"X11\",\"Skein\",\"SHA-256\",\"X11\",\"Scrypt\",\"VeChainThor Authority\",\"Scrypt\",\"PoS\",\"Scrypt\",\"Scrypt\",\"Scrypt\",\"Scrypt\",\"Scrypt\",\"Scrypt\",\"Scrypt\",\"CryptoNight\",\"SHA-512\",\"Ouroboros\",\"X11\",\"Equihash\",\"NeoScrypt\",\"X11\",\"Scrypt\",\"NeoScrypt\",\"Lyra2REv2\",\"Equihash\",\"Scrypt\",\"SHA-256\",\"NIST5\",\"PHI1612\",\"Dagger\",\"Scrypt\",\"Quark\",\"Scrypt\",\"POS 2.0\",\"Scrypt\",\"SHA-256\",\"X11\",\"NeoScrypt\",\"Ethash\",\"NeoScrypt\",\"X11\",\"DPoS\",\"NIST5\",\"X13\",\"Multiple\",\"Scrypt\",\"CryptoNight\",\"CryptoNight\",\"Ethash\",\"NIST5\",\"Quark\",\"X11\",\"CryptoNight-V7\",\"Scrypt\",\"Scrypt\",\"Scrypt\",\"X11\",\"BLAKE256\",\"X11\",\"NeoScrypt\",\"Quark\",\"NeoScrypt\",\"Scrypt\",\"Scrypt\",\"Scrypt\",\"X11\",\"X11\",\"SHA-256\",\"C11\",\"POS 3.0\",\"Ethash\",\"Scrypt\",\"CryptoNight\",\"SkunkHash\",\"Scrypt\",\"CryptoNight\",\"Scrypt\",\"Dagger\",\"Lyra2REv2\",\"X13\",\"Proof-of-BibleHash\",\"SHA-256 + Hive\",\"Scrypt\",\"Scrypt\",\"X11\",\"C11\",\"Proof-of-Authority\",\"X11\",\"XEVAN\",\"Scrypt\",\"VBFT\",\"Ethash\",\"CryptoNight\",\"Scrypt\",\"IMesh\",\"NIST5\",\"Scrypt\",\"Scrypt\",\"Equihash\",\"Scrypt\",\"Lyra2Z\",\"Green Protocol\",\"PoS\",\"Scrypt\",\"Semux BFT consensus\",\"X11\",\"Quark\",\"PoS\",\"CryptoNight\",\"X16R\",\"Scrypt\",\"NIST5\",\"Lyra2RE\",\"XEVAN\",\"Tribus\",\"Scrypt\",\"Lyra2Z\",\"CryptoNight\",\"CryptoNight Heavy\",\"CryptoNight\",\"Scrypt\",\"Scrypt\",\"Jump Consistent Hash\",\"SHA-256D\",\"CryptoNight\",\"Scrypt\",\"X15\",\"Scrypt\",\"Quark\",\"SHA-256\",\"DPoS\",\"X16R\",\"HMQ1725\",\"X11\",\"X16R\",\"Quark\",\"Quark\",\"Scrypt\",\"Lyra2REv2\",\"Quark\",\"Scrypt\",\"Scrypt\",\"CryptoNight-V7\",\"Cryptonight-GPU\",\"XEVAN\",\"CryptoNight Heavy\",\"X11\",\"X11\",\"Scrypt\",\"PoS\",\"SHA-256\",\"Keccak\",\"X11\",\"X11\",\"Scrypt\",\"SHA-512\",\"X16R\",\"ECC 256K1\",\"Equihash\",\"XEVAN\",\"Lyra2Z\",\"SHA-256\",\"XEVAN\",\"X11\",\"CryptoNight\",\"Quark\",\"Blake\",\"Blake\",\"Equihash\",\"Exosis\",\"Scrypt\",\"Scrypt\",\"Equihash\",\"Quark\",\"Equihash\",\"Quark\",\"Scrypt\",\"QuBit\",\"X11\",\"Scrypt\",\"XEVAN\",\"SHA-256D\",\"X11\",\"SHA-256\",\"X13\",\"SHA-256\",\"X11\",\"DPoS\",\"Scrypt\",\"Scrypt\",\"X11\",\"NeoScrypt\",\"Scrypt\",\"Blake\",\"Scrypt\",\"SHA-256\",\"Scrypt\",\"X11\",\"Scrypt\",\"Scrypt\",\"SHA-256\",\"X11\",\"SHA-256\",\"Scrypt\",\"Scrypt\",\"Scrypt\",\"Groestl\",\"X11\",\"Scrypt\",\"PoS\",\"Scrypt\",\"Scrypt\",\"X11\",\"SHA-256\",\"DPoS\",\"Scrypt\",\"Scrypt\",\"NeoScrypt\",\"Multiple\",\"X13\",\"Equihash+Scrypt\",\"DPoS\",\"Ethash\",\"DPoS\",\"SHA-256\",\"Leased POS\",\"PoS\",\"TRC10\",\"PoS\",\"SHA-256\",\"Scrypt\",\"CryptoNight\",\"Equihash\",\"Scrypt\"],\"CoinName\":[\"42 Coin\",\"404Coin\",\"EliteCoin\",\"Bitcoin\",\"Ethereum\",\"Litecoin\",\"Dash\",\"Monero\",\"Ethereum Classic\",\"ZCash\",\"Bitshares\",\"DigiByte\",\"BitcoinDark\",\"PayCoin\",\"ProsperCoin\",\"KoboCoin\",\"Spreadcoin\",\"Argentum\",\"Aurora Coin\",\"BlueCoin\",\"MyriadCoin\",\"MoonCoin\",\"ZetaCoin\",\"SexCoin\",\"Quatloo\",\"EnergyCoin\",\"QuarkCoin\",\"Riecoin\",\"Digitalcoin \",\"BitBar\",\"Catcoin\",\"CryptoBullion\",\"CannaCoin\",\"CryptCoin\",\"CasinoCoin\",\"Diamond\",\"Verge\",\"DevCoin\",\"EarthCoin\",\"E-Gulden\",\"Einsteinium\",\"Emerald\",\"Exclusive Coin\",\"FlutterCoin\",\"Franko\",\"FeatherCoin\",\"GrandCoin\",\"GlobalCoin\",\"GoldCoin\",\"HoboNickels\",\"HyperStake\",\"Infinite Coin\",\"IOCoin\",\"IXcoin\",\"KrugerCoin\",\"LuckyCoin\",\"Litebar \",\"MaxCoin\",\"MegaCoin\",\"MediterraneanCoin\",\"MintCoin\",\"MinCoin\",\"MazaCoin\",\"Nautilus Coin\",\"NavCoin\",\"NobleCoin\",\"Namecoin\",\"NyanCoin\",\"OpalCoin\",\"Orbitcoin\",\"PotCoin\",\"PhoenixCoin\",\"Reddcoin\",\"RonPaulCoin\",\"StableCoin\",\"SmartCoin\",\"SuperCoin\",\"SyncCoin\",\"SysCoin\",\"TeslaCoin\",\"TigerCoin\",\"TittieCoin\",\"TorCoin\",\"TerraCoin\",\"UnbreakableCoin\",\"Unobtanium\",\"UroCoin\",\"UnitaryStatus Dollar\",\"UltraCoin\",\"ViaCoin\",\"VeriCoin\",\"Vertcoin\",\"WorldCoin\",\"X11 Coin\",\"Crypti\",\"JouleCoin\",\"StealthCoin\",\"ZCC Coin\",\"ByteCoin\",\"DigitalNote \",\"BurstCoin\",\"StorjCoin\",\"MonaCoin\",\"Neutron\",\"FairCoin\",\"Gulden\",\"RubyCoin\",\"PesetaCoin\",\"Kore\",\"Wild Beast Coin\",\"Dnotes\",\"Flo\",\"8BIT Coin\",\"Sativa Coin\",\"ArtByte\",\"Folding Coin\",\"Ucoin\",\"Unitus\",\"CypherPunkCoin\",\"OmniCron\",\"Vtorrent\",\"GreenCoin\",\"Cryptonite\",\"MasterCoin\",\"SoonCoin\",\"1Credit\",\"IslaCoin\",\"Nexus\",\"MarsCoin \",\"Crypto\",\"Anarchists Prime\",\"Droidz\",\"BowsCoin\",\"Squall Coin\",\"Song Coin\",\"BitZeny\",\"Diggits\",\"Expanse\",\"Paycon\",\"Siacoin\",\"Emercoin\",\"EverGreenCoin\",\"MindCoin\",\"I0coin\",\"Decred\",\"Revolution VR\",\"HOdlcoin\",\"EDRCoin\",\"Hitcoin\",\"Gamecredits\",\"DubaiCoin\",\"CarpeDiemCoin\",\"PWR Coin\",\"BillaryCoin\",\"GPU Coin\",\"Adzcoin\",\"SoilCoin\",\"YoCoin\",\"SibCoin\",\"EuropeCoin\",\"ZeitCoin\",\"SwingCoin\",\"SafeExchangeCoin\",\"Nebuchadnezzar\",\"Francs\",\"BolivarCoin\",\"Ratecoin\",\"Revenu\",\"Clockcoin\",\"VIP Tokens\",\"BitSend\",\"Omni\",\"Let it Ride\",\"PutinCoin\",\"iBankCoin\",\"Frankywillcoin\",\"MudraCoin\",\"PizzaCoin\",\"Lutetium Coin\",\"Komodo\",\"GoldBlocks\",\"CarterCoin\",\"Karbo\",\"BitTokens\",\"ZayedCoin\",\"MustangCoin\",\"ZoneCoin\",\"Circuits of Value\",\"RootCoin\",\"DopeCoin\",\"BitCurrency\",\"DollarCoin\",\"Swiscoin\",\"Shilling\",\"BuzzCoin\",\"Opair\",\"PesoBit\",\"Halloween Coin\",\"ZCoin\",\"CoffeeCoin\",\"RoyalCoin\",\"GanjaCoin V2\",\"TeamUP\",\"LanaCoin\",\"Elementrem\",\"ZClassic\",\"ARK\",\"InsaneCoin\",\"KiloCoin\",\"ArtexCoin\",\"EmberCoin\",\"XenixCoin\",\"FreeCoin\",\"PLNCoin\",\"AquariusCoin\",\"Kurrent\",\"Creatio\",\"Eternity\",\"Eurocoin\",\"BitcoinFast\",\"Stakenet\",\"BitConnect Coin\",\"MoneyCoin\",\"Enigma\",\"Cannabis Industry Coin\",\"Russiacoin\",\"PandaCoin\",\"GameUnits\",\"GAKHcoin\",\"Allsafe\",\"LiteCreed\",\"OsmiumCoin\",\"Bikercoins\",\"HexxCoin\",\"Klingon Empire Darsek\",\"Internet of People\",\"KushCoin\",\"Printerium\",\"PacCoin\",\"Impeach\",\"Citadel\",\"Zilbercoin\",\"FirstCoin\",\"BeaverCoin\",\"FindCoin\",\"VaultCoin\",\"Zero\",\"OpenChat\",\"Canada eCoin\",\"Zoin\",\"RenosCoin\",\"DubaiCoin\",\"VirtacoinPlus\",\"TajCoin\",\"Impact\",\"EB3coin\",\"Atmos\",\"HappyCoin\",\"Coinonat\",\"MacronCoin\",\"Condensate\",\"Independent Money System\",\"ArgusCoin\",\"LomoCoin\",\"ProCurrency\",\"GoldReserve\",\"BenjiRolls\",\"GrowthCoin\",\"ILCoin\",\"Phreak\",\"Degas Coin\",\"HTML5 Coin\",\"Ultimate Secure Cash\",\"EquiTrader\",\"QTUM\",\"Quantum Resistant Ledger\",\"Espers\",\"Dynamic\",\"Nano\",\"ChanCoin\",\"Dinastycoin\",\"Denarius\",\"DigitalPrice\",\"Virta Unique Coin\",\"Bitcoin Planet\",\"Unify\",\"BritCoin\",\"SocialCoin\",\"ArcticCoin\",\"DAS\",\"Linda\",\"LeviarCoin\",\"DeepOnion\",\"Bitcore\",\"gCn Coin\",\"SmartCash\",\"Signatum\",\"Onix\",\"Cream\",\"Bitcoin Cash\",\"Monoeci\",\"Draftcoin\",\"Vechain\",\"Sojourn Coin\",\"Stakecoin\",\"NewYorkCoin\",\"FrazCoin\",\"Kronecoin\",\"AdCoin\",\"Linx\",\"CoinonatX\",\"Ethereum Dark\",\"Sumokoin\",\"Obsidian\",\"Cardano\",\"Regalcoin\",\"BitcoinZ\",\"TrezarCoin\",\"Elements\",\"TerraNovaCoin\",\"VIVO Coin\",\"Rupee\",\"Bitcoin Gold\",\"WomenCoin\",\"Theresa May Coin\",\"NamoCoin\",\"LUXCoin\",\"Pirl\",\"Xios\",\"Bitcloud 2.0\",\"eBoost\",\"KekCoin\",\"BlackholeCoin\",\"Infinity Economics\",\"Pura\",\"Innova\",\"Ellaism\",\"GoByte\",\"Magnet\",\"Lamden Tau\",\"Electra\",\"Bitcoin Diamond\",\"SHIELD\",\"Cash & Back Coin\",\"UltraNote\",\"BitCoal\",\"DaxxCoin\",\"Bulwark\",\"Kalkulus\",\"AC3\",\"Lethean\",\"GermanCoin\",\"LiteCoin Ultra\",\"PopularCoin\",\"PhantomX\",\"Photon\",\"Sucre\",\"SparksPay\",\"Digiwage\",\"GunCoin\",\"IrishCoin\",\"Trollcoin\",\"Litecoin Plus\",\"Monkey Project\",\"Pioneer Coin\",\"UnitedBitcoin\",\"Interzone\",\"TokenPay\",\"1717 Masonic Commemorative Token\",\"My Big Coin\",\"TurtleCoin\",\"MUNcoin\",\"Unified Society USDEX\",\"Niobio Cash\",\"ShareChain\",\"Travelflex\",\"KREDS\",\"Tokyo Coin\",\"BiblePay\",\"LitecoinCash\",\"BitFlip\",\"LottoCoin\",\"Crypto Improvement Fund\",\"Stipend\",\"Poa Network\",\"Pushi\",\"Ellerium\",\"Velox\",\"Ontology\",\"Callisto Network\",\"BitTube\",\"Poseidon\",\"Aidos Kuneen\",\"Bitspace\",\"Briacoin\",\"Ignition\",\"Bitrolium\",\"MedicCoin\",\"Alpenschillling\",\"Bitcoin Green\",\"Deviant Coin\",\"Abjcoin\",\"Semux\",\"FuturoCoin\",\"Carebit\",\"Zealium\",\"Monero Classic\",\"Proton\",\"iDealCash\",\"Jumpcoin\",\"Infinex\",\"Bitcoin Incognito\",\"KEYCO\",\"HollyWoodCoin\",\"GINcoin\",\"PlatinCoin\",\"Loki\",\"Newton Coin\",\"Swisscoin\",\"Xt3ch\",\"MassGrid\",\"TheVig\",\"PluraCoin\",\"EmaratCoin\",\"Dekado\",\"Lynx\",\"Poseidon Quark\",\"BitcoinWSpectrum\",\"Muse\",\"Motion\",\"PlusOneCoin\",\"Axe\",\"Trivechain\",\"Dystem\",\"Giant\",\"Peony Coin\",\"Absolute Coin\",\"Vitae\",\"HexCoin\",\"TPCash\",\"Webchain\",\"Ryo\",\"Urals Coin\",\"Qwertycoin\",\"ARENON\",\"EUNO\",\"MMOCoin\",\"Ketan\",\"Project Pai\",\"XDNA\",\"PAXEX\",\"Azart\",\"ThunderStake\",\"Kcash\",\"Xchange\",\"Acute Angle Cloud\",\"CrypticCoin\",\"Bettex coin\",\"Actinium\",\"Bitcoin SV\",\"BitMoney\",\"Junson Ming Chan Coin\",\"FREDEnergy\",\"HerbCoin\",\"Universal Molecule\",\"Lithium\",\"PirateCash\",\"Exosis\",\"Block-Logic\",\"Oduwa\",\"Beam\",\"Galilel\",\"Bithereum\",\"Crypto Sports\",\"Credit\",\"SLICE\",\"Dash Platinum\",\"Nasdacoin\",\"Beetle Coin\",\"Titan Coin\",\"Award\",\"BLAST\",\"Bitcoin Rhodium\",\"GlobalToken\",\"Insane Coin\",\"ALAX\",\"LiteDoge\",\"SolarCoin\",\"TruckCoin\",\"UFO Coin\",\"OrangeCoin\",\"BlakeCoin\",\"BitstarCoin\",\"NeosCoin\",\"HyperCoin\",\"PinkCoin\",\"Crypto Escudo\",\"AudioCoin\",\"IncaKoin\",\"Piggy Coin\",\"Crown Coin\",\"Genstake\",\"SmileyCoin\",\"XiaoMiCoin\",\"Groestlcoin\",\"CapriCoin\",\" ClubCoin\",\"Radium\",\"Bata\",\"Pakcoin\",\"Creditbit \",\"OKCash\",\"Lisk\",\"HiCoin\",\"WhiteCoin\",\"FriendshipCoin\",\"JoinCoin\",\"Triangles Coin\",\"Vollar\",\"EOS\",\"Reality Clash\",\"Oxycoin\",\"TigerCash\",\"Waves\",\"Particl\",\"BitTorrent\",\"Nxt\",\"ZEPHYR\",\"Gapcoin\",\"Beldex\",\"Horizen\",\"BitcoinPlus\"],\"ProofType\":[\"PoW/PoS\",\"PoW/PoS\",\"PoW/PoS\",\"PoW\",\"PoW\",\"PoW\",\"PoW/PoS\",\"PoW\",\"PoW\",\"PoW\",\"PoS\",\"PoW\",\"PoW/PoS\",\"PoS\",\"PoW\",\"PoW/PoS\",\"PoW\",\"PoW\",\"PoW/PoS\",\"PoW/PoS\",\"PoW\",\"PoW\",\"PoW\",\"PoW\",\"PoW\",\"PoW/PoS\",\"PoW\",\"PoW\",\"PoW\",\"PoW/PoS\",\"PoW\",\"PoW/PoS\",\"PoW\",\"PoW\",\"PoC\",\"PoW/PoS\",\"PoW\",\"PoW\",\"PoW\",\"PoW\",\"PoW\",\"PoW\",\"PoS\",\"PoS/PoW/PoT\",\"PoW\",\"PoW\",\"PoW\",\"PoW\",\"PoW\",\"PoW/PoS\",\"PoS\",\"PoW\",\"PoW/PoS\",\"PoW\",\"PoW\",\"PoW\",\"PoW\",\"PoW/PoS\",\"PoW\",\"PoW\",\"PoS\",\"PoW\",\"PoW/PoS\",\"PoS\",\"PoW/PoS\",\"PoW\",\"PoW\",\"PoW\",\"PoW/PoS\",\"PoW/PoS\",\"PoW/PoS\",\"PoW/PoS\",\"PoW/PoS\",\"PoW\",\"PoW\",\"PoW\",\"PoS\",\"PoW/PoS\",\"PoW\",\"PoS\",\"PoW\",\"PoS\",\"PoW/PoS\",\"PoW\",\"PoW\",\"PoW\",\"PoW\",\"PoW/PoS\",\"PoW/PoS\",\"PoW\",\"PoST\",\"PoW\",\"PoW\",\"PoW/PoS\",\"PoS\",\"PoW\",\"PoW/PoS\",\"PoW/PoS\",\"PoW\",\"PoW\",\"PoC\",\"PoS\",\"PoW\",\"PoW/PoS\",\"PoW/PoS\",\"PoW\",\"PoS\",\"PoW\",\"PoW/PoS\",\"PoW\",\"PoS\",\"PoW\",\"PoW/PoS\",\"PoW/PoS\",\"PoW\",\"PoW\",\"PoS\",\"PoW\",\"PoW\",\"PoW\",\"PoW/PoS\",\"PoW\",\"PoW\",\"PoW\",\"PoW\",\"PoW\",\"PoW/PoS\",\"PoW/nPoS\",\"PoW\",\"PoW\",\"PoW\",\"PoW/PoS\",\"PoW\",\"PoS/PoW\",\"PoW\",\"PoW\",\"PoS\",\"PoW\",\"PoW/PoS\",\"PoW\",\"PoW/PoS\",\"PoW/PoS\",\"PoW\",\"PoW\",\"PoW/PoS\",\"PoW\",\"PoW\",\"PoW/PoS\",\"PoW/PoS\",\"PoW\",\"PoW/PoS\",\"PoW\",\"PoW/PoS\",\"PoW/PoS\",\"PoS\",\"PoW\",\"PoW\",\"PoW\",\"PoW\",\"PoW/PoS\",\"PoS\",\"PoW/PoS\",\"PoC\",\"PoS\",\"PoW\",\"PoW\",\"PoW/PoS\",\"PoW/PoS\",\"PoW/PoS\",\"PoW/PoS\",\"PoW/PoS\",\"PoW\",\"PoS\",\"PoW/PoS\",\"PoW/PoS\",\"PoW/PoS\",\"PoS\",\"PoW\",\"PoS\",\"dPoW/PoW\",\"PoW/PoS\",\"PoW/PoS\",\"PoW\",\"PoW/PoS\",\"PoW\",\"PoW/PoS\",\"PoW/PoS\",\"PoW\",\"PoW/PoS\",\"PoW\",\"PoS\",\"PoW\",\"PoW/PoW\",\"PoW\",\"PoW/PoS\",\"PoS\",\"PoW/PoS\",\"PoW/PoS\",\"PoW\",\"PoS\",\"PoS\",\"PoW/PoS\",\"PoS\",\"PoW/PoS\",\"PoW\",\"PoW\",\"DPoS\",\"PoW/PoS\",\"PoW\",\"PoW\",\"PoW/PoS\",\"PoW/PoS\",\"PoS\",\"PoW/PoS\",\"PoW/PoS\",\"PoW\",\"PoS\",\"PoW/PoS\",\"PoW/PoS\",\"PoW/PoS\",\"TPoS\",\"PoW/PoS\",\"PoW/PoS\",\"PoW/PoS\",\"PoW\",\"PoW/PoS\",\"PoS\",\"PoW/PoS\",\"PoW/PoS\",\"PoS\",\"PoW/PoS\",\"PoW\",\"PoW\",\"PoW\",\"PoW/PoS\",\"PoW/PoS\",\"PoW/PoS\",\"PoW/PoS\",\"PoW\",\"PoW/PoS\",\"PoW\",\"PoS\",\"PoW/PoS \",\"PoW\",\"PoS\",\"PoW\",\"PoW\",\"PoW/PoS\",\"PoW\",\"PoW\",\"PoS\",\"PoW\",\"PoW/PoS\",\"PoW/PoS\",\"PoW/PoS\",\"PoW\",\"PoS\",\"PoW/PoS\",\"PoW\",\"PoS\",\"PoW/PoS\",\"PoW/PoS\",\"PoW/PoS\",\"PoW/PoS\",\"PoS\",\"PoW/PoS\",\"PoW\",\"PoS\",\"PoW\",\"PoS\",\"PoW/PoS\",\"PoW/PoS\",\"PoS\",\"PoW\",\"PoS\",\"PoW\",\"PoW/PoS\",\"PoW\",\"PoW\",\"PoW\",\"PoW\",\"PoW/PoS\",\"PoW\",\"PoW/PoS\",\"PoW/PoS\",\"PoW\",\"PoW/PoS\",\"PoW\",\"PoW\",\"PoW\",\"PoW/PoS\",\"PoW\",\"PoW/PoS\",\"PoW\",\"PoW\",\"PoW\",\"PoS\",\"PoW\",\"PoW/PoS\",\"PoW\",\"PoW/PoS\",\"PoS\",\"Proof of Authority\",\"PoW\",\"PoS\",\"PoW\",\"PoW\",\"PoW\",\"PoW\",\"PoW\",\"PoW/PoS\",\"PoW/PoS\",\"PoW\",\"PoS\",\"PoS\",\"PoW/PoS\",\"PoW\",\"PoW/PoS\",\"PoW\",\"PoW/PoS\",\"PoW\",\"PoS\",\"PoW\",\"PoW/PoS\",\"PoW/PoS\",\"PoW/PoS\",\"PoW/PoS\",\"PoW\",\"PoW/PoS\",\"PoW/PoS\",\"PoW\",\"PoS\",\"PoW/PoS\",\"PoS\",\"PoW\",\"PoW\",\"PoW\",\"PoW\",\"PoW/PoS\",\"DPoS\",\"PoW/PoS\",\"PoW/PoS\",\"PoW\",\"PoW/PoS\",\"PoW\",\"PoW\",\"PoW\",\"PoS\",\"PoS\",\"PoW\",\"PoW\",\"PoW/PoS\",\"PoW/PoS\",\"PoW\",\"PoW/PoS\",\"PoW\",\"PoW\",\"PoW\",\"PoS\",\"PoW\",\"PoW\",\"PoW/PoS\",\"PoW/PoS\",\"PoS\",\"PoW\",\"PoW\",\"PoW\",\"PoS\",\"PoS\",\"PoW and PoS\",\"PoW\",\"PoW\",\"PoW/PoS\",\"PoW\",\"PoW\",\"PoW\",\"PoW\",\"PoS\",\"POBh\",\"PoW + Hive\",\"PoW\",\"PoW\",\"PoW\",\"PoW/PoS\",\"PoA\",\"PoW/PoS\",\"PoW/PoS\",\"PoS\",\"PoS\",\"PoW\",\"PoW\",\"PoW\",\"PoW\",\"PoW/PoS\",\"PoW/PoS\",\"PoW/PoS\",\"PoW\",\"PoS\",\"PoW\",\"PoS\",\"PoS\",\"PoW/PoS\",\"DPoS\",\"PoW\",\"PoW/PoS\",\"PoS\",\"PoW\",\"PoS\",\"PoW/PoS\",\"PoW\",\"PoW\",\"PoS/PoW\",\"PoW\",\"PoS\",\"PoW\",\"PoW\",\"PoW\",\"PoW\",\"PoW/PoS\",\"PoS\",\"PoW\",\"PoW/PoS\",\"PoW\",\"PoW/PoS\",\"PoS\",\"HPoW\",\"PoS\",\"PoS\",\"PoS\",\"PoW\",\"PoW\",\"PoW\",\"PoW/PoS\",\"PoS\",\"PoW/PoS\",\"PoS\",\"PoW/PoS\",\"PoS\",\"PoW\",\"PoW/PoS\",\"PoW\",\"PoW\",\"PoW\",\"PoW\",\"PoS\",\"PoW/PoS\",\"PoS\",\"PoS\",\"PoW\",\"PoW/PoS\",\"PoS\",\"PoW\",\"PoW/PoS\",\"Zero-Knowledge Proof\",\"PoW\",\"DPOS\",\"PoW\",\"PoS\",\"PoW\",\"PoW\",\"Pos\",\"PoS\",\"PoW\",\"PoW/PoS\",\"PoW\",\"PoW\",\"PoS\",\"PoW\",\"PoW\",\"PoW/PoS\",\"PoW\",\"PoW/PoS\",\"PoW\",\"PoS\",\"PoW/PoS\",\"PoW\",\"PoS\",\"PoW/PoS\",\"PoW/PoS\",\"PoW/PoS\",\"PoW/PoS\",\"PoW\",\"PoW\",\"PoW\",\"PoW/PoS\",\"DPoS\",\"PoW/PoS\",\"PoW\",\"PoW/PoS\",\"PoW\",\"PoW/PoS\",\"PoW\",\"PoW/PoS\",\"PoS\",\"PoW/PoS\",\"PoW/PoS\",\"PoW\",\"PoW/PoS\",\"PoW/PoS\",\"PoW/PoS\",\"PoW\",\"PoW/PoS\",\"PoW\",\"PoW/PoS\",\"PoW\",\"PoW/PoS\",\"PoW/PoS\",\"PoS\",\"PoW\",\"PoW\",\"Proof of Trust\",\"PoW/PoS\",\"DPoS\",\"PoS\",\"PoW/PoS\",\"PoW/PoS\",\"PoW\",\"PoW/PoS\",\"PoW\",\"DPoS\",\"PoW\",\"DPoS\",\"PoS\",\"LPoS\",\"PoS\",\"DPoS\",\"PoS/LPoS\",\"DPoS\",\"PoW/PoS\",\"PoW\",\"PoW\",\"PoS\"],\"TotalCoinSupply\":[\"42\",\"532000000\",\"314159265359\",\"21000000\",\"0\",\"84000000\",\"22000000\",\"0\",\"210000000\",\"21000000\",\"3600570502\",\"21000000000\",\"22000000\",\"12500000\",\"21000000\",\"350000000\",\"20000000\",\"64000000\",\"16768584\",\"0\",\"2000000000\",\"384000000000\",\"169795588\",\"250000000\",\"100000000\",\"0\",\"247000000\",\"84000000\",\"48166000\",\"500000\",\"21000000 \",\"1000000\",\"13140000\",\"18000000\",\"40000000000\",\"4380000\",\"16555000000\",\"21000000000\",\"13500000000\",\"21000000 \",\"299792458\",\"32000000\",\"0\",\"0\",\"11235813\",\"336000000\",\"1420609614\",\"70000000\",\"72245700\",\"120000000\",\"0\",\"90600000000\",\"22000000\",\"21000000\",\"265420800\",\"20000000\",\"1350000\",\"100000000\",\"42000000\",\"200000000\",\"0\",\"10000000\",\"2419200000\",\"16180000\",\"0\",\"15000000000\",\"21000000\",\"337000000\",\"0\",\"3770000\",\"420000000\",\"98000000\",\"0\",\"21000000\",\"250000000\",\"51200000\",\"0\",\"1000\",\"888000000\",\"100000000\",\"47011968\",\"2300000000\",\"10000000\",\"42000000\",\"80000000\",\"250000\",\"0\",\"1600000000\",\"100000000\",\"23000000\",\"0\",\"84000000\",\"265420800\",\"5500000\",\"0\",\"45000000\",\"0\",\"1000000000\",\"184467440735\",\"10000000000\",\"2158812800\",\"500000000\",\"105120000\",\"68000000\",\"0\",\"1680000000\",\"0\",\"166386000\",\"12000000\",\"2628000\",\"500000000\",\"160000000\",\"0\",\"10000000\",\"1000000000\",\"1000000000\",\"20000000\",\"0\",\"0\",\"3371337\",\"20000000\",\"10000000000\",\"1840000000\",\"619478\",\"21000000\",\"92000000000\",\"0\",\"78000000\",\"33000000\",\"65789100\",\"53760000\",\"5060000\",\"21000000\",\"0\",\"210240000\",\"250000000\",\"100000000\",\"16906397\",\"50000000\",\"0\",\"1000000000\",\"26298000\",\"16000000\",\"21000000\",\"21000000\",\"210000000\",\"81962100\",\"22000000\",\"26550000000\",\"84000000\",\"10500000\",\"21626280000 \",\"0\",\"42000000\",\"221052632\",\"84000000\",\"30000000\",\"168351300\",\"24000000\",\"384000000\",\" 99000000000\",\"40000000\",\"2147483647\",\"20000000\",\"20000000\",\"25000000\",\"75000000\",\"222725000\",\"525000000\",\"90000000\",\"139000000\",\"616448\",\"33500000\",\"2000000000\",\"44333333\",\"100000000\",\"200000000\",\"25000000\",\"657000000\",\"200000000\",\"50000000\",\"90000000\",\"10000000\",\"21000000\",\"9736000\",\"3000000\",\"21000000\",\"1200000000\",\"0\",\"200000000\",\"0\",\"10638298\",\"3100000000\",\"30000000\",\"20000000000\",\"74000000\",\"0\",\"1500000000\",\"21400000\",\"39999898\",\"2500124\",\"100000000\",\"301000000\",\"7506000000\",\"26205539\",\"21000000\",\"125000000\",\"30000000\",\"10000000000\",\"500000000\",\"850000000\",\"3853326.77707314\",\"50000000\",\"38540000 \",\"42000000\",\"228000000\",\"20000000\",\"60000000\",\"20000000\",\"33000000\",\"76500000\",\"28000000\",\"650659833\",\"5000000\",\"21000000\",\"144000000\",\"32514916898\",\"13000000\",\"3315789\",\"15000000\",\"78835200\",\"2714286\",\"25000000\",\"9999999\",\"500000000\",\"21000000\",\"9354000\",\"20000000\",\"100000000000\",\"21933333\",\"185000000\",\"55000000\",\"110000000\",\"3360000\",\"14524851.4827\",\"1000000000\",\"17000000\",\"1000000000\",\"100000000 \",\"21000000\",\"34426423\",\"2232901\",\"100000000\",\"36900000\",\"110000000\",\"4000000000\",\"110290030\",\"100000000\",\"48252000\",\"400000000\",\"500000000\",\"21212121\",\"28600000\",\"1000000000\",\"75000000000\",\"40000000\",\"35520400\",\"2000000000\",\"2500000000\",\"30000000\",\"105000000\",\"90000000000\",\"200084200\",\"72000000\",\"100000000\",\"105000000\",\"50000000000\",\"0\",\"340282367\",\"30000000\",\"2000000000\",\"10000000\",\"100000000\",\"120000000\",\"100000000\",\"19276800\",\"30000000\",\" 75000000\",\"60000000\",\"18900000\",\"50000000000\",\"54000000\",\"18898187.6216583\",\"21000000\",\"200000000000\",\"5000000000\",\"137500000\",\"1100000000\",\"100000000\",\"21000000\",\"9507271\",\"17405891.19707116\",\"86712634466\",\"10500000000\",\"61599965\",\"0\",\"20000000\",\"84000000\",\"100000000\",\"100000000\",\"48252000\",\"4200000\",\"88888888\",\"91388946\",\"45000000000\",\"27000000\",\"21000000000\",\"400000000\",\"1800000000\",\"15733333\",\"27000000\",\"24000000\",\"21000000\",\"25000000000\",\"100000000\",\"1200000000\",\"60000000\",\"156306732.71\",\"21000000\",\"200000000\",\"100000000\",\"21000000\",\"14788275.991\",\"9000000000\",\"350000000\",\"45000000\",\"280000000\",\"31800000\",\"144000000\",\"500000000\",\"30000000000\",\"210000000\",\"660000000\",\"210000000\",\"85000000000\",\"12500000\",\"10000000000\",\"27716121\",\"20000000\",\"550000000\",\"999481516\",\"50000000000\",\"150000000\",\"4999999999\",\"50000000\",\" 90000000000\",\"19800000\",\"21000000\",\"120000000\",\"500000000\",\"64000000\",\"900000000\",\"4000000\",\"21000000\",\"23000000\",\"20166000\",\"23000000\",\"25000000\",\"1618033\",\"30000000\",\"1000000000000\",\"16600000\",\"232000000\",\"336000000\",\"10000000000\",\"100000000\",\"1100000000\",\"800000000\",\"5200000000\",\"840000000\",\"40000000\",\"18406979840\",\"500000000\",\"19340594\",\"252460800\",\"25000000\",\"60000000\",\"124000000\",\"1000000000\",\"6500000000\",\"1000000000\",\"21000000\",\"25000000\",\"50000000\",\"3000000\",\"5000000\",\"70000000\",\"500000000\",\"300000000\",\"21000000\",\"88000000\",\"30000000\",\"100000000\",\"100000000\",\"200000000\",\"80000000\",\"18400000\",\"45000000\",\"5121951220\",\"21000000\",\"26280000\",\"21000000\",\"18000000\",\"26000000\",\"10500000\",\"600000518\",\"150000000\",\"184000000000\",\"10200000000\",\"44000000\",\"168000000\",\"100000000\",\"1000000000\",\"84000000\",\"90000000\",\"92000000000\",\"650000000 \",\"100262205\",\"18081806 \",\"22075700\",\"21000000\",\"21000000\",\"82546564\",\"21000000\",\"5151000\",\"16880000000\",\"52500000\",\"100000000\",\"22105263\",\"1000000000\",\"1750000000\",\"88188888\",\"210000000\",\"184470000000\",\"55000000\",\"50000000\",\"260000000\",\"210000000\",\"2100000000\",\"366000000\",\"100000000\",\"25000000\",\"18000000000\",\"1000000000\",\"100000000\",\"1000000000\",\"7600000000\",\"50000000\",\"84000000\",\"21000000\",\"70000000000\",\"0\",\"8080000000\",\"54000000\",\"105120001.44\",\"25228800\",\"105000000\",\"21000000\",\"120000000\",\"21000000\",\"262800000\",\"19035999\",\"30886000\",\"13370000\",\"74800000000\",\"100000000\",\"19700000\",\"84000000\",\"500000000\",\"5000000000\",\"420000000\",\"64000000\",\"2100000\",\"168000000\",\"30000000\",\"1000000000\",\"35000000000\",\"98100000000\",\"0\",\"4000000000\",\"200000000\",\"7000000000\",\"54256119\",\"21000000\",\"0\",\"500000000\",\"1000000000\",\"10500000000\",\"190000000\",\"1000000000\",\"42000000\",\"15000000\",\"50000000000\",\"400000000\",\"105000000\",\"208000000\",\"160000000\",\"9000000\",\"5000000\",\"182000000\",\"16504333\",\"105000000\",\"159918400\",\"10008835635\",\"300000000\",\"60168145\",\"2800000\",\"120000\",\"2100000000\",\"0\",\"24487944\",\"0\",\"1000000000\",\"100000000\",\"8634140\",\"990000000000\",\"1000000000\",\"2000000000\",\"250000000\",\"1400222610\",\"21000000\",\"1000000\"],\"TotalCoinsMined\":{\"__ndarray__\":\"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\",\"dtype\":\"float64\",\"order\":\"little\",\"shape\":[532]},\"class\":{\"__ndarray__\":\"AAAAAAAAAAAAAAAAAQAAAAEAAAABAAAAAAAAAAEAAAABAAAAAQAAAAAAAAABAAAAAAAAAAAAAAABAAAAAAAAAAEAAAABAAAAAAAAAAAAAAABAAAAAQAAAAEAAAABAAAAAQAAAAAAAAABAAAAAQAAAAEAAAAAAAAAAQAAAAAAAAABAAAAAQAAAAAAAAAAAAAAAQAAAAEAAAABAAAAAQAAAAEAAAABAAAAAAAAAAAAAAABAAAAAQAAAAEAAAABAAAAAQAAAAAAAAAAAAAAAQAAAAAAAAABAAAAAQAAAAEAAAABAAAAAAAAAAEAAAABAAAAAAAAAAEAAAAAAAAAAAAAAAAAAAABAAAAAQAAAAEAAAAAAAAAAAAAAAAAAAAAAAAAAAAAAAEAAAABAAAAAQAAAAAAAAAAAAAAAQAAAAAAAAABAAAAAAAAAAAAAAABAAAAAQAAAAEAAAABAAAAAAAAAAAAAAABAAAAAAAAAAEAAAABAAAAAAAAAAAAAAABAAAAAAAAAAAAAAABAAAAAQAAAAAAAAAAAAAAAQAAAAAAAAAAAAAAAQAAAAAAAAABAAAAAAAAAAEAAAAAAAAAAQAAAAAAAAAAAAAAAQAAAAEAAAAAAAAAAQAAAAEAAAABAAAAAAAAAAEAAAABAAAAAQAAAAEAAAABAAAAAAAAAAAAAAABAAAAAQAAAAEAAAAAAAAAAQAAAAAAAAABAAAAAQAAAAAAAAABAAAAAAAAAAEAAAAAAAAAAAAAAAEAAAABAAAAAAAAAAEAAAABAAAAAAAAAAAAAAABAAAAAAAAAAEAAAAAAAAAAAAAAAAAAAABAAAAAQAAAAEAAAABAAAAAAAAAAAAAAAAAAAAAAAAAAAAAAABAAAAAQAAAAAAAAAAAAAAAAAAAAAAAAAAAAAAAQAAAAAAAAAAAAAAAAAAAAAAAAAAAAAAAQAAAAAAAAABAAAAAAAAAAAAAAABAAAAAAAAAAEAAAAAAAAAAAAAAAEAAAAAAAAAAQAAAAAAAAABAAAAAAAAAAEAAAAAAAAAAAAAAAAAAAAAAAAAAQAAAAAAAAAAAAAAAAAAAAAAAAAAAAAAAQAAAAEAAAAAAAAAAAAAAAEAAAABAAAAAAAAAAAAAAAAAAAAAAAAAAAAAAABAAAAAAAAAAAAAAAAAAAAAAAAAAAAAAAAAAAAAAAAAAAAAAABAAAAAAAAAAAAAAAAAAAAAAAAAAAAAAAAAAAAAQAAAAEAAAABAAAAAAAAAAAAAAAAAAAAAAAAAAEAAAAAAAAAAQAAAAAAAAAAAAAAAQAAAAAAAAABAAAAAQAAAAAAAAABAAAAAQAAAAAAAAABAAAAAAAAAAAAAAAAAAAAAQAAAAAAAAAAAAAAAQAAAAAAAAAAAAAAAAAAAAAAAAAAAAAAAAAAAAAAAAABAAAAAAAAAAEAAAAAAAAAAAAAAAAAAAAAAAAAAQAAAAAAAAABAAAAAAAAAAEAAAABAAAAAQAAAAEAAAAAAAAAAQAAAAAAAAAAAAAAAQAAAAAAAAABAAAAAQAAAAEAAAAAAAAAAQAAAAAAAAABAAAAAQAAAAEAAAAAAAAAAQAAAAAAAAABAAAAAAAAAAAAAAADAAAAAQAAAAAAAAABAAAAAQAAAAEAAAABAAAAAQAAAAAAAAAAAAAAAQAAAAAAAAAAAAAAAAAAAAEAAAAAAAAAAQAAAAAAAAABAAAAAAAAAAEAAAAAAAAAAAAAAAAAAAAAAAAAAQAAAAAAAAAAAAAAAQAAAAAAAAAAAAAAAAAAAAEAAAABAAAAAQAAAAEAAAAAAAAAAAAAAAAAAAAAAAAAAQAAAAAAAAABAAAAAQAAAAEAAAAAAAAAAAAAAAEAAAABAAAAAAAAAAAAAAABAAAAAAAAAAEAAAABAAAAAQAAAAAAAAABAAAAAQAAAAAAAAAAAAAAAAAAAAEAAAABAAAAAQAAAAAAAAABAAAAAAAAAAEAAAABAAAAAAAAAAEAAAABAAAAAQAAAAEAAAAAAAAAAwAAAAAAAAABAAAAAQAAAAEAAAAAAAAAAwAAAAAAAAAAAAAAAAAAAAAAAAABAAAAAQAAAAEAAAABAAAAAAAAAAAAAAAAAAAAAQAAAAAAAAABAAAAAAAAAAAAAAAAAAAAAAAAAAEAAAAAAAAAAAAAAAEAAAAAAAAAAAAAAAEAAAABAAAAAAAAAAEAAAAAAAAAAQAAAAEAAAABAAAAAQAAAAAAAAAAAAAAAQAAAAAAAAABAAAAAAAAAAAAAAAAAAAAAAAAAAAAAAAAAAAAAQAAAAEAAAABAAAAAAAAAAAAAAAAAAAAAAAAAAAAAAAAAAAAAQAAAAAAAAABAAAAAQAAAAEAAAABAAAAAAAAAAAAAAAAAAAAAAAAAAEAAAAAAAAAAAAAAAEAAAAAAAAAAAAAAAEAAAADAAAAAQAAAAAAAAABAAAAAQAAAAAAAAAAAAAAAQAAAAAAAAABAAAAAQAAAAEAAAABAAAAAQAAAAAAAAABAAAAAAAAAAEAAAAAAAAAAAAAAAEAAAAAAAAAAAAAAAAAAAAAAAAAAAAAAAEAAAABAAAAAQAAAAAAAAAAAAAAAAAAAAEAAAAAAAAAAQAAAAAAAAABAAAAAAAAAAAAAAAAAAAAAAAAAAEAAAAAAAAAAAAAAAAAAAABAAAAAAAAAAEAAAAAAAAAAQAAAAAAAAAAAAAAAAAAAAEAAAABAAAAAAAAAAAAAAAAAAAAAAAAAAAAAAAAAAAAAQAAAAAAAAABAAAAAAAAAAEAAAAAAAAAAAAAAAMAAAAAAAAAAgAAAAAAAAAAAAAAAAAAAAEAAAABAAAAAAAAAA==\",\"dtype\":\"int32\",\"order\":\"little\",\"shape\":[532]}},\"selected\":{\"id\":\"1123\"},\"selection_policy\":{\"id\":\"1157\"}},\"id\":\"1122\",\"type\":\"ColumnDataSource\"},{\"attributes\":{},\"id\":\"1124\",\"type\":\"StringFormatter\"}],\"root_ids\":[\"1120\"]},\"title\":\"Bokeh Application\",\"version\":\"2.4.1\"}};\n",
       "    var render_items = [{\"docid\":\"a0e1567a-2534-46a5-8220-77079674eca3\",\"root_ids\":[\"1120\"],\"roots\":{\"1120\":\"dce16a88-1728-4fa6-9502-ee18b341af7f\"}}];\n",
       "    root.Bokeh.embed.embed_items_notebook(docs_json, render_items);\n",
       "  }\n",
       "  if (root.Bokeh !== undefined && root.Bokeh.Panel !== undefined) {\n",
       "    embed_document(root);\n",
       "  } else {\n",
       "    var attempts = 0;\n",
       "    var timer = setInterval(function(root) {\n",
       "      if (root.Bokeh !== undefined && root.Bokeh.Panel !== undefined) {\n",
       "        clearInterval(timer);\n",
       "        embed_document(root);\n",
       "      } else if (document.readyState == \"complete\") {\n",
       "        attempts++;\n",
       "        if (attempts > 200) {\n",
       "          clearInterval(timer);\n",
       "          console.log(\"Bokeh: ERROR: Unable to run BokehJS code because BokehJS library is missing\");\n",
       "        }\n",
       "      }\n",
       "    }, 25, root)\n",
       "  }\n",
       "})(window);</script>"
      ],
      "text/plain": [
       ":Table   [CoinName,Algorithm,ProofType,TotalCoinSupply,TotalCoinsMined,class]"
      ]
     },
     "execution_count": 76,
     "metadata": {
      "application/vnd.holoviews_exec.v0+json": {
       "id": "1120"
      }
     },
     "output_type": "execute_result"
    }
   ],
   "source": [
    "# Create a table with tradable cryptocurrencies.\n",
    "clustered_df.hvplot.table(columns=['CoinName', 'Algorithm', 'ProofType', 'TotalCoinSupply', 'TotalCoinsMined', 'class'])"
   ]
  },
  {
   "cell_type": "code",
   "execution_count": 77,
   "metadata": {},
   "outputs": [
    {
     "name": "stdout",
     "output_type": "stream",
     "text": [
      "There are 532 tradeable cryptocurrencies.\n"
     ]
    }
   ],
   "source": [
    "# Print the total number of tradable cryptocurrencies.\n",
    "print(f\"There are {len(clustered_df)} tradeable cryptocurrencies.\")"
   ]
  },
  {
   "cell_type": "code",
   "execution_count": 87,
   "metadata": {},
   "outputs": [],
   "source": [
    "# Scaling data to create the scatter plot with tradable cryptocurrencies.\n",
    "#MinMaxScaler().fit_transform \"TotalCoinSupply\" \"TotalCoinsMined\" between 0-1\n",
    "scaler = MinMaxScaler()\n",
    "X_scaler = scaler.fit_transform(clustered_df[[\"TotalCoinSupply\",\"TotalCoinsMined\"]])"
   ]
  },
  {
   "cell_type": "code",
   "execution_count": 91,
   "metadata": {},
   "outputs": [
    {
     "data": {
      "text/html": [
       "<div>\n",
       "<style scoped>\n",
       "    .dataframe tbody tr th:only-of-type {\n",
       "        vertical-align: middle;\n",
       "    }\n",
       "\n",
       "    .dataframe tbody tr th {\n",
       "        vertical-align: top;\n",
       "    }\n",
       "\n",
       "    .dataframe thead th {\n",
       "        text-align: right;\n",
       "    }\n",
       "</style>\n",
       "<table border=\"1\" class=\"dataframe\">\n",
       "  <thead>\n",
       "    <tr style=\"text-align: right;\">\n",
       "      <th></th>\n",
       "      <th>TotalCoinSupply</th>\n",
       "      <th>TotalCoinsMined</th>\n",
       "      <th>CoinName</th>\n",
       "      <th>class</th>\n",
       "    </tr>\n",
       "  </thead>\n",
       "  <tbody>\n",
       "    <tr>\n",
       "      <th>42</th>\n",
       "      <td>4.200000e-11</td>\n",
       "      <td>0.000000</td>\n",
       "      <td>42 Coin</td>\n",
       "      <td>0</td>\n",
       "    </tr>\n",
       "    <tr>\n",
       "      <th>404</th>\n",
       "      <td>5.320000e-04</td>\n",
       "      <td>0.001066</td>\n",
       "      <td>404Coin</td>\n",
       "      <td>0</td>\n",
       "    </tr>\n",
       "    <tr>\n",
       "      <th>1337</th>\n",
       "      <td>3.141593e-01</td>\n",
       "      <td>0.029576</td>\n",
       "      <td>EliteCoin</td>\n",
       "      <td>0</td>\n",
       "    </tr>\n",
       "    <tr>\n",
       "      <th>BTC</th>\n",
       "      <td>2.100000e-05</td>\n",
       "      <td>0.000018</td>\n",
       "      <td>Bitcoin</td>\n",
       "      <td>1</td>\n",
       "    </tr>\n",
       "    <tr>\n",
       "      <th>ETH</th>\n",
       "      <td>0.000000e+00</td>\n",
       "      <td>0.000109</td>\n",
       "      <td>Ethereum</td>\n",
       "      <td>1</td>\n",
       "    </tr>\n",
       "    <tr>\n",
       "      <th>LTC</th>\n",
       "      <td>8.400000e-05</td>\n",
       "      <td>0.000064</td>\n",
       "      <td>Litecoin</td>\n",
       "      <td>1</td>\n",
       "    </tr>\n",
       "    <tr>\n",
       "      <th>DASH</th>\n",
       "      <td>2.200000e-05</td>\n",
       "      <td>0.000009</td>\n",
       "      <td>Dash</td>\n",
       "      <td>0</td>\n",
       "    </tr>\n",
       "    <tr>\n",
       "      <th>XMR</th>\n",
       "      <td>0.000000e+00</td>\n",
       "      <td>0.000017</td>\n",
       "      <td>Monero</td>\n",
       "      <td>1</td>\n",
       "    </tr>\n",
       "    <tr>\n",
       "      <th>ETC</th>\n",
       "      <td>2.100000e-04</td>\n",
       "      <td>0.000115</td>\n",
       "      <td>Ethereum Classic</td>\n",
       "      <td>1</td>\n",
       "    </tr>\n",
       "    <tr>\n",
       "      <th>ZEC</th>\n",
       "      <td>2.100000e-05</td>\n",
       "      <td>0.000007</td>\n",
       "      <td>ZCash</td>\n",
       "      <td>1</td>\n",
       "    </tr>\n",
       "  </tbody>\n",
       "</table>\n",
       "</div>"
      ],
      "text/plain": [
       "      TotalCoinSupply  TotalCoinsMined          CoinName  class\n",
       "42       4.200000e-11         0.000000           42 Coin      0\n",
       "404      5.320000e-04         0.001066           404Coin      0\n",
       "1337     3.141593e-01         0.029576         EliteCoin      0\n",
       "BTC      2.100000e-05         0.000018           Bitcoin      1\n",
       "ETH      0.000000e+00         0.000109          Ethereum      1\n",
       "LTC      8.400000e-05         0.000064          Litecoin      1\n",
       "DASH     2.200000e-05         0.000009              Dash      0\n",
       "XMR      0.000000e+00         0.000017            Monero      1\n",
       "ETC      2.100000e-04         0.000115  Ethereum Classic      1\n",
       "ZEC      2.100000e-05         0.000007             ZCash      1"
      ]
     },
     "execution_count": 91,
     "metadata": {},
     "output_type": "execute_result"
    }
   ],
   "source": [
    "# Create a new DataFrame that has the scaled data with the clustered_df DataFrame index.\n",
    "scaled_clustered_df = pd.DataFrame(data=X_scaler,index=(clustered_df.index),columns=[\"TotalCoinSupply\",\"TotalCoinsMined\"])\n",
    "\n",
    "# Add the \"CoinName\" column from the clustered_df DataFrame to the new DataFrame.\n",
    "scaled_clustered_df['CoinName']= clustered_df['CoinName']\n",
    "\n",
    "# Add the \"Class\" column from the clustered_df DataFrame to the new DataFrame. \n",
    "scaled_clustered_df['class']= clustered_df['class']\n",
    "\n",
    "scaled_clustered_df.head(10)"
   ]
  },
  {
   "cell_type": "code",
   "execution_count": 92,
   "metadata": {},
   "outputs": [
    {
     "data": {},
     "metadata": {},
     "output_type": "display_data"
    },
    {
     "data": {
      "application/vnd.holoviews_exec.v0+json": "",
      "text/html": [
       "<div id='1173'>\n",
       "\n",
       "\n",
       "\n",
       "\n",
       "\n",
       "  <div class=\"bk-root\" id=\"0423b369-a834-4c62-b6f4-134887954391\" data-root-id=\"1173\"></div>\n",
       "</div>\n",
       "<script type=\"application/javascript\">(function(root) {\n",
       "  function embed_document(root) {\n",
       "    var docs_json = {\"46d7e489-c223-470e-935a-7159e49207ad\":{\"defs\":[{\"extends\":null,\"module\":null,\"name\":\"ReactiveHTML1\",\"overrides\":[],\"properties\":[]},{\"extends\":null,\"module\":null,\"name\":\"FlexBox1\",\"overrides\":[],\"properties\":[{\"default\":\"flex-start\",\"kind\":null,\"name\":\"align_content\"},{\"default\":\"flex-start\",\"kind\":null,\"name\":\"align_items\"},{\"default\":\"row\",\"kind\":null,\"name\":\"flex_direction\"},{\"default\":\"wrap\",\"kind\":null,\"name\":\"flex_wrap\"},{\"default\":\"flex-start\",\"kind\":null,\"name\":\"justify_content\"}]},{\"extends\":null,\"module\":null,\"name\":\"GridStack1\",\"overrides\":[],\"properties\":[{\"default\":\"warn\",\"kind\":null,\"name\":\"mode\"},{\"default\":null,\"kind\":null,\"name\":\"ncols\"},{\"default\":null,\"kind\":null,\"name\":\"nrows\"},{\"default\":true,\"kind\":null,\"name\":\"allow_resize\"},{\"default\":true,\"kind\":null,\"name\":\"allow_drag\"},{\"default\":[],\"kind\":null,\"name\":\"state\"}]},{\"extends\":null,\"module\":null,\"name\":\"click1\",\"overrides\":[],\"properties\":[{\"default\":\"\",\"kind\":null,\"name\":\"terminal_output\"},{\"default\":\"\",\"kind\":null,\"name\":\"debug_name\"},{\"default\":0,\"kind\":null,\"name\":\"clears\"}]},{\"extends\":null,\"module\":null,\"name\":\"TemplateActions1\",\"overrides\":[],\"properties\":[{\"default\":0,\"kind\":null,\"name\":\"open_modal\"},{\"default\":0,\"kind\":null,\"name\":\"close_modal\"}]},{\"extends\":null,\"module\":null,\"name\":\"MaterialTemplateActions1\",\"overrides\":[],\"properties\":[{\"default\":0,\"kind\":null,\"name\":\"open_modal\"},{\"default\":0,\"kind\":null,\"name\":\"close_modal\"}]}],\"roots\":{\"references\":[{\"attributes\":{\"coordinates\":null,\"data_source\":{\"id\":\"1238\"},\"glyph\":{\"id\":\"1241\"},\"group\":null,\"hover_glyph\":null,\"muted_glyph\":{\"id\":\"1243\"},\"nonselection_glyph\":{\"id\":\"1242\"},\"selection_glyph\":{\"id\":\"1259\"},\"view\":{\"id\":\"1245\"}},\"id\":\"1244\",\"type\":\"GlyphRenderer\"},{\"attributes\":{\"fill_alpha\":{\"value\":0.1},\"fill_color\":{\"value\":\"#e5ae38\"},\"hatch_alpha\":{\"value\":0.1},\"hatch_color\":{\"value\":\"#e5ae38\"},\"line_alpha\":{\"value\":0.1},\"line_color\":{\"value\":\"#e5ae38\"},\"size\":{\"value\":5.477225575051661},\"x\":{\"field\":\"TotalCoinsMined\"},\"y\":{\"field\":\"TotalCoinSupply\"}},\"id\":\"1264\",\"type\":\"Scatter\"},{\"attributes\":{\"end\":1.042857142857143,\"reset_end\":1.042857142857143,\"reset_start\":-0.04285714285714286,\"start\":-0.04285714285714286,\"tags\":[[[\"TotalCoinsMined\",\"TotalCoinsMined\",null]]]},\"id\":\"1175\",\"type\":\"Range1d\"},{\"attributes\":{\"data\":{\"CoinName\":[\"BitTorrent\"],\"TotalCoinSupply\":{\"__ndarray__\":\"rkfhehSu7z8=\",\"dtype\":\"float64\",\"order\":\"little\",\"shape\":[1]},\"TotalCoinsMined\":{\"__ndarray__\":\"AAAAAAAA8D8=\",\"dtype\":\"float64\",\"order\":\"little\",\"shape\":[1]},\"class\":[2]},\"selected\":{\"id\":\"1261\"},\"selection_policy\":{\"id\":\"1279\"}},\"id\":\"1260\",\"type\":\"ColumnDataSource\"},{\"attributes\":{},\"id\":\"1255\",\"type\":\"UnionRenderers\"},{\"attributes\":{\"click_policy\":\"mute\",\"coordinates\":null,\"group\":null,\"items\":[{\"id\":\"1236\"},{\"id\":\"1258\"},{\"id\":\"1282\"},{\"id\":\"1308\"}],\"location\":[0,0],\"title\":\"class\"},\"id\":\"1235\",\"type\":\"Legend\"},{\"attributes\":{\"fill_alpha\":{\"value\":0.2},\"fill_color\":{\"value\":\"#fc4f30\"},\"hatch_alpha\":{\"value\":0.2},\"hatch_color\":{\"value\":\"#fc4f30\"},\"line_alpha\":{\"value\":0.2},\"line_color\":{\"value\":\"#fc4f30\"},\"size\":{\"value\":5.477225575051661},\"x\":{\"field\":\"TotalCoinsMined\"},\"y\":{\"field\":\"TotalCoinSupply\"}},\"id\":\"1243\",\"type\":\"Scatter\"},{\"attributes\":{\"label\":{\"value\":\"1\"},\"renderers\":[{\"id\":\"1244\"}]},\"id\":\"1258\",\"type\":\"LegendItem\"},{\"attributes\":{},\"id\":\"1218\",\"type\":\"Selection\"},{\"attributes\":{\"fill_alpha\":{\"value\":0.1},\"fill_color\":{\"value\":\"#fc4f30\"},\"hatch_alpha\":{\"value\":0.1},\"hatch_color\":{\"value\":\"#fc4f30\"},\"line_alpha\":{\"value\":0.1},\"line_color\":{\"value\":\"#fc4f30\"},\"size\":{\"value\":5.477225575051661},\"x\":{\"field\":\"TotalCoinsMined\"},\"y\":{\"field\":\"TotalCoinSupply\"}},\"id\":\"1242\",\"type\":\"Scatter\"},{\"attributes\":{\"fill_color\":{\"value\":\"#fc4f30\"},\"hatch_color\":{\"value\":\"#fc4f30\"},\"line_color\":{\"value\":\"#fc4f30\"},\"size\":{\"value\":5.477225575051661},\"x\":{\"field\":\"TotalCoinsMined\"},\"y\":{\"field\":\"TotalCoinSupply\"}},\"id\":\"1241\",\"type\":\"Scatter\"},{\"attributes\":{},\"id\":\"1191\",\"type\":\"BasicTicker\"},{\"attributes\":{},\"id\":\"1232\",\"type\":\"UnionRenderers\"},{\"attributes\":{\"source\":{\"id\":\"1238\"}},\"id\":\"1245\",\"type\":\"CDSView\"},{\"attributes\":{},\"id\":\"1213\",\"type\":\"AllLabels\"},{\"attributes\":{\"margin\":[5,5,5,5],\"name\":\"HSpacer02041\",\"sizing_mode\":\"stretch_width\"},\"id\":\"1174\",\"type\":\"Spacer\"},{\"attributes\":{\"data\":{\"CoinName\":[\"Bitcoin\",\"Ethereum\",\"Litecoin\",\"Monero\",\"Ethereum Classic\",\"ZCash\",\"DigiByte\",\"ProsperCoin\",\"Spreadcoin\",\"Argentum\",\"MyriadCoin\",\"MoonCoin\",\"ZetaCoin\",\"SexCoin\",\"Quatloo\",\"QuarkCoin\",\"Riecoin\",\"Digitalcoin \",\"Catcoin\",\"CannaCoin\",\"CryptCoin\",\"Verge\",\"DevCoin\",\"EarthCoin\",\"E-Gulden\",\"Einsteinium\",\"Emerald\",\"Franko\",\"FeatherCoin\",\"GrandCoin\",\"GlobalCoin\",\"GoldCoin\",\"Infinite Coin\",\"IXcoin\",\"KrugerCoin\",\"LuckyCoin\",\"Litebar \",\"MegaCoin\",\"MediterraneanCoin\",\"MinCoin\",\"NobleCoin\",\"Namecoin\",\"NyanCoin\",\"RonPaulCoin\",\"StableCoin\",\"SmartCoin\",\"SysCoin\",\"TigerCoin\",\"TerraCoin\",\"UnbreakableCoin\",\"Unobtanium\",\"UroCoin\",\"ViaCoin\",\"Vertcoin\",\"WorldCoin\",\"JouleCoin\",\"ByteCoin\",\"DigitalNote \",\"MonaCoin\",\"Gulden\",\"PesetaCoin\",\"Wild Beast Coin\",\"Flo\",\"ArtByte\",\"Folding Coin\",\"Unitus\",\"CypherPunkCoin\",\"OmniCron\",\"GreenCoin\",\"Cryptonite\",\"MasterCoin\",\"SoonCoin\",\"1Credit\",\"MarsCoin \",\"Crypto\",\"Anarchists Prime\",\"BowsCoin\",\"Song Coin\",\"BitZeny\",\"Expanse\",\"Siacoin\",\"MindCoin\",\"I0coin\",\"Revolution VR\",\"HOdlcoin\",\"Gamecredits\",\"CarpeDiemCoin\",\"Adzcoin\",\"SoilCoin\",\"YoCoin\",\"SibCoin\",\"Francs\",\"BolivarCoin\",\"Omni\",\"PizzaCoin\",\"Komodo\",\"Karbo\",\"ZayedCoin\",\"Circuits of Value\",\"DopeCoin\",\"DollarCoin\",\"Shilling\",\"ZCoin\",\"Elementrem\",\"ZClassic\",\"KiloCoin\",\"ArtexCoin\",\"Kurrent\",\"Cannabis Industry Coin\",\"OsmiumCoin\",\"Bikercoins\",\"HexxCoin\",\"PacCoin\",\"Citadel\",\"BeaverCoin\",\"VaultCoin\",\"Zero\",\"Canada eCoin\",\"Zoin\",\"DubaiCoin\",\"EB3coin\",\"Coinonat\",\"BenjiRolls\",\"ILCoin\",\"EquiTrader\",\"Quantum Resistant Ledger\",\"Dynamic\",\"Nano\",\"ChanCoin\",\"Dinastycoin\",\"DigitalPrice\",\"Unify\",\"SocialCoin\",\"ArcticCoin\",\"DAS\",\"LeviarCoin\",\"Bitcore\",\"gCn Coin\",\"SmartCash\",\"Onix\",\"Bitcoin Cash\",\"Sojourn Coin\",\"NewYorkCoin\",\"FrazCoin\",\"Kronecoin\",\"AdCoin\",\"Linx\",\"Sumokoin\",\"BitcoinZ\",\"Elements\",\"VIVO Coin\",\"Bitcoin Gold\",\"Pirl\",\"eBoost\",\"Pura\",\"Innova\",\"Ellaism\",\"GoByte\",\"SHIELD\",\"UltraNote\",\"BitCoal\",\"DaxxCoin\",\"AC3\",\"Lethean\",\"PopularCoin\",\"Photon\",\"Sucre\",\"SparksPay\",\"GunCoin\",\"IrishCoin\",\"Pioneer Coin\",\"UnitedBitcoin\",\"Interzone\",\"1717 Masonic Commemorative Token\",\"TurtleCoin\",\"MUNcoin\",\"Niobio Cash\",\"ShareChain\",\"Travelflex\",\"KREDS\",\"BitFlip\",\"LottoCoin\",\"Crypto Improvement Fund\",\"Callisto Network\",\"BitTube\",\"Poseidon\",\"Aidos Kuneen\",\"Bitrolium\",\"Alpenschillling\",\"FuturoCoin\",\"Monero Classic\",\"Jumpcoin\",\"Infinex\",\"KEYCO\",\"GINcoin\",\"PlatinCoin\",\"Loki\",\"Newton Coin\",\"MassGrid\",\"PluraCoin\",\"Motion\",\"PlusOneCoin\",\"Axe\",\"HexCoin\",\"Webchain\",\"Ryo\",\"Urals Coin\",\"Qwertycoin\",\"Project Pai\",\"Azart\",\"Xchange\",\"CrypticCoin\",\"Actinium\",\"Bitcoin SV\",\"FREDEnergy\",\"Universal Molecule\",\"Lithium\",\"PirateCash\",\"Exosis\",\"Block-Logic\",\"Beam\",\"Bithereum\",\"SLICE\",\"BLAST\",\"Bitcoin Rhodium\",\"GlobalToken\",\"SolarCoin\",\"UFO Coin\",\"BlakeCoin\",\"Crypto Escudo\",\"Crown Coin\",\"SmileyCoin\",\"Groestlcoin\",\"Bata\",\"Pakcoin\",\"JoinCoin\",\"Vollar\",\"Reality Clash\",\"Beldex\",\"Horizen\"],\"TotalCoinSupply\":{\"__ndarray__\":\"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\",\"dtype\":\"float64\",\"order\":\"little\",\"shape\":[240]},\"TotalCoinsMined\":{\"__ndarray__\":\"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\",\"dtype\":\"float64\",\"order\":\"little\",\"shape\":[240]},\"class\":[1,1,1,1,1,1,1,1,1,1,1,1,1,1,1,1,1,1,1,1,1,1,1,1,1,1,1,1,1,1,1,1,1,1,1,1,1,1,1,1,1,1,1,1,1,1,1,1,1,1,1,1,1,1,1,1,1,1,1,1,1,1,1,1,1,1,1,1,1,1,1,1,1,1,1,1,1,1,1,1,1,1,1,1,1,1,1,1,1,1,1,1,1,1,1,1,1,1,1,1,1,1,1,1,1,1,1,1,1,1,1,1,1,1,1,1,1,1,1,1,1,1,1,1,1,1,1,1,1,1,1,1,1,1,1,1,1,1,1,1,1,1,1,1,1,1,1,1,1,1,1,1,1,1,1,1,1,1,1,1,1,1,1,1,1,1,1,1,1,1,1,1,1,1,1,1,1,1,1,1,1,1,1,1,1,1,1,1,1,1,1,1,1,1,1,1,1,1,1,1,1,1,1,1,1,1,1,1,1,1,1,1,1,1,1,1,1,1,1,1,1,1,1,1,1,1,1,1,1,1,1,1,1,1,1,1,1,1,1,1]},\"selected\":{\"id\":\"1239\"},\"selection_policy\":{\"id\":\"1255\"}},\"id\":\"1238\",\"type\":\"ColumnDataSource\"},{\"attributes\":{\"source\":{\"id\":\"1260\"}},\"id\":\"1267\",\"type\":\"CDSView\"},{\"attributes\":{},\"id\":\"1195\",\"type\":\"BasicTicker\"},{\"attributes\":{},\"id\":\"1186\",\"type\":\"LinearScale\"},{\"attributes\":{},\"id\":\"1279\",\"type\":\"UnionRenderers\"},{\"attributes\":{\"coordinates\":null,\"group\":null,\"text_color\":\"black\",\"text_font_size\":\"12pt\"},\"id\":\"1182\",\"type\":\"Title\"},{\"attributes\":{\"axis\":{\"id\":\"1190\"},\"coordinates\":null,\"grid_line_color\":null,\"group\":null,\"ticker\":null},\"id\":\"1193\",\"type\":\"Grid\"},{\"attributes\":{\"label\":{\"value\":\"2\"},\"renderers\":[{\"id\":\"1266\"}]},\"id\":\"1282\",\"type\":\"LegendItem\"},{\"attributes\":{},\"id\":\"1305\",\"type\":\"UnionRenderers\"},{\"attributes\":{},\"id\":\"1215\",\"type\":\"BasicTickFormatter\"},{\"attributes\":{\"below\":[{\"id\":\"1190\"}],\"center\":[{\"id\":\"1193\"},{\"id\":\"1197\"}],\"height\":300,\"left\":[{\"id\":\"1194\"}],\"margin\":[5,5,5,5],\"min_border_bottom\":10,\"min_border_left\":10,\"min_border_right\":10,\"min_border_top\":10,\"renderers\":[{\"id\":\"1223\"},{\"id\":\"1244\"},{\"id\":\"1266\"},{\"id\":\"1290\"}],\"right\":[{\"id\":\"1235\"}],\"sizing_mode\":\"fixed\",\"title\":{\"id\":\"1182\"},\"toolbar\":{\"id\":\"1204\"},\"width\":700,\"x_range\":{\"id\":\"1175\"},\"x_scale\":{\"id\":\"1186\"},\"y_range\":{\"id\":\"1176\"},\"y_scale\":{\"id\":\"1188\"}},\"id\":\"1181\",\"subtype\":\"Figure\",\"type\":\"Plot\"},{\"attributes\":{\"angle\":{\"value\":0.0},\"fill_alpha\":{\"value\":1.0},\"fill_color\":{\"value\":\"#fc4f30\"},\"hatch_alpha\":{\"value\":1.0},\"hatch_color\":{\"value\":\"#fc4f30\"},\"hatch_scale\":{\"value\":12.0},\"hatch_weight\":{\"value\":1.0},\"line_alpha\":{\"value\":1.0},\"line_cap\":{\"value\":\"butt\"},\"line_color\":{\"value\":\"#fc4f30\"},\"line_dash\":{\"value\":[]},\"line_dash_offset\":{\"value\":0},\"line_join\":{\"value\":\"bevel\"},\"line_width\":{\"value\":1},\"marker\":{\"value\":\"circle\"},\"size\":{\"value\":5.477225575051661},\"x\":{\"field\":\"TotalCoinsMined\"},\"y\":{\"field\":\"TotalCoinSupply\"}},\"id\":\"1259\",\"type\":\"Scatter\"},{\"attributes\":{\"data\":{\"CoinName\":[\"42 Coin\",\"404Coin\",\"EliteCoin\",\"Dash\",\"Bitshares\",\"BitcoinDark\",\"PayCoin\",\"KoboCoin\",\"Aurora Coin\",\"BlueCoin\",\"EnergyCoin\",\"BitBar\",\"CryptoBullion\",\"CasinoCoin\",\"Diamond\",\"Exclusive Coin\",\"FlutterCoin\",\"HoboNickels\",\"HyperStake\",\"IOCoin\",\"MaxCoin\",\"MintCoin\",\"MazaCoin\",\"Nautilus Coin\",\"NavCoin\",\"OpalCoin\",\"Orbitcoin\",\"PotCoin\",\"PhoenixCoin\",\"Reddcoin\",\"SuperCoin\",\"SyncCoin\",\"TeslaCoin\",\"TittieCoin\",\"TorCoin\",\"UnitaryStatus Dollar\",\"UltraCoin\",\"VeriCoin\",\"X11 Coin\",\"Crypti\",\"StealthCoin\",\"ZCC Coin\",\"BurstCoin\",\"StorjCoin\",\"Neutron\",\"FairCoin\",\"RubyCoin\",\"Kore\",\"Dnotes\",\"8BIT Coin\",\"Sativa Coin\",\"Ucoin\",\"Vtorrent\",\"IslaCoin\",\"Nexus\",\"Droidz\",\"Squall Coin\",\"Diggits\",\"Paycon\",\"Emercoin\",\"EverGreenCoin\",\"Decred\",\"EDRCoin\",\"Hitcoin\",\"DubaiCoin\",\"PWR Coin\",\"BillaryCoin\",\"GPU Coin\",\"EuropeCoin\",\"ZeitCoin\",\"SwingCoin\",\"SafeExchangeCoin\",\"Nebuchadnezzar\",\"Ratecoin\",\"Revenu\",\"Clockcoin\",\"VIP Tokens\",\"BitSend\",\"Let it Ride\",\"PutinCoin\",\"iBankCoin\",\"Frankywillcoin\",\"MudraCoin\",\"Lutetium Coin\",\"GoldBlocks\",\"CarterCoin\",\"BitTokens\",\"MustangCoin\",\"ZoneCoin\",\"RootCoin\",\"BitCurrency\",\"Swiscoin\",\"BuzzCoin\",\"Opair\",\"PesoBit\",\"Halloween Coin\",\"CoffeeCoin\",\"RoyalCoin\",\"GanjaCoin V2\",\"TeamUP\",\"LanaCoin\",\"ARK\",\"InsaneCoin\",\"EmberCoin\",\"XenixCoin\",\"FreeCoin\",\"PLNCoin\",\"AquariusCoin\",\"Creatio\",\"Eternity\",\"Eurocoin\",\"BitcoinFast\",\"Stakenet\",\"BitConnect Coin\",\"MoneyCoin\",\"Enigma\",\"Russiacoin\",\"PandaCoin\",\"GameUnits\",\"GAKHcoin\",\"Allsafe\",\"LiteCreed\",\"Klingon Empire Darsek\",\"Internet of People\",\"KushCoin\",\"Printerium\",\"Impeach\",\"Zilbercoin\",\"FirstCoin\",\"FindCoin\",\"OpenChat\",\"RenosCoin\",\"VirtacoinPlus\",\"TajCoin\",\"Impact\",\"Atmos\",\"HappyCoin\",\"MacronCoin\",\"Condensate\",\"Independent Money System\",\"ArgusCoin\",\"LomoCoin\",\"ProCurrency\",\"GoldReserve\",\"GrowthCoin\",\"Phreak\",\"Degas Coin\",\"HTML5 Coin\",\"Ultimate Secure Cash\",\"QTUM\",\"Espers\",\"Denarius\",\"Virta Unique Coin\",\"Bitcoin Planet\",\"BritCoin\",\"Linda\",\"DeepOnion\",\"Signatum\",\"Cream\",\"Monoeci\",\"Draftcoin\",\"Stakecoin\",\"CoinonatX\",\"Ethereum Dark\",\"Obsidian\",\"Cardano\",\"Regalcoin\",\"TrezarCoin\",\"TerraNovaCoin\",\"Rupee\",\"WomenCoin\",\"Theresa May Coin\",\"NamoCoin\",\"LUXCoin\",\"Xios\",\"Bitcloud 2.0\",\"KekCoin\",\"BlackholeCoin\",\"Infinity Economics\",\"Magnet\",\"Lamden Tau\",\"Electra\",\"Bitcoin Diamond\",\"Cash & Back Coin\",\"Bulwark\",\"Kalkulus\",\"GermanCoin\",\"LiteCoin Ultra\",\"PhantomX\",\"Digiwage\",\"Trollcoin\",\"Litecoin Plus\",\"Monkey Project\",\"TokenPay\",\"My Big Coin\",\"Unified Society USDEX\",\"Tokyo Coin\",\"LitecoinCash\",\"Stipend\",\"Pushi\",\"Ellerium\",\"Velox\",\"Ontology\",\"Bitspace\",\"Briacoin\",\"Ignition\",\"MedicCoin\",\"Bitcoin Green\",\"Deviant Coin\",\"Abjcoin\",\"Semux\",\"Carebit\",\"Zealium\",\"Proton\",\"iDealCash\",\"Bitcoin Incognito\",\"HollyWoodCoin\",\"Swisscoin\",\"Xt3ch\",\"TheVig\",\"EmaratCoin\",\"Dekado\",\"Lynx\",\"Poseidon Quark\",\"BitcoinWSpectrum\",\"Muse\",\"Trivechain\",\"Dystem\",\"Giant\",\"Peony Coin\",\"Absolute Coin\",\"Vitae\",\"TPCash\",\"ARENON\",\"EUNO\",\"MMOCoin\",\"Ketan\",\"XDNA\",\"PAXEX\",\"ThunderStake\",\"Kcash\",\"Bettex coin\",\"BitMoney\",\"Junson Ming Chan Coin\",\"HerbCoin\",\"Oduwa\",\"Galilel\",\"Crypto Sports\",\"Credit\",\"Dash Platinum\",\"Nasdacoin\",\"Beetle Coin\",\"Titan Coin\",\"Award\",\"Insane Coin\",\"ALAX\",\"LiteDoge\",\"TruckCoin\",\"OrangeCoin\",\"BitstarCoin\",\"NeosCoin\",\"HyperCoin\",\"PinkCoin\",\"AudioCoin\",\"IncaKoin\",\"Piggy Coin\",\"Genstake\",\"XiaoMiCoin\",\"CapriCoin\",\" ClubCoin\",\"Radium\",\"Creditbit \",\"OKCash\",\"Lisk\",\"HiCoin\",\"WhiteCoin\",\"FriendshipCoin\",\"Triangles Coin\",\"EOS\",\"Oxycoin\",\"TigerCash\",\"Particl\",\"Nxt\",\"ZEPHYR\",\"Gapcoin\",\"BitcoinPlus\"],\"TotalCoinSupply\":{\"__ndarray__\":\"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\",\"dtype\":\"float64\",\"order\":\"little\",\"shape\":[286]},\"TotalCoinsMined\":{\"__ndarray__\":\"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\",\"dtype\":\"float64\",\"order\":\"little\",\"shape\":[286]},\"class\":[0,0,0,0,0,0,0,0,0,0,0,0,0,0,0,0,0,0,0,0,0,0,0,0,0,0,0,0,0,0,0,0,0,0,0,0,0,0,0,0,0,0,0,0,0,0,0,0,0,0,0,0,0,0,0,0,0,0,0,0,0,0,0,0,0,0,0,0,0,0,0,0,0,0,0,0,0,0,0,0,0,0,0,0,0,0,0,0,0,0,0,0,0,0,0,0,0,0,0,0,0,0,0,0,0,0,0,0,0,0,0,0,0,0,0,0,0,0,0,0,0,0,0,0,0,0,0,0,0,0,0,0,0,0,0,0,0,0,0,0,0,0,0,0,0,0,0,0,0,0,0,0,0,0,0,0,0,0,0,0,0,0,0,0,0,0,0,0,0,0,0,0,0,0,0,0,0,0,0,0,0,0,0,0,0,0,0,0,0,0,0,0,0,0,0,0,0,0,0,0,0,0,0,0,0,0,0,0,0,0,0,0,0,0,0,0,0,0,0,0,0,0,0,0,0,0,0,0,0,0,0,0,0,0,0,0,0,0,0,0,0,0,0,0,0,0,0,0,0,0,0,0,0,0,0,0,0,0,0,0,0,0,0,0,0,0,0,0,0,0,0,0,0,0,0,0,0,0,0,0,0,0,0,0,0,0]},\"selected\":{\"id\":\"1218\"},\"selection_policy\":{\"id\":\"1232\"}},\"id\":\"1217\",\"type\":\"ColumnDataSource\"},{\"attributes\":{\"angle\":{\"value\":0.0},\"fill_alpha\":{\"value\":1.0},\"fill_color\":{\"value\":\"#6d904f\"},\"hatch_alpha\":{\"value\":1.0},\"hatch_color\":{\"value\":\"#6d904f\"},\"hatch_scale\":{\"value\":12.0},\"hatch_weight\":{\"value\":1.0},\"line_alpha\":{\"value\":1.0},\"line_cap\":{\"value\":\"butt\"},\"line_color\":{\"value\":\"#6d904f\"},\"line_dash\":{\"value\":[]},\"line_dash_offset\":{\"value\":0},\"line_join\":{\"value\":\"bevel\"},\"line_width\":{\"value\":1},\"marker\":{\"value\":\"circle\"},\"size\":{\"value\":5.477225575051661},\"x\":{\"field\":\"TotalCoinsMined\"},\"y\":{\"field\":\"TotalCoinSupply\"}},\"id\":\"1309\",\"type\":\"Scatter\"},{\"attributes\":{\"label\":{\"value\":\"3\"},\"renderers\":[{\"id\":\"1290\"}]},\"id\":\"1308\",\"type\":\"LegendItem\"},{\"attributes\":{},\"id\":\"1188\",\"type\":\"LinearScale\"},{\"attributes\":{\"angle\":{\"value\":0.0},\"fill_alpha\":{\"value\":1.0},\"fill_color\":{\"value\":\"#30a2da\"},\"hatch_alpha\":{\"value\":1.0},\"hatch_color\":{\"value\":\"#30a2da\"},\"hatch_scale\":{\"value\":12.0},\"hatch_weight\":{\"value\":1.0},\"line_alpha\":{\"value\":1.0},\"line_cap\":{\"value\":\"butt\"},\"line_color\":{\"value\":\"#30a2da\"},\"line_dash\":{\"value\":[]},\"line_dash_offset\":{\"value\":0},\"line_join\":{\"value\":\"bevel\"},\"line_width\":{\"value\":1},\"marker\":{\"value\":\"circle\"},\"size\":{\"value\":5.477225575051661},\"x\":{\"field\":\"TotalCoinsMined\"},\"y\":{\"field\":\"TotalCoinSupply\"}},\"id\":\"1237\",\"type\":\"Scatter\"},{\"attributes\":{\"axis_label\":\"TotalCoinSupply\",\"coordinates\":null,\"formatter\":{\"id\":\"1215\"},\"group\":null,\"major_label_policy\":{\"id\":\"1216\"},\"ticker\":{\"id\":\"1195\"}},\"id\":\"1194\",\"type\":\"LinearAxis\"},{\"attributes\":{\"axis_label\":\"TotalCoinsMined\",\"coordinates\":null,\"formatter\":{\"id\":\"1212\"},\"group\":null,\"major_label_policy\":{\"id\":\"1213\"},\"ticker\":{\"id\":\"1191\"}},\"id\":\"1190\",\"type\":\"LinearAxis\"},{\"attributes\":{\"coordinates\":null,\"data_source\":{\"id\":\"1260\"},\"glyph\":{\"id\":\"1263\"},\"group\":null,\"hover_glyph\":null,\"muted_glyph\":{\"id\":\"1265\"},\"nonselection_glyph\":{\"id\":\"1264\"},\"selection_glyph\":{\"id\":\"1283\"},\"view\":{\"id\":\"1267\"}},\"id\":\"1266\",\"type\":\"GlyphRenderer\"},{\"attributes\":{\"axis\":{\"id\":\"1194\"},\"coordinates\":null,\"dimension\":1,\"grid_line_color\":null,\"group\":null,\"ticker\":null},\"id\":\"1197\",\"type\":\"Grid\"},{\"attributes\":{\"source\":{\"id\":\"1284\"}},\"id\":\"1291\",\"type\":\"CDSView\"},{\"attributes\":{\"fill_color\":{\"value\":\"#6d904f\"},\"hatch_color\":{\"value\":\"#6d904f\"},\"line_color\":{\"value\":\"#6d904f\"},\"size\":{\"value\":5.477225575051661},\"x\":{\"field\":\"TotalCoinsMined\"},\"y\":{\"field\":\"TotalCoinSupply\"}},\"id\":\"1287\",\"type\":\"Scatter\"},{\"attributes\":{\"coordinates\":null,\"data_source\":{\"id\":\"1284\"},\"glyph\":{\"id\":\"1287\"},\"group\":null,\"hover_glyph\":null,\"muted_glyph\":{\"id\":\"1289\"},\"nonselection_glyph\":{\"id\":\"1288\"},\"selection_glyph\":{\"id\":\"1309\"},\"view\":{\"id\":\"1291\"}},\"id\":\"1290\",\"type\":\"GlyphRenderer\"},{\"attributes\":{},\"id\":\"1261\",\"type\":\"Selection\"},{\"attributes\":{\"label\":{\"value\":\"0\"},\"renderers\":[{\"id\":\"1223\"}]},\"id\":\"1236\",\"type\":\"LegendItem\"},{\"attributes\":{\"margin\":[5,5,5,5],\"name\":\"HSpacer02042\",\"sizing_mode\":\"stretch_width\"},\"id\":\"1454\",\"type\":\"Spacer\"},{\"attributes\":{\"angle\":{\"value\":0.0},\"fill_alpha\":{\"value\":1.0},\"fill_color\":{\"value\":\"#e5ae38\"},\"hatch_alpha\":{\"value\":1.0},\"hatch_color\":{\"value\":\"#e5ae38\"},\"hatch_scale\":{\"value\":12.0},\"hatch_weight\":{\"value\":1.0},\"line_alpha\":{\"value\":1.0},\"line_cap\":{\"value\":\"butt\"},\"line_color\":{\"value\":\"#e5ae38\"},\"line_dash\":{\"value\":[]},\"line_dash_offset\":{\"value\":0},\"line_join\":{\"value\":\"bevel\"},\"line_width\":{\"value\":1},\"marker\":{\"value\":\"circle\"},\"size\":{\"value\":5.477225575051661},\"x\":{\"field\":\"TotalCoinsMined\"},\"y\":{\"field\":\"TotalCoinSupply\"}},\"id\":\"1283\",\"type\":\"Scatter\"},{\"attributes\":{},\"id\":\"1216\",\"type\":\"AllLabels\"},{\"attributes\":{},\"id\":\"1198\",\"type\":\"SaveTool\"},{\"attributes\":{},\"id\":\"1285\",\"type\":\"Selection\"},{\"attributes\":{\"fill_color\":{\"value\":\"#e5ae38\"},\"hatch_color\":{\"value\":\"#e5ae38\"},\"line_color\":{\"value\":\"#e5ae38\"},\"size\":{\"value\":5.477225575051661},\"x\":{\"field\":\"TotalCoinsMined\"},\"y\":{\"field\":\"TotalCoinSupply\"}},\"id\":\"1263\",\"type\":\"Scatter\"},{\"attributes\":{},\"id\":\"1199\",\"type\":\"PanTool\"},{\"attributes\":{\"fill_alpha\":{\"value\":0.2},\"fill_color\":{\"value\":\"#e5ae38\"},\"hatch_alpha\":{\"value\":0.2},\"hatch_color\":{\"value\":\"#e5ae38\"},\"line_alpha\":{\"value\":0.2},\"line_color\":{\"value\":\"#e5ae38\"},\"size\":{\"value\":5.477225575051661},\"x\":{\"field\":\"TotalCoinsMined\"},\"y\":{\"field\":\"TotalCoinSupply\"}},\"id\":\"1265\",\"type\":\"Scatter\"},{\"attributes\":{},\"id\":\"1202\",\"type\":\"ResetTool\"},{\"attributes\":{},\"id\":\"1200\",\"type\":\"WheelZoomTool\"},{\"attributes\":{},\"id\":\"1212\",\"type\":\"BasicTickFormatter\"},{\"attributes\":{\"callback\":null,\"renderers\":[{\"id\":\"1223\"},{\"id\":\"1244\"},{\"id\":\"1266\"},{\"id\":\"1290\"}],\"tags\":[\"hv_created\"],\"tooltips\":[[\"class\",\"@{class}\"],[\"TotalCoinsMined\",\"@{TotalCoinsMined}\"],[\"TotalCoinSupply\",\"@{TotalCoinSupply}\"],[\"CoinName\",\"@{CoinName}\"]]},\"id\":\"1177\",\"type\":\"HoverTool\"},{\"attributes\":{\"overlay\":{\"id\":\"1203\"}},\"id\":\"1201\",\"type\":\"BoxZoomTool\"},{\"attributes\":{\"end\":1.1,\"reset_end\":1.1,\"reset_start\":-0.1,\"start\":-0.1,\"tags\":[[[\"TotalCoinSupply\",\"TotalCoinSupply\",null]]]},\"id\":\"1176\",\"type\":\"Range1d\"},{\"attributes\":{\"fill_alpha\":{\"value\":0.2},\"fill_color\":{\"value\":\"#30a2da\"},\"hatch_alpha\":{\"value\":0.2},\"hatch_color\":{\"value\":\"#30a2da\"},\"line_alpha\":{\"value\":0.2},\"line_color\":{\"value\":\"#30a2da\"},\"size\":{\"value\":5.477225575051661},\"x\":{\"field\":\"TotalCoinsMined\"},\"y\":{\"field\":\"TotalCoinSupply\"}},\"id\":\"1222\",\"type\":\"Scatter\"},{\"attributes\":{\"children\":[{\"id\":\"1174\"},{\"id\":\"1181\"},{\"id\":\"1454\"}],\"margin\":[0,0,0,0],\"name\":\"Row02037\",\"tags\":[\"embedded\"]},\"id\":\"1173\",\"type\":\"Row\"},{\"attributes\":{},\"id\":\"1239\",\"type\":\"Selection\"},{\"attributes\":{\"tools\":[{\"id\":\"1177\"},{\"id\":\"1198\"},{\"id\":\"1199\"},{\"id\":\"1200\"},{\"id\":\"1201\"},{\"id\":\"1202\"}]},\"id\":\"1204\",\"type\":\"Toolbar\"},{\"attributes\":{\"fill_color\":{\"value\":\"#30a2da\"},\"hatch_color\":{\"value\":\"#30a2da\"},\"line_color\":{\"value\":\"#30a2da\"},\"size\":{\"value\":5.477225575051661},\"x\":{\"field\":\"TotalCoinsMined\"},\"y\":{\"field\":\"TotalCoinSupply\"}},\"id\":\"1220\",\"type\":\"Scatter\"},{\"attributes\":{\"source\":{\"id\":\"1217\"}},\"id\":\"1224\",\"type\":\"CDSView\"},{\"attributes\":{\"coordinates\":null,\"data_source\":{\"id\":\"1217\"},\"glyph\":{\"id\":\"1220\"},\"group\":null,\"hover_glyph\":null,\"muted_glyph\":{\"id\":\"1222\"},\"nonselection_glyph\":{\"id\":\"1221\"},\"selection_glyph\":{\"id\":\"1237\"},\"view\":{\"id\":\"1224\"}},\"id\":\"1223\",\"type\":\"GlyphRenderer\"},{\"attributes\":{\"data\":{\"CoinName\":[\"Vechain\",\"BiblePay\",\"Poa Network\",\"Acute Angle Cloud\",\"Waves\"],\"TotalCoinSupply\":{\"__ndarray__\":\"+nQumcwytj+U9gZfmEx1P4RaKOGWizA//Knx0k1iUD8sQxzr4jYaPw==\",\"dtype\":\"float64\",\"order\":\"little\",\"shape\":[5]},\"TotalCoinsMined\":{\"__ndarray__\":\"zaDgBxGurD+PWA2R2lNdP5wZJXiPEis/ekNDBbiMUD/7RX5gv3oaPw==\",\"dtype\":\"float64\",\"order\":\"little\",\"shape\":[5]},\"class\":[3,3,3,3,3]},\"selected\":{\"id\":\"1285\"},\"selection_policy\":{\"id\":\"1305\"}},\"id\":\"1284\",\"type\":\"ColumnDataSource\"},{\"attributes\":{\"fill_alpha\":{\"value\":0.1},\"fill_color\":{\"value\":\"#6d904f\"},\"hatch_alpha\":{\"value\":0.1},\"hatch_color\":{\"value\":\"#6d904f\"},\"line_alpha\":{\"value\":0.1},\"line_color\":{\"value\":\"#6d904f\"},\"size\":{\"value\":5.477225575051661},\"x\":{\"field\":\"TotalCoinsMined\"},\"y\":{\"field\":\"TotalCoinSupply\"}},\"id\":\"1288\",\"type\":\"Scatter\"},{\"attributes\":{\"bottom_units\":\"screen\",\"coordinates\":null,\"fill_alpha\":0.5,\"fill_color\":\"lightgrey\",\"group\":null,\"left_units\":\"screen\",\"level\":\"overlay\",\"line_alpha\":1.0,\"line_color\":\"black\",\"line_dash\":[4,4],\"line_width\":2,\"right_units\":\"screen\",\"syncable\":false,\"top_units\":\"screen\"},\"id\":\"1203\",\"type\":\"BoxAnnotation\"},{\"attributes\":{\"fill_alpha\":{\"value\":0.1},\"fill_color\":{\"value\":\"#30a2da\"},\"hatch_alpha\":{\"value\":0.1},\"hatch_color\":{\"value\":\"#30a2da\"},\"line_alpha\":{\"value\":0.1},\"line_color\":{\"value\":\"#30a2da\"},\"size\":{\"value\":5.477225575051661},\"x\":{\"field\":\"TotalCoinsMined\"},\"y\":{\"field\":\"TotalCoinSupply\"}},\"id\":\"1221\",\"type\":\"Scatter\"},{\"attributes\":{\"fill_alpha\":{\"value\":0.2},\"fill_color\":{\"value\":\"#6d904f\"},\"hatch_alpha\":{\"value\":0.2},\"hatch_color\":{\"value\":\"#6d904f\"},\"line_alpha\":{\"value\":0.2},\"line_color\":{\"value\":\"#6d904f\"},\"size\":{\"value\":5.477225575051661},\"x\":{\"field\":\"TotalCoinsMined\"},\"y\":{\"field\":\"TotalCoinSupply\"}},\"id\":\"1289\",\"type\":\"Scatter\"}],\"root_ids\":[\"1173\"]},\"title\":\"Bokeh Application\",\"version\":\"2.4.1\"}};\n",
       "    var render_items = [{\"docid\":\"46d7e489-c223-470e-935a-7159e49207ad\",\"root_ids\":[\"1173\"],\"roots\":{\"1173\":\"0423b369-a834-4c62-b6f4-134887954391\"}}];\n",
       "    root.Bokeh.embed.embed_items_notebook(docs_json, render_items);\n",
       "  }\n",
       "  if (root.Bokeh !== undefined && root.Bokeh.Panel !== undefined) {\n",
       "    embed_document(root);\n",
       "  } else {\n",
       "    var attempts = 0;\n",
       "    var timer = setInterval(function(root) {\n",
       "      if (root.Bokeh !== undefined && root.Bokeh.Panel !== undefined) {\n",
       "        clearInterval(timer);\n",
       "        embed_document(root);\n",
       "      } else if (document.readyState == \"complete\") {\n",
       "        attempts++;\n",
       "        if (attempts > 200) {\n",
       "          clearInterval(timer);\n",
       "          console.log(\"Bokeh: ERROR: Unable to run BokehJS code because BokehJS library is missing\");\n",
       "        }\n",
       "      }\n",
       "    }, 25, root)\n",
       "  }\n",
       "})(window);</script>"
      ],
      "text/plain": [
       ":NdOverlay   [class]\n",
       "   :Scatter   [TotalCoinsMined]   (TotalCoinSupply,CoinName)"
      ]
     },
     "execution_count": 92,
     "metadata": {
      "application/vnd.holoviews_exec.v0+json": {
       "id": "1173"
      }
     },
     "output_type": "execute_result"
    }
   ],
   "source": [
    "# Create a hvplot.scatter plot using x=\"TotalCoinsMined\" and y=\"TotalCoinSupply\".\n",
    "scaled_clustered_df.hvplot.scatter(\n",
    "    x=\"TotalCoinsMined\",\n",
    "    y=\"TotalCoinSupply\",\n",
    "    hover_cols=[\"CoinName\"],\n",
    "    by=\"class\",)\n"
   ]
  },
  {
   "cell_type": "code",
   "execution_count": null,
   "metadata": {},
   "outputs": [],
   "source": []
  }
 ],
 "metadata": {
  "file_extension": ".py",
  "kernelspec": {
   "display_name": "mlenv",
   "language": "python",
   "name": "mlenv"
  },
  "language_info": {
   "codemirror_mode": {
    "name": "ipython",
    "version": 3
   },
   "file_extension": ".py",
   "mimetype": "text/x-python",
   "name": "python",
   "nbconvert_exporter": "python",
   "pygments_lexer": "ipython3",
   "version": "3.7.11"
  },
  "latex_envs": {
   "LaTeX_envs_menu_present": true,
   "autoclose": false,
   "autocomplete": true,
   "bibliofile": "biblio.bib",
   "cite_by": "apalike",
   "current_citInitial": 1,
   "eqLabelWithNumbers": true,
   "eqNumInitial": 1,
   "hotkeys": {
    "equation": "Ctrl-E",
    "itemize": "Ctrl-I"
   },
   "labels_anchors": false,
   "latex_user_defs": false,
   "report_style_numbering": false,
   "user_envs_cfg": false
  },
  "mimetype": "text/x-python",
  "name": "python",
  "npconvert_exporter": "python",
  "pygments_lexer": "ipython3",
  "version": 3
 },
 "nbformat": 4,
 "nbformat_minor": 2
}
